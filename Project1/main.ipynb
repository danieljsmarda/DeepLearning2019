{
 "cells": [
  {
   "cell_type": "markdown",
   "metadata": {},
   "source": [
    "### Import models and load data"
   ]
  },
  {
   "cell_type": "code",
   "execution_count": 1,
   "metadata": {},
   "outputs": [
    {
     "name": "stderr",
     "output_type": "stream",
     "text": [
      "C:\\Users\\DanielSmarda\\Anaconda3\\lib\\site-packages\\torchvision\\datasets\\mnist.py:53: UserWarning: train_data has been renamed data\n",
      "  warnings.warn(\"train_data has been renamed data\")\n",
      "C:\\Users\\DanielSmarda\\Anaconda3\\lib\\site-packages\\torchvision\\datasets\\mnist.py:43: UserWarning: train_labels has been renamed targets\n",
      "  warnings.warn(\"train_labels has been renamed targets\")\n",
      "C:\\Users\\DanielSmarda\\Anaconda3\\lib\\site-packages\\torchvision\\datasets\\mnist.py:58: UserWarning: test_data has been renamed data\n",
      "  warnings.warn(\"test_data has been renamed data\")\n",
      "C:\\Users\\DanielSmarda\\Anaconda3\\lib\\site-packages\\torchvision\\datasets\\mnist.py:48: UserWarning: test_labels has been renamed targets\n",
      "  warnings.warn(\"test_labels has been renamed targets\")\n"
     ]
    }
   ],
   "source": [
    "from torchvision import datasets\n",
    "import torch\n",
    "import dlc_practical_prologue as prologue\n",
    "import matplotlib.pyplot as plt\n",
    "\n",
    "# Import all models\n",
    "from BaseNet import *\n",
    "from ConvNet1 import *\n",
    "#from NetSharing import *\n",
    "\n",
    "mini_batch_size = 1000\n",
    "nb_epochs = 300\n",
    "nb_runs = 2\n",
    "eta = 0.001\n",
    "\n",
    "train_input, train_target, train_classes, test_input, test_target, test_classes = \\\n",
    "    prologue.generate_pair_sets(nb=1000)"
   ]
  },
  {
   "cell_type": "markdown",
   "metadata": {},
   "source": [
    "### 1channel2images"
   ]
  },
  {
   "cell_type": "code",
   "execution_count": 2,
   "metadata": {
    "scrolled": true
   },
   "outputs": [
    {
     "name": "stdout",
     "output_type": "stream",
     "text": [
      "Working with 1channel2images framework, nb_classes =  10\n"
     ]
    },
    {
     "ename": "KeyboardInterrupt",
     "evalue": "",
     "output_type": "error",
     "traceback": [
      "\u001b[0;31m---------------------------------------------------------------------------\u001b[0m",
      "\u001b[0;31mKeyboardInterrupt\u001b[0m                         Traceback (most recent call last)",
      "\u001b[0;32m<ipython-input-2-686e33a02570>\u001b[0m in \u001b[0;36m<module>\u001b[0;34m\u001b[0m\n\u001b[1;32m     10\u001b[0m \u001b[0moptimizer_1C\u001b[0m \u001b[0;34m=\u001b[0m \u001b[0mtorch\u001b[0m\u001b[0;34m.\u001b[0m\u001b[0moptim\u001b[0m\u001b[0;34m.\u001b[0m\u001b[0mSGD\u001b[0m\u001b[0;34m(\u001b[0m\u001b[0mmodel_1C\u001b[0m\u001b[0;34m.\u001b[0m\u001b[0mparameters\u001b[0m\u001b[0;34m(\u001b[0m\u001b[0;34m)\u001b[0m\u001b[0;34m,\u001b[0m \u001b[0mlr\u001b[0m\u001b[0;34m=\u001b[0m\u001b[0meta\u001b[0m\u001b[0;34m,\u001b[0m \u001b[0mmomentum\u001b[0m\u001b[0;34m=\u001b[0m\u001b[0;36m0.95\u001b[0m\u001b[0;34m)\u001b[0m\u001b[0;34m\u001b[0m\u001b[0;34m\u001b[0m\u001b[0m\n\u001b[1;32m     11\u001b[0m test_results_1C = multiple_training_runs(model_1C, 2, optimizer_1C, train_input, train_classes,\n\u001b[0;32m---> 12\u001b[0;31m                                       test_input, test_target, test_classes, mini_batch_size, nb_epochs)\n\u001b[0m\u001b[1;32m     13\u001b[0m \u001b[0mwrite_to_csv\u001b[0m\u001b[0;34m(\u001b[0m\u001b[0;34m'1channel2images.csv'\u001b[0m\u001b[0;34m,\u001b[0m \u001b[0mmodel_1C\u001b[0m\u001b[0;34m,\u001b[0m \u001b[0mtest_results_1C\u001b[0m\u001b[0;34m)\u001b[0m\u001b[0;34m\u001b[0m\u001b[0;34m\u001b[0m\u001b[0m\n",
      "\u001b[0;32m~/Documents/EPFL/DeepLearning2019/Project1/_1channel2images.py\u001b[0m in \u001b[0;36mmultiple_training_runs\u001b[0;34m(model, nb_runs, optimizer, train_input, train_classes, test_input, test_target, test_classes, mini_batch_size, nb_epochs)\u001b[0m\n\u001b[1;32m    176\u001b[0m     \u001b[0;32mfor\u001b[0m \u001b[0mi\u001b[0m \u001b[0;32min\u001b[0m \u001b[0mrange\u001b[0m\u001b[0;34m(\u001b[0m\u001b[0mnb_runs\u001b[0m\u001b[0;34m)\u001b[0m\u001b[0;34m:\u001b[0m\u001b[0;34m\u001b[0m\u001b[0;34m\u001b[0m\u001b[0m\n\u001b[1;32m    177\u001b[0m         \u001b[0mmodel\u001b[0m\u001b[0;34m.\u001b[0m\u001b[0mload_state_dict\u001b[0m\u001b[0;34m(\u001b[0m\u001b[0minitial_model_wts\u001b[0m\u001b[0;34m)\u001b[0m\u001b[0;34m\u001b[0m\u001b[0;34m\u001b[0m\u001b[0m\n\u001b[0;32m--> 178\u001b[0;31m         \u001b[0mmodel\u001b[0m\u001b[0;34m,\u001b[0m \u001b[0mtime_elapsed\u001b[0m \u001b[0;34m=\u001b[0m \u001b[0mtrain_model_1C\u001b[0m\u001b[0;34m(\u001b[0m\u001b[0mmodel\u001b[0m\u001b[0;34m,\u001b[0m \u001b[0mtrain_input\u001b[0m\u001b[0;34m,\u001b[0m \u001b[0mtrain_classes\u001b[0m\u001b[0;34m,\u001b[0m \u001b[0moptimizer\u001b[0m\u001b[0;34m,\u001b[0m \u001b[0mmini_batch_size\u001b[0m\u001b[0;34m=\u001b[0m\u001b[0mmini_batch_size\u001b[0m\u001b[0;34m,\u001b[0m \u001b[0mnb_epochs\u001b[0m\u001b[0;34m=\u001b[0m\u001b[0mnb_epochs\u001b[0m\u001b[0;34m)\u001b[0m\u001b[0;34m\u001b[0m\u001b[0;34m\u001b[0m\u001b[0m\n\u001b[0m\u001b[1;32m    179\u001b[0m         \u001b[0mlist_time\u001b[0m\u001b[0;34m.\u001b[0m\u001b[0mappend\u001b[0m\u001b[0;34m(\u001b[0m\u001b[0mtime_elapsed\u001b[0m\u001b[0;34m)\u001b[0m\u001b[0;34m\u001b[0m\u001b[0;34m\u001b[0m\u001b[0m\n\u001b[1;32m    180\u001b[0m \u001b[0;34m\u001b[0m\u001b[0m\n",
      "\u001b[0;32m~/Documents/EPFL/DeepLearning2019/Project1/_1channel2images.py\u001b[0m in \u001b[0;36mtrain_model_1C\u001b[0;34m(model, train_input, train_classes, optimizer, mini_batch_size, nb_epochs)\u001b[0m\n\u001b[1;32m     51\u001b[0m \u001b[0;34m\u001b[0m\u001b[0m\n\u001b[1;32m     52\u001b[0m                     \u001b[0;32mif\u001b[0m \u001b[0mphase\u001b[0m \u001b[0;34m==\u001b[0m \u001b[0;34m'train'\u001b[0m\u001b[0;34m:\u001b[0m\u001b[0;34m\u001b[0m\u001b[0;34m\u001b[0m\u001b[0m\n\u001b[0;32m---> 53\u001b[0;31m                         \u001b[0mloss\u001b[0m\u001b[0;34m.\u001b[0m\u001b[0mbackward\u001b[0m\u001b[0;34m(\u001b[0m\u001b[0;34m)\u001b[0m\u001b[0;34m\u001b[0m\u001b[0;34m\u001b[0m\u001b[0m\n\u001b[0m\u001b[1;32m     54\u001b[0m                         \u001b[0moptimizer\u001b[0m\u001b[0;34m.\u001b[0m\u001b[0mstep\u001b[0m\u001b[0;34m(\u001b[0m\u001b[0;34m)\u001b[0m\u001b[0;34m\u001b[0m\u001b[0;34m\u001b[0m\u001b[0m\n\u001b[1;32m     55\u001b[0m \u001b[0;34m\u001b[0m\u001b[0m\n",
      "\u001b[0;32m/usr/local/lib/python3.7/site-packages/torch/tensor.py\u001b[0m in \u001b[0;36mbackward\u001b[0;34m(self, gradient, retain_graph, create_graph)\u001b[0m\n\u001b[1;32m    100\u001b[0m                 \u001b[0mproducts\u001b[0m\u001b[0;34m.\u001b[0m \u001b[0mDefaults\u001b[0m \u001b[0mto\u001b[0m\u001b[0;31m \u001b[0m\u001b[0;31m`\u001b[0m\u001b[0;31m`\u001b[0m\u001b[0;32mFalse\u001b[0m\u001b[0;31m`\u001b[0m\u001b[0;31m`\u001b[0m\u001b[0;34m.\u001b[0m\u001b[0;34m\u001b[0m\u001b[0;34m\u001b[0m\u001b[0m\n\u001b[1;32m    101\u001b[0m         \"\"\"\n\u001b[0;32m--> 102\u001b[0;31m         \u001b[0mtorch\u001b[0m\u001b[0;34m.\u001b[0m\u001b[0mautograd\u001b[0m\u001b[0;34m.\u001b[0m\u001b[0mbackward\u001b[0m\u001b[0;34m(\u001b[0m\u001b[0mself\u001b[0m\u001b[0;34m,\u001b[0m \u001b[0mgradient\u001b[0m\u001b[0;34m,\u001b[0m \u001b[0mretain_graph\u001b[0m\u001b[0;34m,\u001b[0m \u001b[0mcreate_graph\u001b[0m\u001b[0;34m)\u001b[0m\u001b[0;34m\u001b[0m\u001b[0;34m\u001b[0m\u001b[0m\n\u001b[0m\u001b[1;32m    103\u001b[0m \u001b[0;34m\u001b[0m\u001b[0m\n\u001b[1;32m    104\u001b[0m     \u001b[0;32mdef\u001b[0m \u001b[0mregister_hook\u001b[0m\u001b[0;34m(\u001b[0m\u001b[0mself\u001b[0m\u001b[0;34m,\u001b[0m \u001b[0mhook\u001b[0m\u001b[0;34m)\u001b[0m\u001b[0;34m:\u001b[0m\u001b[0;34m\u001b[0m\u001b[0;34m\u001b[0m\u001b[0m\n",
      "\u001b[0;32m/usr/local/lib/python3.7/site-packages/torch/autograd/__init__.py\u001b[0m in \u001b[0;36mbackward\u001b[0;34m(tensors, grad_tensors, retain_graph, create_graph, grad_variables)\u001b[0m\n\u001b[1;32m     88\u001b[0m     Variable._execution_engine.run_backward(\n\u001b[1;32m     89\u001b[0m         \u001b[0mtensors\u001b[0m\u001b[0;34m,\u001b[0m \u001b[0mgrad_tensors\u001b[0m\u001b[0;34m,\u001b[0m \u001b[0mretain_graph\u001b[0m\u001b[0;34m,\u001b[0m \u001b[0mcreate_graph\u001b[0m\u001b[0;34m,\u001b[0m\u001b[0;34m\u001b[0m\u001b[0;34m\u001b[0m\u001b[0m\n\u001b[0;32m---> 90\u001b[0;31m         allow_unreachable=True)  # allow_unreachable flag\n\u001b[0m\u001b[1;32m     91\u001b[0m \u001b[0;34m\u001b[0m\u001b[0m\n\u001b[1;32m     92\u001b[0m \u001b[0;34m\u001b[0m\u001b[0m\n",
      "\u001b[0;31mKeyboardInterrupt\u001b[0m: "
     ]
    }
   ],
   "source": [
    "from importlib import reload\n",
    "import _1channel2images\n",
    "reload(_1channel2images)\n",
    "from _1channel2images import *\n",
    "\n",
    "print(\"Working with 1channel2images framework, nb_classes = \", nb_classes)\n",
    "\n",
    "#model = BaseNet1C(nb_classes)\n",
    "model_1C = ConvNet1_1C(nb_classes)\n",
    "optimizer_1C = torch.optim.SGD(model_1C.parameters(), lr=eta, momentum=0.95)\n",
    "test_results_1C = multiple_training_runs(model_1C, 2, optimizer_1C, train_input, train_classes,\n",
    "                                      test_input, test_target, test_classes, mini_batch_size, nb_epochs)\n",
    "write_to_csv('1channel2images.csv', model_1C, test_results_1C)"
   ]
  },
  {
   "cell_type": "code",
   "execution_count": null,
   "metadata": {},
   "outputs": [],
   "source": [
    "# This is just for visualization of our results but it will have to be taken away for the report \n",
    "# since we can't use any additional libraries\n",
    "import pandas as pd\n",
    "\n",
    "print(test_results_1C)\n",
    "write_to_csv('1channel2images.csv', model_1C, test_results_1C)\n",
    "data = pd.read_csv('1channel2images.csv')\n",
    "data.head()"
   ]
  },
  {
   "cell_type": "markdown",
   "metadata": {},
   "source": [
    "### 2channels1image"
   ]
  },
  {
   "cell_type": "code",
   "execution_count": null,
   "metadata": {},
   "outputs": [],
   "source": [
    "import _2channels1image\n",
    "reload(_2channels1image)\n",
    "from _2channels1image import *\n",
    "\n",
    "print(\"Working with 2channels1image framework, nb_classes = \", nb_classes)\n",
    "\n",
    "model_2C = ConvNet1_2C(nb_classes)\n",
    "optimizer_2C = torch.optim.SGD(model_2C.parameters(), lr=0.00001, momentum=0.95)  \n",
    "test_results_2C = multiple_training_runs(model_2C, 2, optimizer_2C, train_input, train_target,\n",
    "                           test_input, test_target, mini_batch_size, nb_epochs)\n",
    "write_to_csv('2channels1image.csv', model_2C, test_results_2C)"
   ]
  },
  {
   "cell_type": "code",
   "execution_count": null,
   "metadata": {},
   "outputs": [],
   "source": [
    "print(test_results_2C)\n",
    "write_to_csv('2channels1image.csv', model_2C, test_results_2C)\n",
    "data = pd.read_csv('2channels1image.csv')\n",
    "data.head()"
   ]
  },
  {
   "cell_type": "markdown",
   "metadata": {},
   "source": [
    "### Weight Sharing"
   ]
  },
  {
   "cell_type": "code",
   "execution_count": null,
   "metadata": {},
   "outputs": [],
   "source": [
    "import weight_sharing\n",
    "reload(weight_sharing)\n",
    "from weight_sharing import *\n",
    "\n",
    "print(\"Working with weight_sharing framework\")\n",
    "\n",
    "model_ws = NetSharing1()\n",
    "optimizer_ws = torch.optim.SGD(model_ws.parameters(), lr=0.00001, momentum=0.95)  \n",
    "test_results_ws = multiple_training_runs(model_ws, nb_runs, optimizer_ws, train_input, train_target,\n",
    "                           test_input, test_target, mini_batch_size, nb_epochs)\n",
    "write_to_csv('weightsharing.csv', model_ws, test_results_ws)"
   ]
  },
  {
   "cell_type": "code",
   "execution_count": null,
   "metadata": {},
   "outputs": [],
   "source": [
    "print(test_results_ws)\n",
    "write_to_csv('weightsharing.csv', model_ws, test_results_ws)\n",
    "data = pd.read_csv('weightsharing.csv')\n",
    "data.head()"
   ]
  },
  {
   "cell_type": "markdown",
   "metadata": {},
   "source": [
    "### Auxiliary Losses"
   ]
  },
  {
   "cell_type": "code",
   "execution_count": null,
   "metadata": {},
   "outputs": [],
   "source": [
    "import auxiliary_losses\n",
    "reload(auxiliary_losses)\n",
    "from auxiliary_losses import *\n",
    "import Incept1\n",
    "reload(Incept1)\n",
    "from Incept1 import *\n",
    "nb_epochs = 300\n",
    "print(\"Working with auxiliary losses framework\")\n",
    "\n",
    "model_aux = Incept1()\n",
    "optimizer_aux = torch.optim.SGD(model_aux.parameters(), lr=0.00001, momentum=0.95)  \n",
    "test_results_aux = multiple_training_runs(model_aux, nb_runs, optimizer_aux, train_input, train_target, train_classes, \n",
    "                                          test_input, test_target, test_classes, mini_batch_size, nb_epochs)\n",
    "write_to_csv('auxiliary_losses.csv', model_aux, test_results_aux)"
   ]
  },
  {
   "cell_type": "code",
   "execution_count": null,
   "metadata": {},
   "outputs": [],
   "source": [
    "print(test_results_aux)\n",
    "write_to_csv('auxiliary_losses.csv', model_aux, test_results_aux)\n",
    "data = pd.read_csv('auxiliary_losses.csv')\n",
    "data.head()"
   ]
  },
  {
   "cell_type": "markdown",
   "metadata": {},
   "source": [
    "## Weight Sharing and Auxiliary Loss Models(Youssef)"
   ]
  },
  {
   "cell_type": "code",
   "execution_count": 1,
   "metadata": {},
   "outputs": [
    {
     "ename": "NameError",
     "evalue": "name 'train_input' is not defined",
     "output_type": "error",
     "traceback": [
      "\u001b[1;31m---------------------------------------------------------------------------\u001b[0m",
      "\u001b[1;31mNameError\u001b[0m                                 Traceback (most recent call last)",
      "\u001b[1;32m<ipython-input-1-4818296314ff>\u001b[0m in \u001b[0;36m<module>\u001b[1;34m\u001b[0m\n\u001b[1;32m----> 1\u001b[1;33m \u001b[0mprint\u001b[0m\u001b[1;33m(\u001b[0m\u001b[0mtrain_input\u001b[0m\u001b[1;33m.\u001b[0m\u001b[0mshape\u001b[0m\u001b[1;33m,\u001b[0m \u001b[0mtrain_target\u001b[0m\u001b[1;33m.\u001b[0m\u001b[0mshape\u001b[0m\u001b[1;33m,\u001b[0m \u001b[0mtrain_classes\u001b[0m\u001b[1;33m.\u001b[0m\u001b[0mshape\u001b[0m\u001b[1;33m,\u001b[0m \u001b[0mtest_input\u001b[0m\u001b[1;33m.\u001b[0m\u001b[0mshape\u001b[0m\u001b[1;33m,\u001b[0m \u001b[0mtest_target\u001b[0m\u001b[1;33m.\u001b[0m\u001b[0mshape\u001b[0m\u001b[1;33m,\u001b[0m \u001b[0mtest_classes\u001b[0m\u001b[1;33m.\u001b[0m\u001b[0mshape\u001b[0m\u001b[1;33m)\u001b[0m\u001b[1;33m\u001b[0m\u001b[1;33m\u001b[0m\u001b[0m\n\u001b[0m",
      "\u001b[1;31mNameError\u001b[0m: name 'train_input' is not defined"
     ]
    }
   ],
   "source": [
    "print(train_input.shape, train_target.shape, train_classes.shape, test_input.shape, test_target.shape, test_classes.shape)"
   ]
  },
  {
   "cell_type": "code",
   "execution_count": 2,
   "metadata": {},
   "outputs": [],
   "source": [
    "from torch.autograd import Variable\n",
    "from WSharingModel import *\n",
    "from torch import nn, optim\n",
    "from torch.nn import CrossEntropyLoss\n",
    "from torch.nn import BCEWithLogitsLoss\n",
    "import torch\n",
    "from torchvision import datasets\n",
    "from torch import optim\n",
    "import dlc_practical_prologue as prologue\n",
    "from AuxModel import *\n",
    "from torch.autograd import Variable\n",
    "from torch.nn import functional as F\n",
    "from time import time\n",
    "from SimpleCNN import *\n"
   ]
  },
  {
   "cell_type": "markdown",
   "metadata": {},
   "source": [
    "#### Function that draws the evolution of the loss during training."
   ]
  },
  {
   "cell_type": "code",
   "execution_count": 3,
   "metadata": {},
   "outputs": [],
   "source": [
    "def visualize_loss(model,loss_model,lr):\n",
    "    plt.plot(loss_model[0],loss_model[1], color='orange')\n",
    "    plt.xlabel('Epochs')\n",
    "    plt.ylabel('Loss')\n",
    "    plt.title('Evolution of the loss during training with learning rate {:>5} of the model {:>5}.'.format(lr,model.__class__.__name__))\n",
    "    plt.show()"
   ]
  },
  {
   "cell_type": "markdown",
   "metadata": {},
   "source": [
    "#### Function that prints the results of the prediction one the model is trained."
   ]
  },
  {
   "cell_type": "code",
   "execution_count": 4,
   "metadata": {},
   "outputs": [],
   "source": [
    "def print_results(model,optimizer,learning_rate,NB_EPOCHS,MINI_BATCH_SIZE, train_input, train_target,test_input, test_target, time_diff):\n",
    "     print('model: {:6}, optimizer: {:6}, learning rate: {:6}, num epochs: {:3}, '\n",
    "                    'mini batch size: {:3}, train error: {:5.2f}%, test error: {:5.2f}%, time: {:.3f}'.format(\n",
    "                    model.__class__.__name__,\n",
    "                    optimizer.__name__,\n",
    "                    learning_rate,\n",
    "                    NB_EPOCHS,\n",
    "                    MINI_BATCH_SIZE,\n",
    "                    model.compute_nb_errors(model, train_input, train_target, MINI_BATCH_SIZE) / train_input.size(0) * 100,\n",
    "                    model.compute_nb_errors(model, test_input, test_target, MINI_BATCH_SIZE) / test_input.size(0) * 100,\n",
    "                    time_diff\n",
    "                    )\n",
    "                )"
   ]
  },
  {
   "cell_type": "markdown",
   "metadata": {},
   "source": [
    "### Treatement of our Training and Testing Data."
   ]
  },
  {
   "cell_type": "code",
   "execution_count": 5,
   "metadata": {},
   "outputs": [
    {
     "ename": "NameError",
     "evalue": "name 'train_input' is not defined",
     "output_type": "error",
     "traceback": [
      "\u001b[1;31m---------------------------------------------------------------------------\u001b[0m",
      "\u001b[1;31mNameError\u001b[0m                                 Traceback (most recent call last)",
      "\u001b[1;32m<ipython-input-5-1816c160e96e>\u001b[0m in \u001b[0;36m<module>\u001b[1;34m\u001b[0m\n\u001b[0;32m      1\u001b[0m \u001b[1;31m# normalize it\u001b[0m\u001b[1;33m\u001b[0m\u001b[1;33m\u001b[0m\u001b[1;33m\u001b[0m\u001b[0m\n\u001b[1;32m----> 2\u001b[1;33m \u001b[0mmean\u001b[0m\u001b[1;33m,\u001b[0m \u001b[0mstd\u001b[0m \u001b[1;33m=\u001b[0m \u001b[0mtrain_input\u001b[0m\u001b[1;33m.\u001b[0m\u001b[0mmean\u001b[0m\u001b[1;33m(\u001b[0m\u001b[1;33m)\u001b[0m\u001b[1;33m,\u001b[0m \u001b[0mtrain_input\u001b[0m\u001b[1;33m.\u001b[0m\u001b[0mstd\u001b[0m\u001b[1;33m(\u001b[0m\u001b[1;33m)\u001b[0m\u001b[1;33m\u001b[0m\u001b[1;33m\u001b[0m\u001b[0m\n\u001b[0m\u001b[0;32m      3\u001b[0m \u001b[0mtrain_input\u001b[0m\u001b[1;33m.\u001b[0m\u001b[0msub_\u001b[0m\u001b[1;33m(\u001b[0m\u001b[0mmean\u001b[0m\u001b[1;33m)\u001b[0m\u001b[1;33m.\u001b[0m\u001b[0mdiv_\u001b[0m\u001b[1;33m(\u001b[0m\u001b[0mstd\u001b[0m\u001b[1;33m)\u001b[0m\u001b[1;33m\u001b[0m\u001b[1;33m\u001b[0m\u001b[0m\n\u001b[0;32m      4\u001b[0m \u001b[0mtest_input\u001b[0m\u001b[1;33m.\u001b[0m\u001b[0msub_\u001b[0m\u001b[1;33m(\u001b[0m\u001b[0mmean\u001b[0m\u001b[1;33m)\u001b[0m\u001b[1;33m.\u001b[0m\u001b[0mdiv_\u001b[0m\u001b[1;33m(\u001b[0m\u001b[0mstd\u001b[0m\u001b[1;33m)\u001b[0m\u001b[1;33m\u001b[0m\u001b[1;33m\u001b[0m\u001b[0m\n\u001b[0;32m      5\u001b[0m \u001b[1;33m\u001b[0m\u001b[0m\n",
      "\u001b[1;31mNameError\u001b[0m: name 'train_input' is not defined"
     ]
    }
   ],
   "source": [
    "# normalize it\n",
    "mean, std = train_input.mean(), train_input.std() \n",
    "train_input.sub_(mean).div_(std)\n",
    "test_input.sub_(mean).div_(std)\n",
    "\n",
    "train_input, train_target, train_classes = Variable(train_input), Variable(train_target), Variable(train_classes)\n",
    "test_input, test_target = Variable(test_input), Variable(test_target)"
   ]
  },
  {
   "cell_type": "markdown",
   "metadata": {},
   "source": [
    "### We define our Learning parameters."
   ]
  },
  {
   "cell_type": "code",
   "execution_count": 6,
   "metadata": {},
   "outputs": [],
   "source": [
    "NB_EPOCHS = 25\n",
    "MINI_BATCH_SIZE = 100\n",
    "learning_rates = [0.1, 0.01]"
   ]
  },
  {
   "cell_type": "markdown",
   "metadata": {},
   "source": [
    "### We define our optimizers and losses and weights for the auxiliary losses."
   ]
  },
  {
   "cell_type": "code",
   "execution_count": 7,
   "metadata": {},
   "outputs": [],
   "source": [
    "op = torch.optim.SGD\n",
    "losses = [CrossEntropyLoss(),BCEWithLogitsLoss()]\n",
    "alpha = 0.5\n",
    "beta = 1"
   ]
  },
  {
   "cell_type": "markdown",
   "metadata": {},
   "source": [
    "### Training of Different Models and Results on Training and Testing set."
   ]
  },
  {
   "cell_type": "code",
   "execution_count": 10,
   "metadata": {
    "scrolled": true
   },
   "outputs": [],
   "source": [
    " def calculate_results(result_dct):\n",
    "    k = 0\n",
    "    for j in range(5):\n",
    "        for i in range(len(learning_rates)):\n",
    "            models = [WSModel(),WSModel1(),AuxModel(),AuxModel1(), SimpleModel()]\n",
    "            model = models[j]\n",
    "            optimizer = op(model.parameters(),lr = learning_rates[i])\n",
    "            if (j<2):\n",
    "                #print(\"here\")\n",
    "                start_time = time()\n",
    "                loss_aux = train_model_WS(model, optimizer,  train_input, train_target, NB_EPOCHS, MINI_BATCH_SIZE,losses[0])\n",
    "                end_time = time()\n",
    "            elif (j==4):\n",
    "                start_time = time()\n",
    "                loss_aux = train_model(model, optimizer,  train_input, train_target, NB_EPOCHS, MINI_BATCH_SIZE,losses[0])\n",
    "                end_time = time()\n",
    "            elif(j>1):\n",
    "                #print(\"here here\")\n",
    "                start_time = time()\n",
    "                loss_aux = train_model_AM(model, optimizer,  train_input, train_target, train_classes,NB_EPOCHS, MINI_BATCH_SIZE,losses[0],alpha,beta)\n",
    "                end_time = time()\n",
    "            #print(\"model:\",model)\n",
    "            time_diff = end_time - start_time\n",
    "            print_results(model,op,learning_rates[i],NB_EPOCHS,MINI_BATCH_SIZE, train_input, train_target,test_input, test_target, time_diff)\n",
    "            print(result_dct[k])\n",
    "            train_error = model.compute_nb_errors(model, train_input, train_target, MINI_BATCH_SIZE) / train_input.size(0) * 100\n",
    "            test_error = model.compute_nb_errors(model, test_input, test_target, MINI_BATCH_SIZE) / test_input.size(0) * 100\n",
    "            result_dct[k]['train_error'].append(train_error)\n",
    "            result_dct[k]['test_error'].append(test_error)\n",
    "            result_dct[k]['time'].append(time_diff)\n",
    "            k += 1\n",
    "    return result_dct\n",
    "            #visualize_loss(model,loss_aux,learning_rates[i])"
   ]
  },
  {
   "cell_type": "code",
   "execution_count": 11,
   "metadata": {},
   "outputs": [
    {
     "name": "stderr",
     "output_type": "stream",
     "text": [
      "C:\\Users\\DanielSmarda\\Anaconda3\\lib\\site-packages\\torchvision\\datasets\\mnist.py:53: UserWarning: train_data has been renamed data\n",
      "  warnings.warn(\"train_data has been renamed data\")\n",
      "C:\\Users\\DanielSmarda\\Anaconda3\\lib\\site-packages\\torchvision\\datasets\\mnist.py:43: UserWarning: train_labels has been renamed targets\n",
      "  warnings.warn(\"train_labels has been renamed targets\")\n",
      "C:\\Users\\DanielSmarda\\Anaconda3\\lib\\site-packages\\torchvision\\datasets\\mnist.py:58: UserWarning: test_data has been renamed data\n",
      "  warnings.warn(\"test_data has been renamed data\")\n",
      "C:\\Users\\DanielSmarda\\Anaconda3\\lib\\site-packages\\torchvision\\datasets\\mnist.py:48: UserWarning: test_labels has been renamed targets\n",
      "  warnings.warn(\"test_labels has been renamed targets\")\n"
     ]
    },
    {
     "name": "stdout",
     "output_type": "stream",
     "text": [
      "defaultdict(<class 'dict'>, {0: {'train_error': [], 'test_error': [], 'time': []}, 1: {'train_error': [], 'test_error': [], 'time': []}, 2: {'train_error': [], 'test_error': [], 'time': []}, 3: {'train_error': [], 'test_error': [], 'time': []}, 4: {'train_error': [], 'test_error': [], 'time': []}, 5: {'train_error': [], 'test_error': [], 'time': []}, 6: {'train_error': [], 'test_error': [], 'time': []}, 7: {'train_error': [], 'test_error': [], 'time': []}, 8: {'train_error': [], 'test_error': [], 'time': []}, 9: {'train_error': [], 'test_error': [], 'time': []}})\n",
      "Loss at   0 : 0.6575838327407837  \n",
      "model: WSModel, optimizer: SGD   , learning rate:    0.1, num epochs:  25, mini batch size: 100, train error:  0.20%, test error: 13.40%, time: 43.813\n",
      "{'train_error': [], 'test_error': [], 'time': []}\n",
      "Loss at   0 : 0.6796262264251709  \n",
      "model: WSModel, optimizer: SGD   , learning rate:   0.01, num epochs:  25, mini batch size: 100, train error: 19.90%, test error: 20.10%, time: 72.799\n",
      "{'train_error': [], 'test_error': [], 'time': []}\n",
      "Loss at   0 : 0.6558981537818909  \n",
      "model: WSModel1, optimizer: SGD   , learning rate:    0.1, num epochs:  25, mini batch size: 100, train error:  0.40%, test error: 13.20%, time: 46.991\n",
      "{'train_error': [], 'test_error': [], 'time': []}\n",
      "Loss at   0 : 0.687896728515625  \n",
      "model: WSModel1, optimizer: SGD   , learning rate:   0.01, num epochs:  25, mini batch size: 100, train error: 21.50%, test error: 21.20%, time: 51.610\n",
      "{'train_error': [], 'test_error': [], 'time': []}\n",
      "Loss at   0 : 4.841520309448242  \n",
      "model: AuxModel, optimizer: SGD   , learning rate:    0.1, num epochs:  25, mini batch size: 100, train error:  6.20%, test error: 10.20%, time: 50.465\n",
      "{'train_error': [], 'test_error': [], 'time': []}\n",
      "Loss at   0 : 4.952533721923828  \n",
      "model: AuxModel, optimizer: SGD   , learning rate:   0.01, num epochs:  25, mini batch size: 100, train error: 46.50%, test error: 44.60%, time: 47.715\n",
      "{'train_error': [], 'test_error': [], 'time': []}\n",
      "Loss at   0 : 4.876866817474365  \n",
      "model: AuxModel1, optimizer: SGD   , learning rate:    0.1, num epochs:  25, mini batch size: 100, train error:  6.00%, test error: 11.50%, time: 54.857\n",
      "{'train_error': [], 'test_error': [], 'time': []}\n",
      "Loss at   0 : 4.915091514587402  \n",
      "model: AuxModel1, optimizer: SGD   , learning rate:   0.01, num epochs:  25, mini batch size: 100, train error: 34.50%, test error: 37.30%, time: 43.425\n",
      "{'train_error': [], 'test_error': [], 'time': []}\n",
      "Loss at epoch  0 : 0.6660532355308533  \n",
      "Loss at epoch 24 : 0.04321188107132912  \n",
      "model: SimpleModel, optimizer: SGD   , learning rate:    0.1, num epochs:  25, mini batch size: 100, train error:  0.00%, test error: 18.70%, time: 35.433\n",
      "{'train_error': [], 'test_error': [], 'time': []}\n",
      "Loss at epoch  0 : 0.6884274482727051  \n",
      "Loss at epoch 24 : 0.5669033527374268  \n",
      "model: SimpleModel, optimizer: SGD   , learning rate:   0.01, num epochs:  25, mini batch size: 100, train error: 23.10%, test error: 25.40%, time: 31.642\n",
      "{'train_error': [], 'test_error': [], 'time': []}\n",
      "defaultdict(<class 'dict'>, {0: {'train_error': [0.2], 'test_error': [13.4], 'time': [43.813161849975586]}, 1: {'train_error': [19.900000000000002], 'test_error': [20.1], 'time': [72.79865550994873]}, 2: {'train_error': [0.4], 'test_error': [13.200000000000001], 'time': [46.990843772888184]}, 3: {'train_error': [21.5], 'test_error': [21.2], 'time': [51.6102774143219]}, 4: {'train_error': [6.2], 'test_error': [10.2], 'time': [50.46531391143799]}, 5: {'train_error': [46.5], 'test_error': [44.6], 'time': [47.71535897254944]}, 6: {'train_error': [6.0], 'test_error': [11.5], 'time': [54.8567750453949]}, 7: {'train_error': [34.5], 'test_error': [37.3], 'time': [43.42548727989197]}, 8: {'train_error': [0.0], 'test_error': [18.7], 'time': [35.43326377868652]}, 9: {'train_error': [23.1], 'test_error': [25.4], 'time': [31.64154314994812]}})\n",
      "Loss at   0 : 0.7059127688407898  \n",
      "model: WSModel, optimizer: SGD   , learning rate:    0.1, num epochs:  25, mini batch size: 100, train error:  0.20%, test error: 14.60%, time: 61.139\n",
      "{'train_error': [0.2], 'test_error': [13.4], 'time': [43.813161849975586]}\n",
      "Loss at   0 : 0.7045593857765198  \n",
      "model: WSModel, optimizer: SGD   , learning rate:   0.01, num epochs:  25, mini batch size: 100, train error: 21.50%, test error: 21.70%, time: 53.023\n",
      "{'train_error': [19.900000000000002], 'test_error': [20.1], 'time': [72.79865550994873]}\n",
      "Loss at   0 : 0.7086146473884583  \n",
      "model: WSModel1, optimizer: SGD   , learning rate:    0.1, num epochs:  25, mini batch size: 100, train error: 19.60%, test error: 24.40%, time: 34.248\n",
      "{'train_error': [0.4], 'test_error': [13.200000000000001], 'time': [46.990843772888184]}\n",
      "Loss at   0 : 0.7066096663475037  \n",
      "model: WSModel1, optimizer: SGD   , learning rate:   0.01, num epochs:  25, mini batch size: 100, train error: 20.80%, test error: 21.00%, time: 34.753\n",
      "{'train_error': [21.5], 'test_error': [21.2], 'time': [51.6102774143219]}\n",
      "Loss at   0 : 4.892180442810059  \n",
      "model: AuxModel, optimizer: SGD   , learning rate:    0.1, num epochs:  25, mini batch size: 100, train error: 16.80%, test error: 19.50%, time: 35.456\n",
      "{'train_error': [6.2], 'test_error': [10.2], 'time': [50.46531391143799]}\n",
      "Loss at   0 : 4.952210426330566  \n",
      "model: AuxModel, optimizer: SGD   , learning rate:   0.01, num epochs:  25, mini batch size: 100, train error: 52.10%, test error: 54.40%, time: 44.028\n",
      "{'train_error': [46.5], 'test_error': [44.6], 'time': [47.71535897254944]}\n",
      "Loss at   0 : 4.9629130363464355  \n",
      "model: AuxModel1, optimizer: SGD   , learning rate:    0.1, num epochs:  25, mini batch size: 100, train error:  5.50%, test error:  9.50%, time: 34.972\n",
      "{'train_error': [6.0], 'test_error': [11.5], 'time': [54.8567750453949]}\n",
      "Loss at   0 : 4.8927812576293945  \n",
      "model: AuxModel1, optimizer: SGD   , learning rate:   0.01, num epochs:  25, mini batch size: 100, train error: 33.10%, test error: 35.10%, time: 35.671\n",
      "{'train_error': [34.5], 'test_error': [37.3], 'time': [43.42548727989197]}\n",
      "Loss at epoch  0 : 0.7178774476051331  \n",
      "Loss at epoch 24 : 0.06733837723731995  \n",
      "model: SimpleModel, optimizer: SGD   , learning rate:    0.1, num epochs:  25, mini batch size: 100, train error:  3.00%, test error: 21.30%, time: 18.060\n",
      "{'train_error': [0.0], 'test_error': [18.7], 'time': [35.43326377868652]}\n",
      "Loss at epoch  0 : 0.7023655772209167  \n",
      "Loss at epoch 24 : 0.6090406775474548  \n",
      "model: SimpleModel, optimizer: SGD   , learning rate:   0.01, num epochs:  25, mini batch size: 100, train error: 23.30%, test error: 24.50%, time: 18.100\n",
      "{'train_error': [23.1], 'test_error': [25.4], 'time': [31.64154314994812]}\n",
      "defaultdict(<class 'dict'>, {0: {'train_error': [0.2, 0.2], 'test_error': [13.4, 14.6], 'time': [43.813161849975586, 61.13934254646301]}, 1: {'train_error': [19.900000000000002, 21.5], 'test_error': [20.1, 21.7], 'time': [72.79865550994873, 53.022902727127075]}, 2: {'train_error': [0.4, 19.6], 'test_error': [13.200000000000001, 24.4], 'time': [46.990843772888184, 34.247894287109375]}, 3: {'train_error': [21.5, 20.8], 'test_error': [21.2, 21.0], 'time': [51.6102774143219, 34.75338888168335]}, 4: {'train_error': [6.2, 16.8], 'test_error': [10.2, 19.5], 'time': [50.46531391143799, 35.45557117462158]}, 5: {'train_error': [46.5, 52.1], 'test_error': [44.6, 54.400000000000006], 'time': [47.71535897254944, 44.028061866760254]}, 6: {'train_error': [6.0, 5.5], 'test_error': [11.5, 9.5], 'time': [54.8567750453949, 34.97158455848694]}, 7: {'train_error': [34.5, 33.1], 'test_error': [37.3, 35.099999999999994], 'time': [43.42548727989197, 35.67060708999634]}, 8: {'train_error': [0.0, 3.0], 'test_error': [18.7, 21.3], 'time': [35.43326377868652, 18.060300827026367]}, 9: {'train_error': [23.1, 23.3], 'test_error': [25.4, 24.5], 'time': [31.64154314994812, 18.10016965866089]}})\n",
      "Loss at   0 : 0.6660501956939697  \n",
      "model: WSModel, optimizer: SGD   , learning rate:    0.1, num epochs:  25, mini batch size: 100, train error:  2.80%, test error: 17.10%, time: 33.612\n",
      "{'train_error': [0.2, 0.2], 'test_error': [13.4, 14.6], 'time': [43.813161849975586, 61.13934254646301]}\n",
      "Loss at   0 : 0.6774625182151794  \n"
     ]
    },
    {
     "name": "stdout",
     "output_type": "stream",
     "text": [
      "model: WSModel, optimizer: SGD   , learning rate:   0.01, num epochs:  25, mini batch size: 100, train error: 20.90%, test error: 22.30%, time: 39.740\n",
      "{'train_error': [19.900000000000002, 21.5], 'test_error': [20.1, 21.7], 'time': [72.79865550994873, 53.022902727127075]}\n",
      "Loss at   0 : 0.6652682423591614  \n",
      "model: WSModel1, optimizer: SGD   , learning rate:    0.1, num epochs:  25, mini batch size: 100, train error:  2.20%, test error: 16.50%, time: 39.808\n",
      "{'train_error': [0.4, 19.6], 'test_error': [13.200000000000001, 24.4], 'time': [46.990843772888184, 34.247894287109375]}\n",
      "Loss at   0 : 0.6839495897293091  \n",
      "model: WSModel1, optimizer: SGD   , learning rate:   0.01, num epochs:  25, mini batch size: 100, train error: 21.70%, test error: 23.30%, time: 40.069\n",
      "{'train_error': [21.5, 20.8], 'test_error': [21.2, 21.0], 'time': [51.6102774143219, 34.75338888168335]}\n",
      "Loss at   0 : 4.920703887939453  \n",
      "model: AuxModel, optimizer: SGD   , learning rate:    0.1, num epochs:  25, mini batch size: 100, train error: 27.20%, test error: 26.20%, time: 41.461\n",
      "{'train_error': [6.2, 16.8], 'test_error': [10.2, 19.5], 'time': [50.46531391143799, 35.45557117462158]}\n",
      "Loss at   0 : 4.946056842803955  \n",
      "model: AuxModel, optimizer: SGD   , learning rate:   0.01, num epochs:  25, mini batch size: 100, train error: 37.00%, test error: 34.90%, time: 36.143\n",
      "{'train_error': [46.5, 52.1], 'test_error': [44.6, 54.400000000000006], 'time': [47.71535897254944, 44.028061866760254]}\n",
      "Loss at   0 : 4.5764031410217285  \n",
      "model: AuxModel1, optimizer: SGD   , learning rate:    0.1, num epochs:  25, mini batch size: 100, train error:  5.40%, test error: 12.10%, time: 44.635\n",
      "{'train_error': [6.0, 5.5], 'test_error': [11.5, 9.5], 'time': [54.8567750453949, 34.97158455848694]}\n",
      "Loss at   0 : 4.897091388702393  \n",
      "model: AuxModel1, optimizer: SGD   , learning rate:   0.01, num epochs:  25, mini batch size: 100, train error: 30.00%, test error: 30.50%, time: 39.298\n",
      "{'train_error': [34.5, 33.1], 'test_error': [37.3, 35.099999999999994], 'time': [43.42548727989197, 35.67060708999634]}\n",
      "Loss at epoch  0 : 0.6696625351905823  \n",
      "Loss at epoch 24 : 0.11063653975725174  \n",
      "model: SimpleModel, optimizer: SGD   , learning rate:    0.1, num epochs:  25, mini batch size: 100, train error:  4.80%, test error: 20.00%, time: 19.987\n",
      "{'train_error': [0.0, 3.0], 'test_error': [18.7, 21.3], 'time': [35.43326377868652, 18.060300827026367]}\n",
      "Loss at epoch  0 : 0.6762327551841736  \n",
      "Loss at epoch 24 : 0.4871082007884979  \n",
      "model: SimpleModel, optimizer: SGD   , learning rate:   0.01, num epochs:  25, mini batch size: 100, train error: 23.00%, test error: 25.40%, time: 20.221\n",
      "{'train_error': [23.1, 23.3], 'test_error': [25.4, 24.5], 'time': [31.64154314994812, 18.10016965866089]}\n",
      "defaultdict(<class 'dict'>, {0: {'train_error': [0.2, 0.2, 2.8000000000000003], 'test_error': [13.4, 14.6, 17.1], 'time': [43.813161849975586, 61.13934254646301, 33.61184215545654]}, 1: {'train_error': [19.900000000000002, 21.5, 20.9], 'test_error': [20.1, 21.7, 22.3], 'time': [72.79865550994873, 53.022902727127075, 39.74032783508301]}, 2: {'train_error': [0.4, 19.6, 2.1999999999999997], 'test_error': [13.200000000000001, 24.4, 16.5], 'time': [46.990843772888184, 34.247894287109375, 39.80758619308472]}, 3: {'train_error': [21.5, 20.8, 21.7], 'test_error': [21.2, 21.0, 23.3], 'time': [51.6102774143219, 34.75338888168335, 40.069377422332764]}, 4: {'train_error': [6.2, 16.8, 27.200000000000003], 'test_error': [10.2, 19.5, 26.200000000000003], 'time': [50.46531391143799, 35.45557117462158, 41.461453914642334]}, 5: {'train_error': [46.5, 52.1, 37.0], 'test_error': [44.6, 54.400000000000006, 34.9], 'time': [47.71535897254944, 44.028061866760254, 36.1426362991333]}, 6: {'train_error': [6.0, 5.5, 5.4], 'test_error': [11.5, 9.5, 12.1], 'time': [54.8567750453949, 34.97158455848694, 44.635252714157104]}, 7: {'train_error': [34.5, 33.1, 30.0], 'test_error': [37.3, 35.099999999999994, 30.5], 'time': [43.42548727989197, 35.67060708999634, 39.29817080497742]}, 8: {'train_error': [0.0, 3.0, 4.8], 'test_error': [18.7, 21.3, 20.0], 'time': [35.43326377868652, 18.060300827026367, 19.987124919891357]}, 9: {'train_error': [23.1, 23.3, 23.0], 'test_error': [25.4, 24.5, 25.4], 'time': [31.64154314994812, 18.10016965866089, 20.220977306365967]}})\n",
      "Loss at   0 : 0.6571305990219116  \n",
      "model: WSModel, optimizer: SGD   , learning rate:    0.1, num epochs:  25, mini batch size: 100, train error:  1.00%, test error: 13.20%, time: 38.250\n",
      "{'train_error': [0.2, 0.2, 2.8000000000000003], 'test_error': [13.4, 14.6, 17.1], 'time': [43.813161849975586, 61.13934254646301, 33.61184215545654]}\n",
      "Loss at   0 : 0.6745930314064026  \n",
      "model: WSModel, optimizer: SGD   , learning rate:   0.01, num epochs:  25, mini batch size: 100, train error: 18.20%, test error: 22.30%, time: 43.014\n",
      "{'train_error': [19.900000000000002, 21.5, 20.9], 'test_error': [20.1, 21.7, 22.3], 'time': [72.79865550994873, 53.022902727127075, 39.74032783508301]}\n",
      "Loss at   0 : 0.6624363660812378  \n",
      "model: WSModel1, optimizer: SGD   , learning rate:    0.1, num epochs:  25, mini batch size: 100, train error:  0.20%, test error: 12.90%, time: 42.555\n",
      "{'train_error': [0.4, 19.6, 2.1999999999999997], 'test_error': [13.200000000000001, 24.4, 16.5], 'time': [46.990843772888184, 34.247894287109375, 39.80758619308472]}\n",
      "Loss at   0 : 0.6767526865005493  \n",
      "model: WSModel1, optimizer: SGD   , learning rate:   0.01, num epochs:  25, mini batch size: 100, train error: 17.90%, test error: 20.80%, time: 50.135\n",
      "{'train_error': [21.5, 20.8, 21.7], 'test_error': [21.2, 21.0, 23.3], 'time': [51.6102774143219, 34.75338888168335, 40.069377422332764]}\n",
      "Loss at   0 : 4.887683391571045  \n",
      "model: AuxModel, optimizer: SGD   , learning rate:    0.1, num epochs:  25, mini batch size: 100, train error:  7.90%, test error: 11.30%, time: 38.552\n",
      "{'train_error': [6.2, 16.8, 27.200000000000003], 'test_error': [10.2, 19.5, 26.200000000000003], 'time': [50.46531391143799, 35.45557117462158, 41.461453914642334]}\n",
      "Loss at   0 : 4.948204040527344  \n",
      "model: AuxModel, optimizer: SGD   , learning rate:   0.01, num epochs:  25, mini batch size: 100, train error: 48.20%, test error: 47.20%, time: 39.196\n",
      "{'train_error': [46.5, 52.1, 37.0], 'test_error': [44.6, 54.400000000000006, 34.9], 'time': [47.71535897254944, 44.028061866760254, 36.1426362991333]}\n",
      "Loss at   0 : 4.66613245010376  \n",
      "model: AuxModel1, optimizer: SGD   , learning rate:    0.1, num epochs:  25, mini batch size: 100, train error: 11.10%, test error: 16.60%, time: 47.877\n",
      "{'train_error': [6.0, 5.5, 5.4], 'test_error': [11.5, 9.5, 12.1], 'time': [54.8567750453949, 34.97158455848694, 44.635252714157104]}\n",
      "Loss at   0 : 4.926601409912109  \n",
      "model: AuxModel1, optimizer: SGD   , learning rate:   0.01, num epochs:  25, mini batch size: 100, train error: 26.50%, test error: 27.40%, time: 42.171\n",
      "{'train_error': [34.5, 33.1, 30.0], 'test_error': [37.3, 35.099999999999994, 30.5], 'time': [43.42548727989197, 35.67060708999634, 39.29817080497742]}\n",
      "Loss at epoch  0 : 0.6589977145195007  \n",
      "Loss at epoch 24 : 0.021576903760433197  \n",
      "model: SimpleModel, optimizer: SGD   , learning rate:    0.1, num epochs:  25, mini batch size: 100, train error:  0.00%, test error: 18.00%, time: 23.119\n",
      "{'train_error': [0.0, 3.0, 4.8], 'test_error': [18.7, 21.3, 20.0], 'time': [35.43326377868652, 18.060300827026367, 19.987124919891357]}\n",
      "Loss at epoch  0 : 0.6772975921630859  \n",
      "Loss at epoch 24 : 0.5500327348709106  \n",
      "model: SimpleModel, optimizer: SGD   , learning rate:   0.01, num epochs:  25, mini batch size: 100, train error: 21.10%, test error: 23.90%, time: 20.973\n",
      "{'train_error': [23.1, 23.3, 23.0], 'test_error': [25.4, 24.5, 25.4], 'time': [31.64154314994812, 18.10016965866089, 20.220977306365967]}\n"
     ]
    },
    {
     "name": "stdout",
     "output_type": "stream",
     "text": [
      "defaultdict(<class 'dict'>, {0: {'train_error': [0.2, 0.2, 2.8000000000000003, 1.0], 'test_error': [13.4, 14.6, 17.1, 13.200000000000001], 'time': [43.813161849975586, 61.13934254646301, 33.61184215545654, 38.24961495399475]}, 1: {'train_error': [19.900000000000002, 21.5, 20.9, 18.2], 'test_error': [20.1, 21.7, 22.3, 22.3], 'time': [72.79865550994873, 53.022902727127075, 39.74032783508301, 43.013503074645996]}, 2: {'train_error': [0.4, 19.6, 2.1999999999999997, 0.2], 'test_error': [13.200000000000001, 24.4, 16.5, 12.9], 'time': [46.990843772888184, 34.247894287109375, 39.80758619308472, 42.55494976043701]}, 3: {'train_error': [21.5, 20.8, 21.7, 17.9], 'test_error': [21.2, 21.0, 23.3, 20.8], 'time': [51.6102774143219, 34.75338888168335, 40.069377422332764, 50.13468933105469]}, 4: {'train_error': [6.2, 16.8, 27.200000000000003, 7.9], 'test_error': [10.2, 19.5, 26.200000000000003, 11.3], 'time': [50.46531391143799, 35.45557117462158, 41.461453914642334, 38.552266120910645]}, 5: {'train_error': [46.5, 52.1, 37.0, 48.199999999999996], 'test_error': [44.6, 54.400000000000006, 34.9, 47.199999999999996], 'time': [47.71535897254944, 44.028061866760254, 36.1426362991333, 39.195807456970215]}, 6: {'train_error': [6.0, 5.5, 5.4, 11.1], 'test_error': [11.5, 9.5, 12.1, 16.6], 'time': [54.8567750453949, 34.97158455848694, 44.635252714157104, 47.87743043899536]}, 7: {'train_error': [34.5, 33.1, 30.0, 26.5], 'test_error': [37.3, 35.099999999999994, 30.5, 27.400000000000002], 'time': [43.42548727989197, 35.67060708999634, 39.29817080497742, 42.17108869552612]}, 8: {'train_error': [0.0, 3.0, 4.8, 0.0], 'test_error': [18.7, 21.3, 20.0, 18.0], 'time': [35.43326377868652, 18.060300827026367, 19.987124919891357, 23.11880326271057]}, 9: {'train_error': [23.1, 23.3, 23.0, 21.099999999999998], 'test_error': [25.4, 24.5, 25.4, 23.9], 'time': [31.64154314994812, 18.10016965866089, 20.220977306365967, 20.97317862510681]}})\n",
      "Loss at   0 : 0.6700714230537415  \n",
      "model: WSModel, optimizer: SGD   , learning rate:    0.1, num epochs:  25, mini batch size: 100, train error:  1.10%, test error: 14.80%, time: 32.159\n",
      "{'train_error': [0.2, 0.2, 2.8000000000000003, 1.0], 'test_error': [13.4, 14.6, 17.1, 13.200000000000001], 'time': [43.813161849975586, 61.13934254646301, 33.61184215545654, 38.24961495399475]}\n",
      "Loss at   0 : 0.6781959533691406  \n",
      "model: WSModel, optimizer: SGD   , learning rate:   0.01, num epochs:  25, mini batch size: 100, train error: 19.50%, test error: 22.00%, time: 33.482\n",
      "{'train_error': [19.900000000000002, 21.5, 20.9, 18.2], 'test_error': [20.1, 21.7, 22.3, 22.3], 'time': [72.79865550994873, 53.022902727127075, 39.74032783508301, 43.013503074645996]}\n",
      "Loss at   0 : 0.6693233251571655  \n",
      "model: WSModel1, optimizer: SGD   , learning rate:    0.1, num epochs:  25, mini batch size: 100, train error:  0.40%, test error: 15.60%, time: 33.976\n",
      "{'train_error': [0.4, 19.6, 2.1999999999999997, 0.2], 'test_error': [13.200000000000001, 24.4, 16.5, 12.9], 'time': [46.990843772888184, 34.247894287109375, 39.80758619308472, 42.55494976043701]}\n",
      "Loss at   0 : 0.6893322467803955  \n",
      "model: WSModel1, optimizer: SGD   , learning rate:   0.01, num epochs:  25, mini batch size: 100, train error: 20.40%, test error: 20.90%, time: 33.783\n",
      "{'train_error': [21.5, 20.8, 21.7, 17.9], 'test_error': [21.2, 21.0, 23.3, 20.8], 'time': [51.6102774143219, 34.75338888168335, 40.069377422332764, 50.13468933105469]}\n",
      "Loss at   0 : 4.890771389007568  \n",
      "model: AuxModel, optimizer: SGD   , learning rate:    0.1, num epochs:  25, mini batch size: 100, train error:  6.80%, test error: 11.50%, time: 28.499\n",
      "{'train_error': [6.2, 16.8, 27.200000000000003, 7.9], 'test_error': [10.2, 19.5, 26.200000000000003, 11.3], 'time': [50.46531391143799, 35.45557117462158, 41.461453914642334, 38.552266120910645]}\n",
      "Loss at   0 : 4.940088272094727  \n",
      "model: AuxModel, optimizer: SGD   , learning rate:   0.01, num epochs:  25, mini batch size: 100, train error: 41.00%, test error: 40.20%, time: 33.231\n",
      "{'train_error': [46.5, 52.1, 37.0, 48.199999999999996], 'test_error': [44.6, 54.400000000000006, 34.9, 47.199999999999996], 'time': [47.71535897254944, 44.028061866760254, 36.1426362991333, 39.195807456970215]}\n",
      "Loss at   0 : 4.775430202484131  \n",
      "model: AuxModel1, optimizer: SGD   , learning rate:    0.1, num epochs:  25, mini batch size: 100, train error:  7.20%, test error: 11.80%, time: 35.138\n",
      "{'train_error': [6.0, 5.5, 5.4, 11.1], 'test_error': [11.5, 9.5, 12.1, 16.6], 'time': [54.8567750453949, 34.97158455848694, 44.635252714157104, 47.87743043899536]}\n",
      "Loss at   0 : 4.937790870666504  \n",
      "model: AuxModel1, optimizer: SGD   , learning rate:   0.01, num epochs:  25, mini batch size: 100, train error: 36.60%, test error: 36.50%, time: 36.227\n",
      "{'train_error': [34.5, 33.1, 30.0, 26.5], 'test_error': [37.3, 35.099999999999994, 30.5, 27.400000000000002], 'time': [43.42548727989197, 35.67060708999634, 39.29817080497742, 42.17108869552612]}\n",
      "Loss at epoch  0 : 0.6678438782691956  \n",
      "Loss at epoch 24 : 0.042105112224817276  \n",
      "model: SimpleModel, optimizer: SGD   , learning rate:    0.1, num epochs:  25, mini batch size: 100, train error:  0.70%, test error: 18.00%, time: 17.924\n",
      "{'train_error': [0.0, 3.0, 4.8, 0.0], 'test_error': [18.7, 21.3, 20.0, 18.0], 'time': [35.43326377868652, 18.060300827026367, 19.987124919891357, 23.11880326271057]}\n",
      "Loss at epoch  0 : 0.689626157283783  \n",
      "Loss at epoch 24 : 0.5959306955337524  \n",
      "model: SimpleModel, optimizer: SGD   , learning rate:   0.01, num epochs:  25, mini batch size: 100, train error: 21.60%, test error: 24.70%, time: 22.043\n",
      "{'train_error': [23.1, 23.3, 23.0, 21.099999999999998], 'test_error': [25.4, 24.5, 25.4, 23.9], 'time': [31.64154314994812, 18.10016965866089, 20.220977306365967, 20.97317862510681]}\n",
      "defaultdict(<class 'dict'>, {0: {'train_error': [0.2, 0.2, 2.8000000000000003, 1.0, 1.0999999999999999], 'test_error': [13.4, 14.6, 17.1, 13.200000000000001, 14.799999999999999], 'time': [43.813161849975586, 61.13934254646301, 33.61184215545654, 38.24961495399475, 32.15898060798645]}, 1: {'train_error': [19.900000000000002, 21.5, 20.9, 18.2, 19.5], 'test_error': [20.1, 21.7, 22.3, 22.3, 22.0], 'time': [72.79865550994873, 53.022902727127075, 39.74032783508301, 43.013503074645996, 33.48177671432495]}, 2: {'train_error': [0.4, 19.6, 2.1999999999999997, 0.2, 0.4], 'test_error': [13.200000000000001, 24.4, 16.5, 12.9, 15.6], 'time': [46.990843772888184, 34.247894287109375, 39.80758619308472, 42.55494976043701, 33.975629568099976]}, 3: {'train_error': [21.5, 20.8, 21.7, 17.9, 20.4], 'test_error': [21.2, 21.0, 23.3, 20.8, 20.9], 'time': [51.6102774143219, 34.75338888168335, 40.069377422332764, 50.13468933105469, 33.78319764137268]}, 4: {'train_error': [6.2, 16.8, 27.200000000000003, 7.9, 6.800000000000001], 'test_error': [10.2, 19.5, 26.200000000000003, 11.3, 11.5], 'time': [50.46531391143799, 35.45557117462158, 41.461453914642334, 38.552266120910645, 28.499269723892212]}, 5: {'train_error': [46.5, 52.1, 37.0, 48.199999999999996, 41.0], 'test_error': [44.6, 54.400000000000006, 34.9, 47.199999999999996, 40.2], 'time': [47.71535897254944, 44.028061866760254, 36.1426362991333, 39.195807456970215, 33.2305965423584]}, 6: {'train_error': [6.0, 5.5, 5.4, 11.1, 7.199999999999999], 'test_error': [11.5, 9.5, 12.1, 16.6, 11.799999999999999], 'time': [54.8567750453949, 34.97158455848694, 44.635252714157104, 47.87743043899536, 35.13820433616638]}, 7: {'train_error': [34.5, 33.1, 30.0, 26.5, 36.6], 'test_error': [37.3, 35.099999999999994, 30.5, 27.400000000000002, 36.5], 'time': [43.42548727989197, 35.67060708999634, 39.29817080497742, 42.17108869552612, 36.22734332084656]}, 8: {'train_error': [0.0, 3.0, 4.8, 0.0, 0.7000000000000001], 'test_error': [18.7, 21.3, 20.0, 18.0, 18.0], 'time': [35.43326377868652, 18.060300827026367, 19.987124919891357, 23.11880326271057, 17.923505544662476]}, 9: {'train_error': [23.1, 23.3, 23.0, 21.099999999999998, 21.6], 'test_error': [25.4, 24.5, 25.4, 23.9, 24.7], 'time': [31.64154314994812, 18.10016965866089, 20.220977306365967, 20.97317862510681, 22.043221473693848]}})\n",
      "Loss at   0 : 0.7038581967353821  \n"
     ]
    },
    {
     "name": "stdout",
     "output_type": "stream",
     "text": [
      "model: WSModel, optimizer: SGD   , learning rate:    0.1, num epochs:  25, mini batch size: 100, train error:  3.20%, test error: 13.20%, time: 35.307\n",
      "{'train_error': [0.2, 0.2, 2.8000000000000003, 1.0, 1.0999999999999999], 'test_error': [13.4, 14.6, 17.1, 13.200000000000001, 14.799999999999999], 'time': [43.813161849975586, 61.13934254646301, 33.61184215545654, 38.24961495399475, 32.15898060798645]}\n",
      "Loss at   0 : 0.689903736114502  \n",
      "model: WSModel, optimizer: SGD   , learning rate:   0.01, num epochs:  25, mini batch size: 100, train error: 22.30%, test error: 22.80%, time: 35.126\n",
      "{'train_error': [19.900000000000002, 21.5, 20.9, 18.2, 19.5], 'test_error': [20.1, 21.7, 22.3, 22.3, 22.0], 'time': [72.79865550994873, 53.022902727127075, 39.74032783508301, 43.013503074645996, 33.48177671432495]}\n",
      "Loss at   0 : 0.6831420660018921  \n",
      "model: WSModel1, optimizer: SGD   , learning rate:    0.1, num epochs:  25, mini batch size: 100, train error:  3.20%, test error: 14.40%, time: 35.093\n",
      "{'train_error': [0.4, 19.6, 2.1999999999999997, 0.2, 0.4], 'test_error': [13.200000000000001, 24.4, 16.5, 12.9, 15.6], 'time': [46.990843772888184, 34.247894287109375, 39.80758619308472, 42.55494976043701, 33.975629568099976]}\n",
      "Loss at   0 : 0.6837751865386963  \n",
      "model: WSModel1, optimizer: SGD   , learning rate:   0.01, num epochs:  25, mini batch size: 100, train error: 19.60%, test error: 21.90%, time: 36.630\n",
      "{'train_error': [21.5, 20.8, 21.7, 17.9, 20.4], 'test_error': [21.2, 21.0, 23.3, 20.8, 20.9], 'time': [51.6102774143219, 34.75338888168335, 40.069377422332764, 50.13468933105469, 33.78319764137268]}\n",
      "Loss at   0 : 4.854360103607178  \n",
      "model: AuxModel, optimizer: SGD   , learning rate:    0.1, num epochs:  25, mini batch size: 100, train error:  7.60%, test error: 11.60%, time: 33.958\n",
      "{'train_error': [6.2, 16.8, 27.200000000000003, 7.9, 6.800000000000001], 'test_error': [10.2, 19.5, 26.200000000000003, 11.3, 11.5], 'time': [50.46531391143799, 35.45557117462158, 41.461453914642334, 38.552266120910645, 28.499269723892212]}\n",
      "Loss at   0 : 4.960834503173828  \n",
      "model: AuxModel, optimizer: SGD   , learning rate:   0.01, num epochs:  25, mini batch size: 100, train error: 45.40%, test error: 45.80%, time: 31.378\n",
      "{'train_error': [46.5, 52.1, 37.0, 48.199999999999996, 41.0], 'test_error': [44.6, 54.400000000000006, 34.9, 47.199999999999996, 40.2], 'time': [47.71535897254944, 44.028061866760254, 36.1426362991333, 39.195807456970215, 33.2305965423584]}\n",
      "Loss at   0 : 4.795604228973389  \n",
      "model: AuxModel1, optimizer: SGD   , learning rate:    0.1, num epochs:  25, mini batch size: 100, train error:  4.40%, test error: 13.00%, time: 45.362\n",
      "{'train_error': [6.0, 5.5, 5.4, 11.1, 7.199999999999999], 'test_error': [11.5, 9.5, 12.1, 16.6, 11.799999999999999], 'time': [54.8567750453949, 34.97158455848694, 44.635252714157104, 47.87743043899536, 35.13820433616638]}\n",
      "Loss at   0 : 4.922436237335205  \n",
      "model: AuxModel1, optimizer: SGD   , learning rate:   0.01, num epochs:  25, mini batch size: 100, train error: 31.30%, test error: 28.50%, time: 34.048\n",
      "{'train_error': [34.5, 33.1, 30.0, 26.5, 36.6], 'test_error': [37.3, 35.099999999999994, 30.5, 27.400000000000002, 36.5], 'time': [43.42548727989197, 35.67060708999634, 39.29817080497742, 42.17108869552612, 36.22734332084656]}\n",
      "Loss at epoch  0 : 0.6909079551696777  \n",
      "Loss at epoch 24 : 0.02902226522564888  \n",
      "model: SimpleModel, optimizer: SGD   , learning rate:    0.1, num epochs:  25, mini batch size: 100, train error:  0.00%, test error: 19.20%, time: 16.495\n",
      "{'train_error': [0.0, 3.0, 4.8, 0.0, 0.7000000000000001], 'test_error': [18.7, 21.3, 20.0, 18.0, 18.0], 'time': [35.43326377868652, 18.060300827026367, 19.987124919891357, 23.11880326271057, 17.923505544662476]}\n",
      "Loss at epoch  0 : 0.6898812055587769  \n",
      "Loss at epoch 24 : 0.5883237719535828  \n",
      "model: SimpleModel, optimizer: SGD   , learning rate:   0.01, num epochs:  25, mini batch size: 100, train error: 27.40%, test error: 25.70%, time: 15.895\n",
      "{'train_error': [23.1, 23.3, 23.0, 21.099999999999998, 21.6], 'test_error': [25.4, 24.5, 25.4, 23.9, 24.7], 'time': [31.64154314994812, 18.10016965866089, 20.220977306365967, 20.97317862510681, 22.043221473693848]}\n",
      "defaultdict(<class 'dict'>, {0: {'train_error': [0.2, 0.2, 2.8000000000000003, 1.0, 1.0999999999999999, 3.2], 'test_error': [13.4, 14.6, 17.1, 13.200000000000001, 14.799999999999999, 13.200000000000001], 'time': [43.813161849975586, 61.13934254646301, 33.61184215545654, 38.24961495399475, 32.15898060798645, 35.30684280395508]}, 1: {'train_error': [19.900000000000002, 21.5, 20.9, 18.2, 19.5, 22.3], 'test_error': [20.1, 21.7, 22.3, 22.3, 22.0, 22.8], 'time': [72.79865550994873, 53.022902727127075, 39.74032783508301, 43.013503074645996, 33.48177671432495, 35.125709772109985]}, 2: {'train_error': [0.4, 19.6, 2.1999999999999997, 0.2, 0.4, 3.2], 'test_error': [13.200000000000001, 24.4, 16.5, 12.9, 15.6, 14.399999999999999], 'time': [46.990843772888184, 34.247894287109375, 39.80758619308472, 42.55494976043701, 33.975629568099976, 35.0931339263916]}, 3: {'train_error': [21.5, 20.8, 21.7, 17.9, 20.4, 19.6], 'test_error': [21.2, 21.0, 23.3, 20.8, 20.9, 21.9], 'time': [51.6102774143219, 34.75338888168335, 40.069377422332764, 50.13468933105469, 33.78319764137268, 36.62995767593384]}, 4: {'train_error': [6.2, 16.8, 27.200000000000003, 7.9, 6.800000000000001, 7.6], 'test_error': [10.2, 19.5, 26.200000000000003, 11.3, 11.5, 11.600000000000001], 'time': [50.46531391143799, 35.45557117462158, 41.461453914642334, 38.552266120910645, 28.499269723892212, 33.958043813705444]}, 5: {'train_error': [46.5, 52.1, 37.0, 48.199999999999996, 41.0, 45.4], 'test_error': [44.6, 54.400000000000006, 34.9, 47.199999999999996, 40.2, 45.800000000000004], 'time': [47.71535897254944, 44.028061866760254, 36.1426362991333, 39.195807456970215, 33.2305965423584, 31.378265857696533]}, 6: {'train_error': [6.0, 5.5, 5.4, 11.1, 7.199999999999999, 4.3999999999999995], 'test_error': [11.5, 9.5, 12.1, 16.6, 11.799999999999999, 13.0], 'time': [54.8567750453949, 34.97158455848694, 44.635252714157104, 47.87743043899536, 35.13820433616638, 45.36233329772949]}, 7: {'train_error': [34.5, 33.1, 30.0, 26.5, 36.6, 31.3], 'test_error': [37.3, 35.099999999999994, 30.5, 27.400000000000002, 36.5, 28.499999999999996], 'time': [43.42548727989197, 35.67060708999634, 39.29817080497742, 42.17108869552612, 36.22734332084656, 34.04804491996765]}, 8: {'train_error': [0.0, 3.0, 4.8, 0.0, 0.7000000000000001, 0.0], 'test_error': [18.7, 21.3, 20.0, 18.0, 18.0, 19.2], 'time': [35.43326377868652, 18.060300827026367, 19.987124919891357, 23.11880326271057, 17.923505544662476, 16.49519371986389]}, 9: {'train_error': [23.1, 23.3, 23.0, 21.099999999999998, 21.6, 27.400000000000002], 'test_error': [25.4, 24.5, 25.4, 23.9, 24.7, 25.7], 'time': [31.64154314994812, 18.10016965866089, 20.220977306365967, 20.97317862510681, 22.043221473693848, 15.895240545272827]}})\n",
      "Loss at   0 : 0.6854537725448608  \n",
      "model: WSModel, optimizer: SGD   , learning rate:    0.1, num epochs:  25, mini batch size: 100, train error:  3.10%, test error: 16.90%, time: 32.424\n",
      "{'train_error': [0.2, 0.2, 2.8000000000000003, 1.0, 1.0999999999999999, 3.2], 'test_error': [13.4, 14.6, 17.1, 13.200000000000001, 14.799999999999999, 13.200000000000001], 'time': [43.813161849975586, 61.13934254646301, 33.61184215545654, 38.24961495399475, 32.15898060798645, 35.30684280395508]}\n",
      "Loss at   0 : 0.6972389817237854  \n",
      "model: WSModel, optimizer: SGD   , learning rate:   0.01, num epochs:  25, mini batch size: 100, train error: 20.20%, test error: 23.70%, time: 37.904\n",
      "{'train_error': [19.900000000000002, 21.5, 20.9, 18.2, 19.5, 22.3], 'test_error': [20.1, 21.7, 22.3, 22.3, 22.0, 22.8], 'time': [72.79865550994873, 53.022902727127075, 39.74032783508301, 43.013503074645996, 33.48177671432495, 35.125709772109985]}\n",
      "Loss at   0 : 0.6672914028167725  \n",
      "model: WSModel1, optimizer: SGD   , learning rate:    0.1, num epochs:  25, mini batch size: 100, train error:  0.70%, test error: 15.20%, time: 33.115\n"
     ]
    },
    {
     "name": "stdout",
     "output_type": "stream",
     "text": [
      "{'train_error': [0.4, 19.6, 2.1999999999999997, 0.2, 0.4, 3.2], 'test_error': [13.200000000000001, 24.4, 16.5, 12.9, 15.6, 14.399999999999999], 'time': [46.990843772888184, 34.247894287109375, 39.80758619308472, 42.55494976043701, 33.975629568099976, 35.0931339263916]}\n",
      "Loss at   0 : 0.6891385912895203  \n",
      "model: WSModel1, optimizer: SGD   , learning rate:   0.01, num epochs:  25, mini batch size: 100, train error: 21.50%, test error: 23.20%, time: 33.670\n",
      "{'train_error': [21.5, 20.8, 21.7, 17.9, 20.4, 19.6], 'test_error': [21.2, 21.0, 23.3, 20.8, 20.9, 21.9], 'time': [51.6102774143219, 34.75338888168335, 40.069377422332764, 50.13468933105469, 33.78319764137268, 36.62995767593384]}\n",
      "Loss at   0 : 4.877391338348389  \n",
      "model: AuxModel, optimizer: SGD   , learning rate:    0.1, num epochs:  25, mini batch size: 100, train error:  5.40%, test error: 10.50%, time: 33.148\n",
      "{'train_error': [6.2, 16.8, 27.200000000000003, 7.9, 6.800000000000001, 7.6], 'test_error': [10.2, 19.5, 26.200000000000003, 11.3, 11.5, 11.600000000000001], 'time': [50.46531391143799, 35.45557117462158, 41.461453914642334, 38.552266120910645, 28.499269723892212, 33.958043813705444]}\n",
      "Loss at   0 : 4.953142166137695  \n",
      "model: AuxModel, optimizer: SGD   , learning rate:   0.01, num epochs:  25, mini batch size: 100, train error: 47.40%, test error: 46.50%, time: 34.580\n",
      "{'train_error': [46.5, 52.1, 37.0, 48.199999999999996, 41.0, 45.4], 'test_error': [44.6, 54.400000000000006, 34.9, 47.199999999999996, 40.2, 45.800000000000004], 'time': [47.71535897254944, 44.028061866760254, 36.1426362991333, 39.195807456970215, 33.2305965423584, 31.378265857696533]}\n",
      "Loss at   0 : 4.95211124420166  \n",
      "model: AuxModel1, optimizer: SGD   , learning rate:    0.1, num epochs:  25, mini batch size: 100, train error: 46.30%, test error: 45.60%, time: 31.397\n",
      "{'train_error': [6.0, 5.5, 5.4, 11.1, 7.199999999999999, 4.3999999999999995], 'test_error': [11.5, 9.5, 12.1, 16.6, 11.799999999999999, 13.0], 'time': [54.8567750453949, 34.97158455848694, 44.635252714157104, 47.87743043899536, 35.13820433616638, 45.36233329772949]}\n",
      "Loss at   0 : 4.86967658996582  \n",
      "model: AuxModel1, optimizer: SGD   , learning rate:   0.01, num epochs:  25, mini batch size: 100, train error: 25.20%, test error: 26.00%, time: 31.535\n",
      "{'train_error': [34.5, 33.1, 30.0, 26.5, 36.6, 31.3], 'test_error': [37.3, 35.099999999999994, 30.5, 27.400000000000002, 36.5, 28.499999999999996], 'time': [43.42548727989197, 35.67060708999634, 39.29817080497742, 42.17108869552612, 36.22734332084656, 34.04804491996765]}\n",
      "Loss at epoch  0 : 0.6892244815826416  \n",
      "Loss at epoch 24 : 0.14748667180538177  \n",
      "model: SimpleModel, optimizer: SGD   , learning rate:    0.1, num epochs:  25, mini batch size: 100, train error:  1.70%, test error: 17.70%, time: 17.928\n",
      "{'train_error': [0.0, 3.0, 4.8, 0.0, 0.7000000000000001, 0.0], 'test_error': [18.7, 21.3, 20.0, 18.0, 18.0, 19.2], 'time': [35.43326377868652, 18.060300827026367, 19.987124919891357, 23.11880326271057, 17.923505544662476, 16.49519371986389]}\n",
      "Loss at epoch  0 : 0.7045667767524719  \n",
      "Loss at epoch 24 : 0.5770584940910339  \n",
      "model: SimpleModel, optimizer: SGD   , learning rate:   0.01, num epochs:  25, mini batch size: 100, train error: 20.70%, test error: 23.50%, time: 20.620\n",
      "{'train_error': [23.1, 23.3, 23.0, 21.099999999999998, 21.6, 27.400000000000002], 'test_error': [25.4, 24.5, 25.4, 23.9, 24.7, 25.7], 'time': [31.64154314994812, 18.10016965866089, 20.220977306365967, 20.97317862510681, 22.043221473693848, 15.895240545272827]}\n",
      "defaultdict(<class 'dict'>, {0: {'train_error': [0.2, 0.2, 2.8000000000000003, 1.0, 1.0999999999999999, 3.2, 3.1], 'test_error': [13.4, 14.6, 17.1, 13.200000000000001, 14.799999999999999, 13.200000000000001, 16.900000000000002], 'time': [43.813161849975586, 61.13934254646301, 33.61184215545654, 38.24961495399475, 32.15898060798645, 35.30684280395508, 32.42444920539856]}, 1: {'train_error': [19.900000000000002, 21.5, 20.9, 18.2, 19.5, 22.3, 20.200000000000003], 'test_error': [20.1, 21.7, 22.3, 22.3, 22.0, 22.8, 23.7], 'time': [72.79865550994873, 53.022902727127075, 39.74032783508301, 43.013503074645996, 33.48177671432495, 35.125709772109985, 37.90385627746582]}, 2: {'train_error': [0.4, 19.6, 2.1999999999999997, 0.2, 0.4, 3.2, 0.7000000000000001], 'test_error': [13.200000000000001, 24.4, 16.5, 12.9, 15.6, 14.399999999999999, 15.2], 'time': [46.990843772888184, 34.247894287109375, 39.80758619308472, 42.55494976043701, 33.975629568099976, 35.0931339263916, 33.11528134346008]}, 3: {'train_error': [21.5, 20.8, 21.7, 17.9, 20.4, 19.6, 21.5], 'test_error': [21.2, 21.0, 23.3, 20.8, 20.9, 21.9, 23.200000000000003], 'time': [51.6102774143219, 34.75338888168335, 40.069377422332764, 50.13468933105469, 33.78319764137268, 36.62995767593384, 33.67032599449158]}, 4: {'train_error': [6.2, 16.8, 27.200000000000003, 7.9, 6.800000000000001, 7.6, 5.4], 'test_error': [10.2, 19.5, 26.200000000000003, 11.3, 11.5, 11.600000000000001, 10.5], 'time': [50.46531391143799, 35.45557117462158, 41.461453914642334, 38.552266120910645, 28.499269723892212, 33.958043813705444, 33.14839839935303]}, 5: {'train_error': [46.5, 52.1, 37.0, 48.199999999999996, 41.0, 45.4, 47.4], 'test_error': [44.6, 54.400000000000006, 34.9, 47.199999999999996, 40.2, 45.800000000000004, 46.5], 'time': [47.71535897254944, 44.028061866760254, 36.1426362991333, 39.195807456970215, 33.2305965423584, 31.378265857696533, 34.57989525794983]}, 6: {'train_error': [6.0, 5.5, 5.4, 11.1, 7.199999999999999, 4.3999999999999995, 46.300000000000004], 'test_error': [11.5, 9.5, 12.1, 16.6, 11.799999999999999, 13.0, 45.6], 'time': [54.8567750453949, 34.97158455848694, 44.635252714157104, 47.87743043899536, 35.13820433616638, 45.36233329772949, 31.397397994995117]}, 7: {'train_error': [34.5, 33.1, 30.0, 26.5, 36.6, 31.3, 25.2], 'test_error': [37.3, 35.099999999999994, 30.5, 27.400000000000002, 36.5, 28.499999999999996, 26.0], 'time': [43.42548727989197, 35.67060708999634, 39.29817080497742, 42.17108869552612, 36.22734332084656, 34.04804491996765, 31.534785747528076]}, 8: {'train_error': [0.0, 3.0, 4.8, 0.0, 0.7000000000000001, 0.0, 1.7000000000000002], 'test_error': [18.7, 21.3, 20.0, 18.0, 18.0, 19.2, 17.7], 'time': [35.43326377868652, 18.060300827026367, 19.987124919891357, 23.11880326271057, 17.923505544662476, 16.49519371986389, 17.928257703781128]}, 9: {'train_error': [23.1, 23.3, 23.0, 21.099999999999998, 21.6, 27.400000000000002, 20.7], 'test_error': [25.4, 24.5, 25.4, 23.9, 24.7, 25.7, 23.5], 'time': [31.64154314994812, 18.10016965866089, 20.220977306365967, 20.97317862510681, 22.043221473693848, 15.895240545272827, 20.62035298347473]}})\n",
      "Loss at   0 : 0.6515494585037231  \n",
      "model: WSModel, optimizer: SGD   , learning rate:    0.1, num epochs:  25, mini batch size: 100, train error:  1.20%, test error: 16.30%, time: 32.390\n",
      "{'train_error': [0.2, 0.2, 2.8000000000000003, 1.0, 1.0999999999999999, 3.2, 3.1], 'test_error': [13.4, 14.6, 17.1, 13.200000000000001, 14.799999999999999, 13.200000000000001, 16.900000000000002], 'time': [43.813161849975586, 61.13934254646301, 33.61184215545654, 38.24961495399475, 32.15898060798645, 35.30684280395508, 32.42444920539856]}\n",
      "Loss at   0 : 0.6801211833953857  \n",
      "model: WSModel, optimizer: SGD   , learning rate:   0.01, num epochs:  25, mini batch size: 100, train error: 24.20%, test error: 25.10%, time: 33.456\n",
      "{'train_error': [19.900000000000002, 21.5, 20.9, 18.2, 19.5, 22.3, 20.200000000000003], 'test_error': [20.1, 21.7, 22.3, 22.3, 22.0, 22.8, 23.7], 'time': [72.79865550994873, 53.022902727127075, 39.74032783508301, 43.013503074645996, 33.48177671432495, 35.125709772109985, 37.90385627746582]}\n",
      "Loss at   0 : 0.6579811573028564  \n",
      "model: WSModel1, optimizer: SGD   , learning rate:    0.1, num epochs:  25, mini batch size: 100, train error:  1.20%, test error: 16.20%, time: 34.220\n",
      "{'train_error': [0.4, 19.6, 2.1999999999999997, 0.2, 0.4, 3.2, 0.7000000000000001], 'test_error': [13.200000000000001, 24.4, 16.5, 12.9, 15.6, 14.399999999999999, 15.2], 'time': [46.990843772888184, 34.247894287109375, 39.80758619308472, 42.55494976043701, 33.975629568099976, 35.0931339263916, 33.11528134346008]}\n",
      "Loss at   0 : 0.6712839007377625  \n"
     ]
    },
    {
     "name": "stdout",
     "output_type": "stream",
     "text": [
      "model: WSModel1, optimizer: SGD   , learning rate:   0.01, num epochs:  25, mini batch size: 100, train error: 23.80%, test error: 24.10%, time: 33.682\n",
      "{'train_error': [21.5, 20.8, 21.7, 17.9, 20.4, 19.6, 21.5], 'test_error': [21.2, 21.0, 23.3, 20.8, 20.9, 21.9, 23.200000000000003], 'time': [51.6102774143219, 34.75338888168335, 40.069377422332764, 50.13468933105469, 33.78319764137268, 36.62995767593384, 33.67032599449158]}\n",
      "Loss at   0 : 4.925912380218506  \n",
      "model: AuxModel, optimizer: SGD   , learning rate:    0.1, num epochs:  25, mini batch size: 100, train error:  9.60%, test error: 15.00%, time: 44.522\n",
      "{'train_error': [6.2, 16.8, 27.200000000000003, 7.9, 6.800000000000001, 7.6, 5.4], 'test_error': [10.2, 19.5, 26.200000000000003, 11.3, 11.5, 11.600000000000001, 10.5], 'time': [50.46531391143799, 35.45557117462158, 41.461453914642334, 38.552266120910645, 28.499269723892212, 33.958043813705444, 33.14839839935303]}\n",
      "Loss at   0 : 4.963137626647949  \n",
      "model: AuxModel, optimizer: SGD   , learning rate:   0.01, num epochs:  25, mini batch size: 100, train error: 42.60%, test error: 42.10%, time: 38.567\n",
      "{'train_error': [46.5, 52.1, 37.0, 48.199999999999996, 41.0, 45.4, 47.4], 'test_error': [44.6, 54.400000000000006, 34.9, 47.199999999999996, 40.2, 45.800000000000004, 46.5], 'time': [47.71535897254944, 44.028061866760254, 36.1426362991333, 39.195807456970215, 33.2305965423584, 31.378265857696533, 34.57989525794983]}\n",
      "Loss at   0 : 4.65656042098999  \n",
      "model: AuxModel1, optimizer: SGD   , learning rate:    0.1, num epochs:  25, mini batch size: 100, train error:  6.80%, test error: 14.80%, time: 49.561\n",
      "{'train_error': [6.0, 5.5, 5.4, 11.1, 7.199999999999999, 4.3999999999999995, 46.300000000000004], 'test_error': [11.5, 9.5, 12.1, 16.6, 11.799999999999999, 13.0, 45.6], 'time': [54.8567750453949, 34.97158455848694, 44.635252714157104, 47.87743043899536, 35.13820433616638, 45.36233329772949, 31.397397994995117]}\n",
      "Loss at   0 : 4.88997745513916  \n",
      "model: AuxModel1, optimizer: SGD   , learning rate:   0.01, num epochs:  25, mini batch size: 100, train error: 26.00%, test error: 23.70%, time: 46.689\n",
      "{'train_error': [34.5, 33.1, 30.0, 26.5, 36.6, 31.3, 25.2], 'test_error': [37.3, 35.099999999999994, 30.5, 27.400000000000002, 36.5, 28.499999999999996, 26.0], 'time': [43.42548727989197, 35.67060708999634, 39.29817080497742, 42.17108869552612, 36.22734332084656, 34.04804491996765, 31.534785747528076]}\n",
      "Loss at epoch  0 : 0.6687471866607666  \n",
      "Loss at epoch 24 : 0.019069872796535492  \n",
      "model: SimpleModel, optimizer: SGD   , learning rate:    0.1, num epochs:  25, mini batch size: 100, train error:  0.00%, test error: 17.40%, time: 24.841\n",
      "{'train_error': [0.0, 3.0, 4.8, 0.0, 0.7000000000000001, 0.0, 1.7000000000000002], 'test_error': [18.7, 21.3, 20.0, 18.0, 18.0, 19.2, 17.7], 'time': [35.43326377868652, 18.060300827026367, 19.987124919891357, 23.11880326271057, 17.923505544662476, 16.49519371986389, 17.928257703781128]}\n",
      "Loss at epoch  0 : 0.6709644794464111  \n",
      "Loss at epoch 24 : 0.521837055683136  \n",
      "model: SimpleModel, optimizer: SGD   , learning rate:   0.01, num epochs:  25, mini batch size: 100, train error: 22.60%, test error: 25.70%, time: 22.196\n",
      "{'train_error': [23.1, 23.3, 23.0, 21.099999999999998, 21.6, 27.400000000000002, 20.7], 'test_error': [25.4, 24.5, 25.4, 23.9, 24.7, 25.7, 23.5], 'time': [31.64154314994812, 18.10016965866089, 20.220977306365967, 20.97317862510681, 22.043221473693848, 15.895240545272827, 20.62035298347473]}\n",
      "defaultdict(<class 'dict'>, {0: {'train_error': [0.2, 0.2, 2.8000000000000003, 1.0, 1.0999999999999999, 3.2, 3.1, 1.2], 'test_error': [13.4, 14.6, 17.1, 13.200000000000001, 14.799999999999999, 13.200000000000001, 16.900000000000002, 16.3], 'time': [43.813161849975586, 61.13934254646301, 33.61184215545654, 38.24961495399475, 32.15898060798645, 35.30684280395508, 32.42444920539856, 32.39015793800354]}, 1: {'train_error': [19.900000000000002, 21.5, 20.9, 18.2, 19.5, 22.3, 20.200000000000003, 24.2], 'test_error': [20.1, 21.7, 22.3, 22.3, 22.0, 22.8, 23.7, 25.1], 'time': [72.79865550994873, 53.022902727127075, 39.74032783508301, 43.013503074645996, 33.48177671432495, 35.125709772109985, 37.90385627746582, 33.45645260810852]}, 2: {'train_error': [0.4, 19.6, 2.1999999999999997, 0.2, 0.4, 3.2, 0.7000000000000001, 1.2], 'test_error': [13.200000000000001, 24.4, 16.5, 12.9, 15.6, 14.399999999999999, 15.2, 16.2], 'time': [46.990843772888184, 34.247894287109375, 39.80758619308472, 42.55494976043701, 33.975629568099976, 35.0931339263916, 33.11528134346008, 34.220024824142456]}, 3: {'train_error': [21.5, 20.8, 21.7, 17.9, 20.4, 19.6, 21.5, 23.799999999999997], 'test_error': [21.2, 21.0, 23.3, 20.8, 20.9, 21.9, 23.200000000000003, 24.099999999999998], 'time': [51.6102774143219, 34.75338888168335, 40.069377422332764, 50.13468933105469, 33.78319764137268, 36.62995767593384, 33.67032599449158, 33.68151307106018]}, 4: {'train_error': [6.2, 16.8, 27.200000000000003, 7.9, 6.800000000000001, 7.6, 5.4, 9.6], 'test_error': [10.2, 19.5, 26.200000000000003, 11.3, 11.5, 11.600000000000001, 10.5, 15.0], 'time': [50.46531391143799, 35.45557117462158, 41.461453914642334, 38.552266120910645, 28.499269723892212, 33.958043813705444, 33.14839839935303, 44.521764516830444]}, 5: {'train_error': [46.5, 52.1, 37.0, 48.199999999999996, 41.0, 45.4, 47.4, 42.6], 'test_error': [44.6, 54.400000000000006, 34.9, 47.199999999999996, 40.2, 45.800000000000004, 46.5, 42.1], 'time': [47.71535897254944, 44.028061866760254, 36.1426362991333, 39.195807456970215, 33.2305965423584, 31.378265857696533, 34.57989525794983, 38.56728506088257]}, 6: {'train_error': [6.0, 5.5, 5.4, 11.1, 7.199999999999999, 4.3999999999999995, 46.300000000000004, 6.800000000000001], 'test_error': [11.5, 9.5, 12.1, 16.6, 11.799999999999999, 13.0, 45.6, 14.799999999999999], 'time': [54.8567750453949, 34.97158455848694, 44.635252714157104, 47.87743043899536, 35.13820433616638, 45.36233329772949, 31.397397994995117, 49.56074547767639]}, 7: {'train_error': [34.5, 33.1, 30.0, 26.5, 36.6, 31.3, 25.2, 26.0], 'test_error': [37.3, 35.099999999999994, 30.5, 27.400000000000002, 36.5, 28.499999999999996, 26.0, 23.7], 'time': [43.42548727989197, 35.67060708999634, 39.29817080497742, 42.17108869552612, 36.22734332084656, 34.04804491996765, 31.534785747528076, 46.68877553939819]}, 8: {'train_error': [0.0, 3.0, 4.8, 0.0, 0.7000000000000001, 0.0, 1.7000000000000002, 0.0], 'test_error': [18.7, 21.3, 20.0, 18.0, 18.0, 19.2, 17.7, 17.4], 'time': [35.43326377868652, 18.060300827026367, 19.987124919891357, 23.11880326271057, 17.923505544662476, 16.49519371986389, 17.928257703781128, 24.8410804271698]}, 9: {'train_error': [23.1, 23.3, 23.0, 21.099999999999998, 21.6, 27.400000000000002, 20.7, 22.6], 'test_error': [25.4, 24.5, 25.4, 23.9, 24.7, 25.7, 23.5, 25.7], 'time': [31.64154314994812, 18.10016965866089, 20.220977306365967, 20.97317862510681, 22.043221473693848, 15.895240545272827, 20.62035298347473, 22.19583559036255]}})\n",
      "Loss at   0 : 0.6748485565185547  \n",
      "model: WSModel, optimizer: SGD   , learning rate:    0.1, num epochs:  25, mini batch size: 100, train error:  0.20%, test error: 16.20%, time: 35.474\n",
      "{'train_error': [0.2, 0.2, 2.8000000000000003, 1.0, 1.0999999999999999, 3.2, 3.1, 1.2], 'test_error': [13.4, 14.6, 17.1, 13.200000000000001, 14.799999999999999, 13.200000000000001, 16.900000000000002, 16.3], 'time': [43.813161849975586, 61.13934254646301, 33.61184215545654, 38.24961495399475, 32.15898060798645, 35.30684280395508, 32.42444920539856, 32.39015793800354]}\n",
      "Loss at   0 : 0.6906708478927612  \n",
      "model: WSModel, optimizer: SGD   , learning rate:   0.01, num epochs:  25, mini batch size: 100, train error: 17.40%, test error: 22.00%, time: 32.651\n",
      "{'train_error': [19.900000000000002, 21.5, 20.9, 18.2, 19.5, 22.3, 20.200000000000003, 24.2], 'test_error': [20.1, 21.7, 22.3, 22.3, 22.0, 22.8, 23.7, 25.1], 'time': [72.79865550994873, 53.022902727127075, 39.74032783508301, 43.013503074645996, 33.48177671432495, 35.125709772109985, 37.90385627746582, 33.45645260810852]}\n",
      "Loss at   0 : 0.6763776540756226  \n"
     ]
    },
    {
     "name": "stdout",
     "output_type": "stream",
     "text": [
      "model: WSModel1, optimizer: SGD   , learning rate:    0.1, num epochs:  25, mini batch size: 100, train error:  0.40%, test error: 14.80%, time: 32.626\n",
      "{'train_error': [0.4, 19.6, 2.1999999999999997, 0.2, 0.4, 3.2, 0.7000000000000001, 1.2], 'test_error': [13.200000000000001, 24.4, 16.5, 12.9, 15.6, 14.399999999999999, 15.2, 16.2], 'time': [46.990843772888184, 34.247894287109375, 39.80758619308472, 42.55494976043701, 33.975629568099976, 35.0931339263916, 33.11528134346008, 34.220024824142456]}\n",
      "Loss at   0 : 0.6881752610206604  \n",
      "model: WSModel1, optimizer: SGD   , learning rate:   0.01, num epochs:  25, mini batch size: 100, train error: 17.00%, test error: 21.30%, time: 31.935\n",
      "{'train_error': [21.5, 20.8, 21.7, 17.9, 20.4, 19.6, 21.5, 23.799999999999997], 'test_error': [21.2, 21.0, 23.3, 20.8, 20.9, 21.9, 23.200000000000003, 24.099999999999998], 'time': [51.6102774143219, 34.75338888168335, 40.069377422332764, 50.13468933105469, 33.78319764137268, 36.62995767593384, 33.67032599449158, 33.68151307106018]}\n",
      "Loss at   0 : 4.88957405090332  \n",
      "model: AuxModel, optimizer: SGD   , learning rate:    0.1, num epochs:  25, mini batch size: 100, train error:  7.10%, test error: 11.20%, time: 41.149\n",
      "{'train_error': [6.2, 16.8, 27.200000000000003, 7.9, 6.800000000000001, 7.6, 5.4, 9.6], 'test_error': [10.2, 19.5, 26.200000000000003, 11.3, 11.5, 11.600000000000001, 10.5, 15.0], 'time': [50.46531391143799, 35.45557117462158, 41.461453914642334, 38.552266120910645, 28.499269723892212, 33.958043813705444, 33.14839839935303, 44.521764516830444]}\n",
      "Loss at   0 : 4.943049907684326  \n",
      "model: AuxModel, optimizer: SGD   , learning rate:   0.01, num epochs:  25, mini batch size: 100, train error: 36.30%, test error: 40.50%, time: 46.214\n",
      "{'train_error': [46.5, 52.1, 37.0, 48.199999999999996, 41.0, 45.4, 47.4, 42.6], 'test_error': [44.6, 54.400000000000006, 34.9, 47.199999999999996, 40.2, 45.800000000000004, 46.5, 42.1], 'time': [47.71535897254944, 44.028061866760254, 36.1426362991333, 39.195807456970215, 33.2305965423584, 31.378265857696533, 34.57989525794983, 38.56728506088257]}\n",
      "Loss at   0 : 4.812127113342285  \n",
      "model: AuxModel1, optimizer: SGD   , learning rate:    0.1, num epochs:  25, mini batch size: 100, train error:  4.50%, test error: 11.60%, time: 46.221\n",
      "{'train_error': [6.0, 5.5, 5.4, 11.1, 7.199999999999999, 4.3999999999999995, 46.300000000000004, 6.800000000000001], 'test_error': [11.5, 9.5, 12.1, 16.6, 11.799999999999999, 13.0, 45.6, 14.799999999999999], 'time': [54.8567750453949, 34.97158455848694, 44.635252714157104, 47.87743043899536, 35.13820433616638, 45.36233329772949, 31.397397994995117, 49.56074547767639]}\n",
      "Loss at   0 : 4.930917739868164  \n",
      "model: AuxModel1, optimizer: SGD   , learning rate:   0.01, num epochs:  25, mini batch size: 100, train error: 37.10%, test error: 39.10%, time: 45.339\n",
      "{'train_error': [34.5, 33.1, 30.0, 26.5, 36.6, 31.3, 25.2, 26.0], 'test_error': [37.3, 35.099999999999994, 30.5, 27.400000000000002, 36.5, 28.499999999999996, 26.0, 23.7], 'time': [43.42548727989197, 35.67060708999634, 39.29817080497742, 42.17108869552612, 36.22734332084656, 34.04804491996765, 31.534785747528076, 46.68877553939819]}\n",
      "Loss at epoch  0 : 0.6816329956054688  \n",
      "Loss at epoch 24 : 0.028040887787938118  \n",
      "model: SimpleModel, optimizer: SGD   , learning rate:    0.1, num epochs:  25, mini batch size: 100, train error:  0.20%, test error: 19.40%, time: 25.792\n",
      "{'train_error': [0.0, 3.0, 4.8, 0.0, 0.7000000000000001, 0.0, 1.7000000000000002, 0.0], 'test_error': [18.7, 21.3, 20.0, 18.0, 18.0, 19.2, 17.7, 17.4], 'time': [35.43326377868652, 18.060300827026367, 19.987124919891357, 23.11880326271057, 17.923505544662476, 16.49519371986389, 17.928257703781128, 24.8410804271698]}\n",
      "Loss at epoch  0 : 0.6935701966285706  \n",
      "Loss at epoch 24 : 0.49861058592796326  \n",
      "model: SimpleModel, optimizer: SGD   , learning rate:   0.01, num epochs:  25, mini batch size: 100, train error: 21.10%, test error: 25.60%, time: 22.486\n",
      "{'train_error': [23.1, 23.3, 23.0, 21.099999999999998, 21.6, 27.400000000000002, 20.7, 22.6], 'test_error': [25.4, 24.5, 25.4, 23.9, 24.7, 25.7, 23.5, 25.7], 'time': [31.64154314994812, 18.10016965866089, 20.220977306365967, 20.97317862510681, 22.043221473693848, 15.895240545272827, 20.62035298347473, 22.19583559036255]}\n",
      "defaultdict(<class 'dict'>, {0: {'train_error': [0.2, 0.2, 2.8000000000000003, 1.0, 1.0999999999999999, 3.2, 3.1, 1.2, 0.2], 'test_error': [13.4, 14.6, 17.1, 13.200000000000001, 14.799999999999999, 13.200000000000001, 16.900000000000002, 16.3, 16.2], 'time': [43.813161849975586, 61.13934254646301, 33.61184215545654, 38.24961495399475, 32.15898060798645, 35.30684280395508, 32.42444920539856, 32.39015793800354, 35.473501443862915]}, 1: {'train_error': [19.900000000000002, 21.5, 20.9, 18.2, 19.5, 22.3, 20.200000000000003, 24.2, 17.4], 'test_error': [20.1, 21.7, 22.3, 22.3, 22.0, 22.8, 23.7, 25.1, 22.0], 'time': [72.79865550994873, 53.022902727127075, 39.74032783508301, 43.013503074645996, 33.48177671432495, 35.125709772109985, 37.90385627746582, 33.45645260810852, 32.650795221328735]}, 2: {'train_error': [0.4, 19.6, 2.1999999999999997, 0.2, 0.4, 3.2, 0.7000000000000001, 1.2, 0.4], 'test_error': [13.200000000000001, 24.4, 16.5, 12.9, 15.6, 14.399999999999999, 15.2, 16.2, 14.799999999999999], 'time': [46.990843772888184, 34.247894287109375, 39.80758619308472, 42.55494976043701, 33.975629568099976, 35.0931339263916, 33.11528134346008, 34.220024824142456, 32.62575674057007]}, 3: {'train_error': [21.5, 20.8, 21.7, 17.9, 20.4, 19.6, 21.5, 23.799999999999997, 17.0], 'test_error': [21.2, 21.0, 23.3, 20.8, 20.9, 21.9, 23.200000000000003, 24.099999999999998, 21.3], 'time': [51.6102774143219, 34.75338888168335, 40.069377422332764, 50.13468933105469, 33.78319764137268, 36.62995767593384, 33.67032599449158, 33.68151307106018, 31.93451762199402]}, 4: {'train_error': [6.2, 16.8, 27.200000000000003, 7.9, 6.800000000000001, 7.6, 5.4, 9.6, 7.1], 'test_error': [10.2, 19.5, 26.200000000000003, 11.3, 11.5, 11.600000000000001, 10.5, 15.0, 11.200000000000001], 'time': [50.46531391143799, 35.45557117462158, 41.461453914642334, 38.552266120910645, 28.499269723892212, 33.958043813705444, 33.14839839935303, 44.521764516830444, 41.149004220962524]}, 5: {'train_error': [46.5, 52.1, 37.0, 48.199999999999996, 41.0, 45.4, 47.4, 42.6, 36.3], 'test_error': [44.6, 54.400000000000006, 34.9, 47.199999999999996, 40.2, 45.800000000000004, 46.5, 42.1, 40.5], 'time': [47.71535897254944, 44.028061866760254, 36.1426362991333, 39.195807456970215, 33.2305965423584, 31.378265857696533, 34.57989525794983, 38.56728506088257, 46.214165687561035]}, 6: {'train_error': [6.0, 5.5, 5.4, 11.1, 7.199999999999999, 4.3999999999999995, 46.300000000000004, 6.800000000000001, 4.5], 'test_error': [11.5, 9.5, 12.1, 16.6, 11.799999999999999, 13.0, 45.6, 14.799999999999999, 11.600000000000001], 'time': [54.8567750453949, 34.97158455848694, 44.635252714157104, 47.87743043899536, 35.13820433616638, 45.36233329772949, 31.397397994995117, 49.56074547767639, 46.220803022384644]}, 7: {'train_error': [34.5, 33.1, 30.0, 26.5, 36.6, 31.3, 25.2, 26.0, 37.1], 'test_error': [37.3, 35.099999999999994, 30.5, 27.400000000000002, 36.5, 28.499999999999996, 26.0, 23.7, 39.1], 'time': [43.42548727989197, 35.67060708999634, 39.29817080497742, 42.17108869552612, 36.22734332084656, 34.04804491996765, 31.534785747528076, 46.68877553939819, 45.33905339241028]}, 8: {'train_error': [0.0, 3.0, 4.8, 0.0, 0.7000000000000001, 0.0, 1.7000000000000002, 0.0, 0.2], 'test_error': [18.7, 21.3, 20.0, 18.0, 18.0, 19.2, 17.7, 17.4, 19.400000000000002], 'time': [35.43326377868652, 18.060300827026367, 19.987124919891357, 23.11880326271057, 17.923505544662476, 16.49519371986389, 17.928257703781128, 24.8410804271698, 25.791869640350342]}, 9: {'train_error': [23.1, 23.3, 23.0, 21.099999999999998, 21.6, 27.400000000000002, 20.7, 22.6, 21.099999999999998], 'test_error': [25.4, 24.5, 25.4, 23.9, 24.7, 25.7, 23.5, 25.7, 25.6], 'time': [31.64154314994812, 18.10016965866089, 20.220977306365967, 20.97317862510681, 22.043221473693848, 15.895240545272827, 20.62035298347473, 22.19583559036255, 22.485974550247192]}})\n",
      "Loss at   0 : 0.6945110559463501  \n"
     ]
    },
    {
     "name": "stdout",
     "output_type": "stream",
     "text": [
      "model: WSModel, optimizer: SGD   , learning rate:    0.1, num epochs:  25, mini batch size: 100, train error:  2.30%, test error: 17.90%, time: 49.831\n",
      "{'train_error': [0.2, 0.2, 2.8000000000000003, 1.0, 1.0999999999999999, 3.2, 3.1, 1.2, 0.2], 'test_error': [13.4, 14.6, 17.1, 13.200000000000001, 14.799999999999999, 13.200000000000001, 16.900000000000002, 16.3, 16.2], 'time': [43.813161849975586, 61.13934254646301, 33.61184215545654, 38.24961495399475, 32.15898060798645, 35.30684280395508, 32.42444920539856, 32.39015793800354, 35.473501443862915]}\n",
      "Loss at   0 : 0.706010639667511  \n",
      "model: WSModel, optimizer: SGD   , learning rate:   0.01, num epochs:  25, mini batch size: 100, train error: 20.60%, test error: 22.90%, time: 49.539\n",
      "{'train_error': [19.900000000000002, 21.5, 20.9, 18.2, 19.5, 22.3, 20.200000000000003, 24.2, 17.4], 'test_error': [20.1, 21.7, 22.3, 22.3, 22.0, 22.8, 23.7, 25.1, 22.0], 'time': [72.79865550994873, 53.022902727127075, 39.74032783508301, 43.013503074645996, 33.48177671432495, 35.125709772109985, 37.90385627746582, 33.45645260810852, 32.650795221328735]}\n",
      "Loss at   0 : 0.6877777576446533  \n",
      "model: WSModel1, optimizer: SGD   , learning rate:    0.1, num epochs:  25, mini batch size: 100, train error:  1.50%, test error: 18.30%, time: 42.472\n",
      "{'train_error': [0.4, 19.6, 2.1999999999999997, 0.2, 0.4, 3.2, 0.7000000000000001, 1.2, 0.4], 'test_error': [13.200000000000001, 24.4, 16.5, 12.9, 15.6, 14.399999999999999, 15.2, 16.2, 14.799999999999999], 'time': [46.990843772888184, 34.247894287109375, 39.80758619308472, 42.55494976043701, 33.975629568099976, 35.0931339263916, 33.11528134346008, 34.220024824142456, 32.62575674057007]}\n",
      "Loss at   0 : 0.7096697092056274  \n",
      "model: WSModel1, optimizer: SGD   , learning rate:   0.01, num epochs:  25, mini batch size: 100, train error: 21.20%, test error: 23.20%, time: 37.221\n",
      "{'train_error': [21.5, 20.8, 21.7, 17.9, 20.4, 19.6, 21.5, 23.799999999999997, 17.0], 'test_error': [21.2, 21.0, 23.3, 20.8, 20.9, 21.9, 23.200000000000003, 24.099999999999998, 21.3], 'time': [51.6102774143219, 34.75338888168335, 40.069377422332764, 50.13468933105469, 33.78319764137268, 36.62995767593384, 33.67032599449158, 33.68151307106018, 31.93451762199402]}\n",
      "Loss at   0 : 4.835309982299805  \n",
      "model: AuxModel, optimizer: SGD   , learning rate:    0.1, num epochs:  25, mini batch size: 100, train error:  5.90%, test error: 11.20%, time: 36.437\n",
      "{'train_error': [6.2, 16.8, 27.200000000000003, 7.9, 6.800000000000001, 7.6, 5.4, 9.6, 7.1], 'test_error': [10.2, 19.5, 26.200000000000003, 11.3, 11.5, 11.600000000000001, 10.5, 15.0, 11.200000000000001], 'time': [50.46531391143799, 35.45557117462158, 41.461453914642334, 38.552266120910645, 28.499269723892212, 33.958043813705444, 33.14839839935303, 44.521764516830444, 41.149004220962524]}\n",
      "Loss at   0 : 4.942491054534912  \n",
      "model: AuxModel, optimizer: SGD   , learning rate:   0.01, num epochs:  25, mini batch size: 100, train error: 35.40%, test error: 33.50%, time: 37.463\n",
      "{'train_error': [46.5, 52.1, 37.0, 48.199999999999996, 41.0, 45.4, 47.4, 42.6, 36.3], 'test_error': [44.6, 54.400000000000006, 34.9, 47.199999999999996, 40.2, 45.800000000000004, 46.5, 42.1, 40.5], 'time': [47.71535897254944, 44.028061866760254, 36.1426362991333, 39.195807456970215, 33.2305965423584, 31.378265857696533, 34.57989525794983, 38.56728506088257, 46.214165687561035]}\n",
      "Loss at   0 : 4.792961597442627  \n",
      "model: AuxModel1, optimizer: SGD   , learning rate:    0.1, num epochs:  25, mini batch size: 100, train error:  3.90%, test error: 10.40%, time: 32.724\n",
      "{'train_error': [6.0, 5.5, 5.4, 11.1, 7.199999999999999, 4.3999999999999995, 46.300000000000004, 6.800000000000001, 4.5], 'test_error': [11.5, 9.5, 12.1, 16.6, 11.799999999999999, 13.0, 45.6, 14.799999999999999, 11.600000000000001], 'time': [54.8567750453949, 34.97158455848694, 44.635252714157104, 47.87743043899536, 35.13820433616638, 45.36233329772949, 31.397397994995117, 49.56074547767639, 46.220803022384644]}\n",
      "Loss at   0 : 4.925261974334717  \n",
      "model: AuxModel1, optimizer: SGD   , learning rate:   0.01, num epochs:  25, mini batch size: 100, train error: 45.30%, test error: 46.80%, time: 31.646\n",
      "{'train_error': [34.5, 33.1, 30.0, 26.5, 36.6, 31.3, 25.2, 26.0, 37.1], 'test_error': [37.3, 35.099999999999994, 30.5, 27.400000000000002, 36.5, 28.499999999999996, 26.0, 23.7, 39.1], 'time': [43.42548727989197, 35.67060708999634, 39.29817080497742, 42.17108869552612, 36.22734332084656, 34.04804491996765, 31.534785747528076, 46.68877553939819, 45.33905339241028]}\n",
      "Loss at epoch  0 : 0.6982641816139221  \n",
      "Loss at epoch 24 : 0.033873263746500015  \n",
      "model: SimpleModel, optimizer: SGD   , learning rate:    0.1, num epochs:  25, mini batch size: 100, train error:  0.40%, test error: 18.10%, time: 22.337\n",
      "{'train_error': [0.0, 3.0, 4.8, 0.0, 0.7000000000000001, 0.0, 1.7000000000000002, 0.0, 0.2], 'test_error': [18.7, 21.3, 20.0, 18.0, 18.0, 19.2, 17.7, 17.4, 19.400000000000002], 'time': [35.43326377868652, 18.060300827026367, 19.987124919891357, 23.11880326271057, 17.923505544662476, 16.49519371986389, 17.928257703781128, 24.8410804271698, 25.791869640350342]}\n",
      "Loss at epoch  0 : 0.7028141617774963  \n",
      "Loss at epoch 24 : 0.5832360982894897  \n",
      "model: SimpleModel, optimizer: SGD   , learning rate:   0.01, num epochs:  25, mini batch size: 100, train error: 23.90%, test error: 27.10%, time: 20.468\n",
      "{'train_error': [23.1, 23.3, 23.0, 21.099999999999998, 21.6, 27.400000000000002, 20.7, 22.6, 21.099999999999998], 'test_error': [25.4, 24.5, 25.4, 23.9, 24.7, 25.7, 23.5, 25.7, 25.6], 'time': [31.64154314994812, 18.10016965866089, 20.220977306365967, 20.97317862510681, 22.043221473693848, 15.895240545272827, 20.62035298347473, 22.19583559036255, 22.485974550247192]}\n"
     ]
    }
   ],
   "source": [
    "from collections import defaultdict\n",
    "result_dct = defaultdict(dict)\n",
    "for i in range(10):\n",
    "    result_dct[i]['train_error'] = []\n",
    "    result_dct[i]['test_error'] = []\n",
    "    result_dct[i]['time'] = []\n",
    "for i in range(10):\n",
    "    \n",
    "    train_input, train_target, train_classes, test_input, test_target, test_classes = prologue.generate_pair_sets(nb=1000)\n",
    "    # normalize it\n",
    "    mean, std = train_input.mean(), train_input.std() \n",
    "    train_input.sub_(mean).div_(std)\n",
    "    test_input.sub_(mean).div_(std)\n",
    "\n",
    "    train_input, train_target, train_classes = Variable(train_input), Variable(train_target), Variable(train_classes)\n",
    "    test_input, test_target = Variable(test_input), Variable(test_target)\n",
    "    \n",
    "    print(result_dct)\n",
    "    result_dct = calculate_results(result_dct)"
   ]
  },
  {
   "cell_type": "markdown",
   "metadata": {},
   "source": [
    "0 = WSModel, lr = .1 <br/>\n",
    "1 = WSModel, lr = 0.01  <br/>\n",
    "2 = WSModel1, lr = .1 <br/>\n",
    "3 = WSModel1, lr = 0.01 <br/>\n",
    "4 = AuxModel, lr = .1 <br/>\n",
    "5 = AuxModel, lr = 0.01 <br/>\n",
    "6 = AuxModel1, lr = .1 <br/>\n",
    "7 = AuxModel1, lr = 0.01 <br/>\n",
    "8 = Base, lr = .1 <br/>\n",
    "9 = Base, lr = 0.01 <br/>"
   ]
  },
  {
   "cell_type": "code",
   "execution_count": 12,
   "metadata": {},
   "outputs": [
    {
     "name": "stdout",
     "output_type": "stream",
     "text": [
      "mean of train_error of model 0 = 1.53\n",
      "stdev of train_error of model 0 = 1.2175111224680182\n",
      "mean of test_error of model 0 = 15.36\n",
      "stdev of test_error of model 0 = 1.7481418706729726\n",
      "mean of time of model 0 = 39.4398610830307\n",
      "stdev of time of model 0 = 9.53406190056124\n",
      "\n",
      "mean of train_error of model 1 = 20.47\n",
      "stdev of train_error of model 1 = 1.956215166534034\n",
      "mean of test_error of model 1 = 22.490000000000002\n",
      "stdev of test_error of model 1 = 1.309325526113859\n",
      "mean of time of model 1 = 43.07329266071319\n",
      "stdev of time of model 1 = 12.554349580673703\n",
      "\n",
      "mean of train_error of model 2 = 2.98\n",
      "stdev of train_error of model 2 = 5.917356767266202\n",
      "mean of test_error of model 2 = 16.15\n",
      "stdev of test_error of model 2 = 3.3026083967407067\n",
      "mean of time of model 2 = 37.51026966571808\n",
      "stdev of time of model 2 = 5.035451278157589\n",
      "\n",
      "mean of train_error of model 3 = 20.54\n",
      "stdev of train_error of model 3 = 1.9642357858012416\n",
      "mean of test_error of model 3 = 22.09\n",
      "stdev of test_error of model 3 = 1.2332882874656683\n",
      "mean of time of model 3 = 38.34880332946777\n",
      "stdev of time of model 3 = 6.996408581822368\n",
      "\n",
      "mean of train_error of model 4 = 10.05\n",
      "stdev of train_error of model 4 = 6.859259759219245\n",
      "mean of test_error of model 4 = 13.82\n",
      "stdev of test_error of model 4 = 5.179403655076734\n",
      "mean of time of model 4 = 38.36480274200439\n",
      "stdev of time of model 4 = 6.305607158984506\n",
      "\n",
      "mean of train_error of model 5 = 43.19\n",
      "stdev of train_error of model 5 = 5.673221698862513\n",
      "mean of test_error of model 5 = 42.97\n",
      "stdev of test_error of model 5 = 6.155404129705865\n",
      "mean of time of model 5 = 38.851493668556216\n",
      "stdev of time of model 5 = 5.524989744540648\n",
      "\n",
      "mean of train_error of model 6 = 10.110000000000001\n",
      "stdev of train_error of model 6 = 12.88016994366836\n",
      "mean of test_error of model 6 = 15.69\n",
      "stdev of test_error of model 6 = 10.708610242852869\n",
      "mean of time of model 6 = 42.274419736862185\n",
      "stdev of time of model 6 = 8.077857289871408\n",
      "\n",
      "mean of train_error of model 7 = 32.56\n",
      "stdev of train_error of model 7 = 6.19465719614716\n",
      "mean of test_error of model 7 = 33.089999999999996\n",
      "stdev of test_error of model 7 = 7.118590684491794\n",
      "mean of time of model 7 = 38.60496454238891\n",
      "stdev of time of model 7 = 5.583416119897182\n",
      "\n",
      "mean of train_error of model 8 = 1.08\n",
      "stdev of train_error of model 8 = 1.63149556474352\n",
      "mean of test_error of model 8 = 18.78\n",
      "stdev of test_error of model 8 = 1.2090400232323906\n",
      "mean of time of model 8 = 22.19166522026062\n",
      "stdev of time of model 8 = 5.646762825493497\n",
      "\n",
      "mean of train_error of model 9 = 22.78\n",
      "stdev of train_error of model 9 = 1.9555050498528517\n",
      "mean of test_error of model 9 = 25.15\n",
      "stdev of test_error of model 9 = 1.0352133435513027\n",
      "mean of time of model 9 = 21.46442391872406\n",
      "stdev of time of model 9 = 4.100333411601969\n",
      "\n"
     ]
    }
   ],
   "source": [
    "import statistics\n",
    "for k,v in result_dct.items():\n",
    "    print('mean of train_error of model {} = {}'.format(k, statistics.mean(v['train_error'])))\n",
    "    print('stdev of train_error of model {} = {}'.format(k, statistics.stdev(v['train_error'])))\n",
    "    print('mean of test_error of model {} = {}'.format(k, statistics.mean(v['test_error'])))\n",
    "    print('stdev of test_error of model {} = {}'.format(k, statistics.stdev(v['test_error'])))\n",
    "    print('mean of time of model {} = {}'.format(k, statistics.mean(v['time'])))\n",
    "    print('stdev of time of model {} = {}'.format(k, statistics.stdev(v['time'])))\n",
    "    print()"
   ]
  },
  {
   "cell_type": "code",
   "execution_count": 14,
   "metadata": {},
   "outputs": [
    {
     "name": "stdout",
     "output_type": "stream",
     "text": [
      "10\n",
      "8\n",
      "12\n",
      "10\n",
      "8\n"
     ]
    }
   ],
   "source": [
    "for model in [WSModel(), WSModel1(), AuxModel(), AuxModel1(), SimpleModel()]:\n",
    "    print(len(list(model.parameters())))"
   ]
  },
  {
   "cell_type": "code",
   "execution_count": null,
   "metadata": {},
   "outputs": [],
   "source": []
  }
 ],
 "metadata": {
  "kernelspec": {
   "display_name": "Python 3",
   "language": "python",
   "name": "python3"
  },
  "language_info": {
   "codemirror_mode": {
    "name": "ipython",
    "version": 3
   },
   "file_extension": ".py",
   "mimetype": "text/x-python",
   "name": "python",
   "nbconvert_exporter": "python",
   "pygments_lexer": "ipython3",
   "version": "3.7.1"
  }
 },
 "nbformat": 4,
 "nbformat_minor": 2
}
