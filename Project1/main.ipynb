{
 "cells": [
  {
   "cell_type": "markdown",
   "metadata": {},
   "source": [
    "### Import models and load data"
   ]
  },
  {
   "cell_type": "code",
   "execution_count": 6,
   "metadata": {},
   "outputs": [
    {
     "name": "stderr",
     "output_type": "stream",
     "text": [
      "C:\\Users\\DanielSmarda\\Anaconda3\\lib\\site-packages\\torchvision\\datasets\\mnist.py:53: UserWarning: train_data has been renamed data\n",
      "  warnings.warn(\"train_data has been renamed data\")\n",
      "C:\\Users\\DanielSmarda\\Anaconda3\\lib\\site-packages\\torchvision\\datasets\\mnist.py:43: UserWarning: train_labels has been renamed targets\n",
      "  warnings.warn(\"train_labels has been renamed targets\")\n",
      "C:\\Users\\DanielSmarda\\Anaconda3\\lib\\site-packages\\torchvision\\datasets\\mnist.py:58: UserWarning: test_data has been renamed data\n",
      "  warnings.warn(\"test_data has been renamed data\")\n",
      "C:\\Users\\DanielSmarda\\Anaconda3\\lib\\site-packages\\torchvision\\datasets\\mnist.py:48: UserWarning: test_labels has been renamed targets\n",
      "  warnings.warn(\"test_labels has been renamed targets\")\n"
     ]
    }
   ],
   "source": [
    "from torchvision import datasets\n",
    "import torch\n",
    "import dlc_practical_prologue as prologue\n",
    "import matplotlib.pyplot as plt\n",
    "\n",
    "# Import all models\n",
    "from BaseNet import *\n",
    "from ConvNet1 import *\n",
    "#from NetSharing import *\n",
    "\n",
    "mini_batch_size = 1000\n",
    "nb_epochs = 300\n",
    "nb_runs = 2\n",
    "eta = 0.001\n",
    "\n",
    "train_input, train_target, train_classes, test_input, test_target, test_classes = \\\n",
    "    prologue.generate_pair_sets(nb=1000)"
   ]
  },
  {
   "cell_type": "markdown",
   "metadata": {},
   "source": [
    "### 1channel2images"
   ]
  },
  {
   "cell_type": "code",
   "execution_count": 2,
   "metadata": {
    "scrolled": true
   },
   "outputs": [
    {
     "name": "stdout",
     "output_type": "stream",
     "text": [
      "Working with 1channel2images framework, nb_classes =  10\n"
     ]
    },
    {
     "ename": "KeyboardInterrupt",
     "evalue": "",
     "output_type": "error",
     "traceback": [
      "\u001b[0;31m---------------------------------------------------------------------------\u001b[0m",
      "\u001b[0;31mKeyboardInterrupt\u001b[0m                         Traceback (most recent call last)",
      "\u001b[0;32m<ipython-input-2-686e33a02570>\u001b[0m in \u001b[0;36m<module>\u001b[0;34m\u001b[0m\n\u001b[1;32m     10\u001b[0m \u001b[0moptimizer_1C\u001b[0m \u001b[0;34m=\u001b[0m \u001b[0mtorch\u001b[0m\u001b[0;34m.\u001b[0m\u001b[0moptim\u001b[0m\u001b[0;34m.\u001b[0m\u001b[0mSGD\u001b[0m\u001b[0;34m(\u001b[0m\u001b[0mmodel_1C\u001b[0m\u001b[0;34m.\u001b[0m\u001b[0mparameters\u001b[0m\u001b[0;34m(\u001b[0m\u001b[0;34m)\u001b[0m\u001b[0;34m,\u001b[0m \u001b[0mlr\u001b[0m\u001b[0;34m=\u001b[0m\u001b[0meta\u001b[0m\u001b[0;34m,\u001b[0m \u001b[0mmomentum\u001b[0m\u001b[0;34m=\u001b[0m\u001b[0;36m0.95\u001b[0m\u001b[0;34m)\u001b[0m\u001b[0;34m\u001b[0m\u001b[0;34m\u001b[0m\u001b[0m\n\u001b[1;32m     11\u001b[0m test_results_1C = multiple_training_runs(model_1C, 2, optimizer_1C, train_input, train_classes,\n\u001b[0;32m---> 12\u001b[0;31m                                       test_input, test_target, test_classes, mini_batch_size, nb_epochs)\n\u001b[0m\u001b[1;32m     13\u001b[0m \u001b[0mwrite_to_csv\u001b[0m\u001b[0;34m(\u001b[0m\u001b[0;34m'1channel2images.csv'\u001b[0m\u001b[0;34m,\u001b[0m \u001b[0mmodel_1C\u001b[0m\u001b[0;34m,\u001b[0m \u001b[0mtest_results_1C\u001b[0m\u001b[0;34m)\u001b[0m\u001b[0;34m\u001b[0m\u001b[0;34m\u001b[0m\u001b[0m\n",
      "\u001b[0;32m~/Documents/EPFL/DeepLearning2019/Project1/_1channel2images.py\u001b[0m in \u001b[0;36mmultiple_training_runs\u001b[0;34m(model, nb_runs, optimizer, train_input, train_classes, test_input, test_target, test_classes, mini_batch_size, nb_epochs)\u001b[0m\n\u001b[1;32m    176\u001b[0m     \u001b[0;32mfor\u001b[0m \u001b[0mi\u001b[0m \u001b[0;32min\u001b[0m \u001b[0mrange\u001b[0m\u001b[0;34m(\u001b[0m\u001b[0mnb_runs\u001b[0m\u001b[0;34m)\u001b[0m\u001b[0;34m:\u001b[0m\u001b[0;34m\u001b[0m\u001b[0;34m\u001b[0m\u001b[0m\n\u001b[1;32m    177\u001b[0m         \u001b[0mmodel\u001b[0m\u001b[0;34m.\u001b[0m\u001b[0mload_state_dict\u001b[0m\u001b[0;34m(\u001b[0m\u001b[0minitial_model_wts\u001b[0m\u001b[0;34m)\u001b[0m\u001b[0;34m\u001b[0m\u001b[0;34m\u001b[0m\u001b[0m\n\u001b[0;32m--> 178\u001b[0;31m         \u001b[0mmodel\u001b[0m\u001b[0;34m,\u001b[0m \u001b[0mtime_elapsed\u001b[0m \u001b[0;34m=\u001b[0m \u001b[0mtrain_model_1C\u001b[0m\u001b[0;34m(\u001b[0m\u001b[0mmodel\u001b[0m\u001b[0;34m,\u001b[0m \u001b[0mtrain_input\u001b[0m\u001b[0;34m,\u001b[0m \u001b[0mtrain_classes\u001b[0m\u001b[0;34m,\u001b[0m \u001b[0moptimizer\u001b[0m\u001b[0;34m,\u001b[0m \u001b[0mmini_batch_size\u001b[0m\u001b[0;34m=\u001b[0m\u001b[0mmini_batch_size\u001b[0m\u001b[0;34m,\u001b[0m \u001b[0mnb_epochs\u001b[0m\u001b[0;34m=\u001b[0m\u001b[0mnb_epochs\u001b[0m\u001b[0;34m)\u001b[0m\u001b[0;34m\u001b[0m\u001b[0;34m\u001b[0m\u001b[0m\n\u001b[0m\u001b[1;32m    179\u001b[0m         \u001b[0mlist_time\u001b[0m\u001b[0;34m.\u001b[0m\u001b[0mappend\u001b[0m\u001b[0;34m(\u001b[0m\u001b[0mtime_elapsed\u001b[0m\u001b[0;34m)\u001b[0m\u001b[0;34m\u001b[0m\u001b[0;34m\u001b[0m\u001b[0m\n\u001b[1;32m    180\u001b[0m \u001b[0;34m\u001b[0m\u001b[0m\n",
      "\u001b[0;32m~/Documents/EPFL/DeepLearning2019/Project1/_1channel2images.py\u001b[0m in \u001b[0;36mtrain_model_1C\u001b[0;34m(model, train_input, train_classes, optimizer, mini_batch_size, nb_epochs)\u001b[0m\n\u001b[1;32m     51\u001b[0m \u001b[0;34m\u001b[0m\u001b[0m\n\u001b[1;32m     52\u001b[0m                     \u001b[0;32mif\u001b[0m \u001b[0mphase\u001b[0m \u001b[0;34m==\u001b[0m \u001b[0;34m'train'\u001b[0m\u001b[0;34m:\u001b[0m\u001b[0;34m\u001b[0m\u001b[0;34m\u001b[0m\u001b[0m\n\u001b[0;32m---> 53\u001b[0;31m                         \u001b[0mloss\u001b[0m\u001b[0;34m.\u001b[0m\u001b[0mbackward\u001b[0m\u001b[0;34m(\u001b[0m\u001b[0;34m)\u001b[0m\u001b[0;34m\u001b[0m\u001b[0;34m\u001b[0m\u001b[0m\n\u001b[0m\u001b[1;32m     54\u001b[0m                         \u001b[0moptimizer\u001b[0m\u001b[0;34m.\u001b[0m\u001b[0mstep\u001b[0m\u001b[0;34m(\u001b[0m\u001b[0;34m)\u001b[0m\u001b[0;34m\u001b[0m\u001b[0;34m\u001b[0m\u001b[0m\n\u001b[1;32m     55\u001b[0m \u001b[0;34m\u001b[0m\u001b[0m\n",
      "\u001b[0;32m/usr/local/lib/python3.7/site-packages/torch/tensor.py\u001b[0m in \u001b[0;36mbackward\u001b[0;34m(self, gradient, retain_graph, create_graph)\u001b[0m\n\u001b[1;32m    100\u001b[0m                 \u001b[0mproducts\u001b[0m\u001b[0;34m.\u001b[0m \u001b[0mDefaults\u001b[0m \u001b[0mto\u001b[0m\u001b[0;31m \u001b[0m\u001b[0;31m`\u001b[0m\u001b[0;31m`\u001b[0m\u001b[0;32mFalse\u001b[0m\u001b[0;31m`\u001b[0m\u001b[0;31m`\u001b[0m\u001b[0;34m.\u001b[0m\u001b[0;34m\u001b[0m\u001b[0;34m\u001b[0m\u001b[0m\n\u001b[1;32m    101\u001b[0m         \"\"\"\n\u001b[0;32m--> 102\u001b[0;31m         \u001b[0mtorch\u001b[0m\u001b[0;34m.\u001b[0m\u001b[0mautograd\u001b[0m\u001b[0;34m.\u001b[0m\u001b[0mbackward\u001b[0m\u001b[0;34m(\u001b[0m\u001b[0mself\u001b[0m\u001b[0;34m,\u001b[0m \u001b[0mgradient\u001b[0m\u001b[0;34m,\u001b[0m \u001b[0mretain_graph\u001b[0m\u001b[0;34m,\u001b[0m \u001b[0mcreate_graph\u001b[0m\u001b[0;34m)\u001b[0m\u001b[0;34m\u001b[0m\u001b[0;34m\u001b[0m\u001b[0m\n\u001b[0m\u001b[1;32m    103\u001b[0m \u001b[0;34m\u001b[0m\u001b[0m\n\u001b[1;32m    104\u001b[0m     \u001b[0;32mdef\u001b[0m \u001b[0mregister_hook\u001b[0m\u001b[0;34m(\u001b[0m\u001b[0mself\u001b[0m\u001b[0;34m,\u001b[0m \u001b[0mhook\u001b[0m\u001b[0;34m)\u001b[0m\u001b[0;34m:\u001b[0m\u001b[0;34m\u001b[0m\u001b[0;34m\u001b[0m\u001b[0m\n",
      "\u001b[0;32m/usr/local/lib/python3.7/site-packages/torch/autograd/__init__.py\u001b[0m in \u001b[0;36mbackward\u001b[0;34m(tensors, grad_tensors, retain_graph, create_graph, grad_variables)\u001b[0m\n\u001b[1;32m     88\u001b[0m     Variable._execution_engine.run_backward(\n\u001b[1;32m     89\u001b[0m         \u001b[0mtensors\u001b[0m\u001b[0;34m,\u001b[0m \u001b[0mgrad_tensors\u001b[0m\u001b[0;34m,\u001b[0m \u001b[0mretain_graph\u001b[0m\u001b[0;34m,\u001b[0m \u001b[0mcreate_graph\u001b[0m\u001b[0;34m,\u001b[0m\u001b[0;34m\u001b[0m\u001b[0;34m\u001b[0m\u001b[0m\n\u001b[0;32m---> 90\u001b[0;31m         allow_unreachable=True)  # allow_unreachable flag\n\u001b[0m\u001b[1;32m     91\u001b[0m \u001b[0;34m\u001b[0m\u001b[0m\n\u001b[1;32m     92\u001b[0m \u001b[0;34m\u001b[0m\u001b[0m\n",
      "\u001b[0;31mKeyboardInterrupt\u001b[0m: "
     ]
    }
   ],
   "source": [
    "from importlib import reload\n",
    "import _1channel2images\n",
    "reload(_1channel2images)\n",
    "from _1channel2images import *\n",
    "\n",
    "print(\"Working with 1channel2images framework, nb_classes = \", nb_classes)\n",
    "\n",
    "#model = BaseNet1C(nb_classes)\n",
    "model_1C = ConvNet1_1C(nb_classes)\n",
    "optimizer_1C = torch.optim.SGD(model_1C.parameters(), lr=eta, momentum=0.95)\n",
    "test_results_1C = multiple_training_runs(model_1C, 2, optimizer_1C, train_input, train_classes,\n",
    "                                      test_input, test_target, test_classes, mini_batch_size, nb_epochs)\n",
    "write_to_csv('1channel2images.csv', model_1C, test_results_1C)"
   ]
  },
  {
   "cell_type": "code",
   "execution_count": null,
   "metadata": {},
   "outputs": [],
   "source": [
    "# This is just for visualization of our results but it will have to be taken away for the report \n",
    "# since we can't use any additional libraries\n",
    "import pandas as pd\n",
    "\n",
    "print(test_results_1C)\n",
    "write_to_csv('1channel2images.csv', model_1C, test_results_1C)\n",
    "data = pd.read_csv('1channel2images.csv')\n",
    "data.head()"
   ]
  },
  {
   "cell_type": "markdown",
   "metadata": {},
   "source": [
    "### 2channels1image"
   ]
  },
  {
   "cell_type": "code",
   "execution_count": null,
   "metadata": {},
   "outputs": [],
   "source": [
    "import _2channels1image\n",
    "reload(_2channels1image)\n",
    "from _2channels1image import *\n",
    "\n",
    "print(\"Working with 2channels1image framework, nb_classes = \", nb_classes)\n",
    "\n",
    "model_2C = ConvNet1_2C(nb_classes)\n",
    "optimizer_2C = torch.optim.SGD(model_2C.parameters(), lr=0.00001, momentum=0.95)  \n",
    "test_results_2C = multiple_training_runs(model_2C, 2, optimizer_2C, train_input, train_target,\n",
    "                           test_input, test_target, mini_batch_size, nb_epochs)\n",
    "write_to_csv('2channels1image.csv', model_2C, test_results_2C)"
   ]
  },
  {
   "cell_type": "code",
   "execution_count": null,
   "metadata": {},
   "outputs": [],
   "source": [
    "print(test_results_2C)\n",
    "write_to_csv('2channels1image.csv', model_2C, test_results_2C)\n",
    "data = pd.read_csv('2channels1image.csv')\n",
    "data.head()"
   ]
  },
  {
   "cell_type": "markdown",
   "metadata": {},
   "source": [
    "### Weight Sharing"
   ]
  },
  {
   "cell_type": "code",
   "execution_count": null,
   "metadata": {},
   "outputs": [],
   "source": [
    "import weight_sharing\n",
    "reload(weight_sharing)\n",
    "from weight_sharing import *\n",
    "\n",
    "print(\"Working with weight_sharing framework\")\n",
    "\n",
    "model_ws = NetSharing1()\n",
    "optimizer_ws = torch.optim.SGD(model_ws.parameters(), lr=0.00001, momentum=0.95)  \n",
    "test_results_ws = multiple_training_runs(model_ws, nb_runs, optimizer_ws, train_input, train_target,\n",
    "                           test_input, test_target, mini_batch_size, nb_epochs)\n",
    "write_to_csv('weightsharing.csv', model_ws, test_results_ws)"
   ]
  },
  {
   "cell_type": "code",
   "execution_count": null,
   "metadata": {},
   "outputs": [],
   "source": [
    "print(test_results_ws)\n",
    "write_to_csv('weightsharing.csv', model_ws, test_results_ws)\n",
    "data = pd.read_csv('weightsharing.csv')\n",
    "data.head()"
   ]
  },
  {
   "cell_type": "markdown",
   "metadata": {},
   "source": [
    "### Auxiliary Losses"
   ]
  },
  {
   "cell_type": "code",
   "execution_count": null,
   "metadata": {},
   "outputs": [],
   "source": [
    "import auxiliary_losses\n",
    "reload(auxiliary_losses)\n",
    "from auxiliary_losses import *\n",
    "import Incept1\n",
    "reload(Incept1)\n",
    "from Incept1 import *\n",
    "nb_epochs = 300\n",
    "print(\"Working with auxiliary losses framework\")\n",
    "\n",
    "model_aux = Incept1()\n",
    "optimizer_aux = torch.optim.SGD(model_aux.parameters(), lr=0.00001, momentum=0.95)  \n",
    "test_results_aux = multiple_training_runs(model_aux, nb_runs, optimizer_aux, train_input, train_target, train_classes, \n",
    "                                          test_input, test_target, test_classes, mini_batch_size, nb_epochs)\n",
    "write_to_csv('auxiliary_losses.csv', model_aux, test_results_aux)"
   ]
  },
  {
   "cell_type": "code",
   "execution_count": null,
   "metadata": {},
   "outputs": [],
   "source": [
    "print(test_results_aux)\n",
    "write_to_csv('auxiliary_losses.csv', model_aux, test_results_aux)\n",
    "data = pd.read_csv('auxiliary_losses.csv')\n",
    "data.head()"
   ]
  },
  {
   "cell_type": "markdown",
   "metadata": {},
   "source": [
    "## Weight Sharing and Auxiliary Loss Models(Youssef)"
   ]
  },
  {
   "cell_type": "code",
   "execution_count": 8,
   "metadata": {},
   "outputs": [
    {
     "name": "stdout",
     "output_type": "stream",
     "text": [
      "torch.Size([1000, 2, 14, 14]) torch.Size([1000]) torch.Size([1000, 2]) torch.Size([1000, 2, 14, 14]) torch.Size([1000]) torch.Size([1000, 2])\n"
     ]
    }
   ],
   "source": [
    "print(train_input.shape, train_target.shape, train_classes.shape, test_input.shape, test_target.shape, test_classes.shape)"
   ]
  },
  {
   "cell_type": "code",
   "execution_count": 14,
   "metadata": {},
   "outputs": [],
   "source": [
    "from torch.autograd import Variable\n",
    "from WSharingModel import *\n",
    "from torch import nn, optim\n",
    "from torch.nn import CrossEntropyLoss\n",
    "from torch.nn import BCEWithLogitsLoss\n",
    "import torch\n",
    "from torchvision import datasets\n",
    "from torch import optim\n",
    "import dlc_practical_prologue as prologue\n",
    "from AuxModel import *\n",
    "from torch.autograd import Variable\n",
    "from torch.nn import functional as F\n",
    "from time import time\n"
   ]
  },
  {
   "cell_type": "markdown",
   "metadata": {},
   "source": [
    "#### Function that draws the evolution of the loss during training."
   ]
  },
  {
   "cell_type": "code",
   "execution_count": 9,
   "metadata": {},
   "outputs": [],
   "source": [
    "def visualize_loss(model,loss_model,lr):\n",
    "    plt.plot(loss_model[0],loss_model[1], color='orange')\n",
    "    plt.xlabel('Epochs')\n",
    "    plt.ylabel('Loss')\n",
    "    plt.title('Evolution of the loss during training with learning rate {:>5} of the model {:>5}.'.format(lr,model.__class__.__name__))\n",
    "    plt.show()"
   ]
  },
  {
   "cell_type": "markdown",
   "metadata": {},
   "source": [
    "#### Function that prints the results of the prediction one the model is trained."
   ]
  },
  {
   "cell_type": "code",
   "execution_count": 15,
   "metadata": {},
   "outputs": [],
   "source": [
    "def print_results(model,optimizer,learning_rate,NB_EPOCHS,MINI_BATCH_SIZE, train_input, train_target,test_input, test_target, time_diff):\n",
    "     print('model: {:6}, optimizer: {:6}, learning rate: {:6}, num epochs: {:3}, '\n",
    "                    'mini batch size: {:3}, train error: {:5.2f}%, test error: {:5.2f}%, time: {:.3f}'.format(\n",
    "                    model.__class__.__name__,\n",
    "                    optimizer.__name__,\n",
    "                    learning_rate,\n",
    "                    NB_EPOCHS,\n",
    "                    MINI_BATCH_SIZE,\n",
    "                    model.compute_nb_errors(model, train_input, train_target, MINI_BATCH_SIZE) / train_input.size(0) * 100,\n",
    "                    model.compute_nb_errors(model, test_input, test_target, MINI_BATCH_SIZE) / test_input.size(0) * 100,\n",
    "                    time_diff\n",
    "                    )\n",
    "                )"
   ]
  },
  {
   "cell_type": "markdown",
   "metadata": {},
   "source": [
    "### Treatement of our Training and Testing Data."
   ]
  },
  {
   "cell_type": "code",
   "execution_count": 11,
   "metadata": {},
   "outputs": [],
   "source": [
    "# normalize it\n",
    "mean, std = train_input.mean(), train_input.std() \n",
    "train_input.sub_(mean).div_(std)\n",
    "test_input.sub_(mean).div_(std)\n",
    "\n",
    "train_input, train_target, train_classes = Variable(train_input), Variable(train_target), Variable(train_classes)\n",
    "test_input, test_target = Variable(test_input), Variable(test_target)"
   ]
  },
  {
   "cell_type": "markdown",
   "metadata": {},
   "source": [
    "### We define our Learning parameters."
   ]
  },
  {
   "cell_type": "code",
   "execution_count": 18,
   "metadata": {},
   "outputs": [],
   "source": [
    "NB_EPOCHS = 25\n",
    "MINI_BATCH_SIZE = 100\n",
    "learning_rates = [0.1, 0.01]"
   ]
  },
  {
   "cell_type": "markdown",
   "metadata": {},
   "source": [
    "### We define our optimizers and losses and weights for the auxiliary losses."
   ]
  },
  {
   "cell_type": "code",
   "execution_count": 13,
   "metadata": {},
   "outputs": [],
   "source": [
    "op = torch.optim.SGD\n",
    "losses = [CrossEntropyLoss(),BCEWithLogitsLoss()]\n",
    "alpha = 0.5\n",
    "beta = 1"
   ]
  },
  {
   "cell_type": "markdown",
   "metadata": {},
   "source": [
    "### Training of Different Models and Results on Training and Testing set."
   ]
  },
  {
   "cell_type": "code",
   "execution_count": 41,
   "metadata": {
    "scrolled": true
   },
   "outputs": [],
   "source": [
    " def calculate_results(result_dct):\n",
    "    k = 0\n",
    "    for j in range(4):\n",
    "        for i in range(len(learning_rates)):\n",
    "            models = [WSModel(),WSModel1(),AuxModel(),AuxModel1()]\n",
    "            model = models[j]\n",
    "            optimizer = op(model.parameters(),lr = learning_rates[i])\n",
    "            if (j<2):\n",
    "                #print(\"here\")\n",
    "                start_time = time()\n",
    "                loss_aux = train_model_WS(model, optimizer,  train_input, train_target, NB_EPOCHS, MINI_BATCH_SIZE,losses[0])\n",
    "                end_time = time()\n",
    "            elif(j>1):\n",
    "                #print(\"here here\")\n",
    "                start_time = time()\n",
    "                loss_aux = train_model_AM(model, optimizer,  train_input, train_target, train_classes,NB_EPOCHS, MINI_BATCH_SIZE,losses[0],alpha,beta)\n",
    "                end_time = time()\n",
    "            #print(\"model:\",model)\n",
    "            time_diff = end_time - start_time\n",
    "            print_results(model,op,learning_rates[i],NB_EPOCHS,MINI_BATCH_SIZE, train_input, train_target,test_input, test_target, time_diff)\n",
    "            print(result_dct[k])\n",
    "            train_error = model.compute_nb_errors(model, train_input, train_target, MINI_BATCH_SIZE) / train_input.size(0) * 100\n",
    "            test_error = model.compute_nb_errors(model, test_input, test_target, MINI_BATCH_SIZE) / test_input.size(0) * 100\n",
    "            result_dct[k]['train_error'].append(train_error)\n",
    "            result_dct[k]['test_error'].append(test_error)\n",
    "            result_dct[k]['time'].append(time_diff)\n",
    "            k += 1\n",
    "    return result_dct\n",
    "            #visualize_loss(model,loss_aux,learning_rates[i])"
   ]
  },
  {
   "cell_type": "code",
   "execution_count": 42,
   "metadata": {},
   "outputs": [
    {
     "name": "stdout",
     "output_type": "stream",
     "text": [
      "defaultdict(<class 'dict'>, {0: {'train_error': [], 'test_error': [], 'time': []}, 1: {'train_error': [], 'test_error': [], 'time': []}, 2: {'train_error': [], 'test_error': [], 'time': []}, 3: {'train_error': [], 'test_error': [], 'time': []}, 4: {'train_error': [], 'test_error': [], 'time': []}, 5: {'train_error': [], 'test_error': [], 'time': []}, 6: {'train_error': [], 'test_error': [], 'time': []}, 7: {'train_error': [], 'test_error': [], 'time': []}})\n",
      "Loss at   0 : 1.8308327198028564  \n",
      "model: WSModel, optimizer: SGD   , learning rate:    0.1, num epochs:  25, mini batch size: 100, train error:  5.40%, test error: 13.90%, time: 18.346\n",
      "{'train_error': [], 'test_error': [], 'time': []}\n",
      "Loss at   0 : 1.2222884893417358  \n",
      "model: WSModel, optimizer: SGD   , learning rate:   0.01, num epochs:  25, mini batch size: 100, train error: 24.10%, test error: 25.60%, time: 23.529\n",
      "{'train_error': [], 'test_error': [], 'time': []}\n",
      "Loss at   0 : 0.6671006083488464  \n",
      "model: WSModel1, optimizer: SGD   , learning rate:    0.1, num epochs:  25, mini batch size: 100, train error:  1.10%, test error: 14.40%, time: 24.001\n",
      "{'train_error': [], 'test_error': [], 'time': []}\n",
      "Loss at   0 : 0.6915774345397949  \n",
      "model: WSModel1, optimizer: SGD   , learning rate:   0.01, num epochs:  25, mini batch size: 100, train error: 21.20%, test error: 19.80%, time: 26.139\n",
      "{'train_error': [], 'test_error': [], 'time': []}\n",
      "Loss at   0 : 4.851909160614014  \n",
      "model: AuxModel, optimizer: SGD   , learning rate:    0.1, num epochs:  25, mini batch size: 100, train error:  7.70%, test error: 10.30%, time: 26.473\n",
      "{'train_error': [], 'test_error': [], 'time': []}\n",
      "Loss at   0 : 4.942814350128174  \n",
      "model: AuxModel, optimizer: SGD   , learning rate:   0.01, num epochs:  25, mini batch size: 100, train error: 46.70%, test error: 48.80%, time: 29.614\n",
      "{'train_error': [], 'test_error': [], 'time': []}\n",
      "Loss at   0 : 4.525394439697266  \n",
      "model: AuxModel1, optimizer: SGD   , learning rate:    0.1, num epochs:  25, mini batch size: 100, train error:  6.00%, test error: 11.40%, time: 26.080\n",
      "{'train_error': [], 'test_error': [], 'time': []}\n",
      "Loss at   0 : 4.928192138671875  \n",
      "model: AuxModel1, optimizer: SGD   , learning rate:   0.01, num epochs:  25, mini batch size: 100, train error: 36.60%, test error: 36.70%, time: 25.197\n",
      "{'train_error': [], 'test_error': [], 'time': []}\n",
      "defaultdict(<class 'dict'>, {0: {'train_error': [5.4], 'test_error': [13.900000000000002], 'time': [18.34577441215515]}, 1: {'train_error': [24.099999999999998], 'test_error': [25.6], 'time': [23.529094219207764]}, 2: {'train_error': [1.0999999999999999], 'test_error': [14.399999999999999], 'time': [24.00083613395691]}, 3: {'train_error': [21.2], 'test_error': [19.8], 'time': [26.139116525650024]}, 4: {'train_error': [7.7], 'test_error': [10.299999999999999], 'time': [26.473223447799683]}, 5: {'train_error': [46.7], 'test_error': [48.8], 'time': [29.614402770996094]}, 6: {'train_error': [6.0], 'test_error': [11.4], 'time': [26.080273389816284]}, 7: {'train_error': [36.6], 'test_error': [36.7], 'time': [25.196635007858276]}})\n",
      "Loss at   0 : 1.599490761756897  \n",
      "model: WSModel, optimizer: SGD   , learning rate:    0.1, num epochs:  25, mini batch size: 100, train error:  5.60%, test error: 14.10%, time: 25.244\n",
      "{'train_error': [5.4], 'test_error': [13.900000000000002], 'time': [18.34577441215515]}\n",
      "Loss at   0 : 0.9221091270446777  \n",
      "model: WSModel, optimizer: SGD   , learning rate:   0.01, num epochs:  25, mini batch size: 100, train error: 21.80%, test error: 23.80%, time: 25.573\n",
      "{'train_error': [24.099999999999998], 'test_error': [25.6], 'time': [23.529094219207764]}\n",
      "Loss at   0 : 0.6476410031318665  \n",
      "model: WSModel1, optimizer: SGD   , learning rate:    0.1, num epochs:  25, mini batch size: 100, train error:  0.10%, test error: 13.50%, time: 21.688\n",
      "{'train_error': [1.0999999999999999], 'test_error': [14.399999999999999], 'time': [24.00083613395691]}\n",
      "Loss at   0 : 0.6874493360519409  \n",
      "model: WSModel1, optimizer: SGD   , learning rate:   0.01, num epochs:  25, mini batch size: 100, train error: 21.60%, test error: 21.10%, time: 21.632\n",
      "{'train_error': [21.2], 'test_error': [19.8], 'time': [26.139116525650024]}\n",
      "Loss at   0 : 4.856729030609131  \n",
      "model: AuxModel, optimizer: SGD   , learning rate:    0.1, num epochs:  25, mini batch size: 100, train error:  6.20%, test error: 10.00%, time: 22.363\n",
      "{'train_error': [7.7], 'test_error': [10.299999999999999], 'time': [26.473223447799683]}\n",
      "Loss at   0 : 4.96417236328125  \n",
      "model: AuxModel, optimizer: SGD   , learning rate:   0.01, num epochs:  25, mini batch size: 100, train error: 45.30%, test error: 43.40%, time: 21.632\n",
      "{'train_error': [46.7], 'test_error': [48.8], 'time': [29.614402770996094]}\n",
      "Loss at   0 : 4.5680832862854  \n",
      "model: AuxModel1, optimizer: SGD   , learning rate:    0.1, num epochs:  25, mini batch size: 100, train error: 10.50%, test error: 12.90%, time: 22.550\n",
      "{'train_error': [6.0], 'test_error': [11.4], 'time': [26.080273389816284]}\n",
      "Loss at   0 : 4.892802715301514  \n",
      "model: AuxModel1, optimizer: SGD   , learning rate:   0.01, num epochs:  25, mini batch size: 100, train error: 29.20%, test error: 28.50%, time: 21.920\n",
      "{'train_error': [36.6], 'test_error': [36.7], 'time': [25.196635007858276]}\n",
      "defaultdict(<class 'dict'>, {0: {'train_error': [5.4, 5.6000000000000005], 'test_error': [13.900000000000002, 14.099999999999998], 'time': [18.34577441215515, 25.243510007858276]}, 1: {'train_error': [24.099999999999998, 21.8], 'test_error': [25.6, 23.799999999999997], 'time': [23.529094219207764, 25.57263159751892]}, 2: {'train_error': [1.0999999999999999, 0.1], 'test_error': [14.399999999999999, 13.5], 'time': [24.00083613395691, 21.688016414642334]}, 3: {'train_error': [21.2, 21.6], 'test_error': [19.8, 21.099999999999998], 'time': [26.139116525650024, 21.63216543197632]}, 4: {'train_error': [7.7, 6.2], 'test_error': [10.299999999999999, 10.0], 'time': [26.473223447799683, 22.363212823867798]}, 5: {'train_error': [46.7, 45.300000000000004], 'test_error': [48.8, 43.4], 'time': [29.614402770996094, 21.632165908813477]}, 6: {'train_error': [6.0, 10.5], 'test_error': [11.4, 12.9], 'time': [26.080273389816284, 22.549712896347046]}, 7: {'train_error': [36.6, 29.2], 'test_error': [36.7, 28.499999999999996], 'time': [25.196635007858276, 21.920395374298096]}})\n",
      "Loss at   0 : 1.9444628953933716  \n",
      "model: WSModel, optimizer: SGD   , learning rate:    0.1, num epochs:  25, mini batch size: 100, train error:  4.50%, test error: 13.80%, time: 21.689\n",
      "{'train_error': [5.4, 5.6000000000000005], 'test_error': [13.900000000000002, 14.099999999999998], 'time': [18.34577441215515, 25.243510007858276]}\n",
      "Loss at   0 : 1.0348694324493408  \n",
      "model: WSModel, optimizer: SGD   , learning rate:   0.01, num epochs:  25, mini batch size: 100, train error: 22.30%, test error: 25.00%, time: 21.261\n",
      "{'train_error': [24.099999999999998, 21.8], 'test_error': [25.6, 23.799999999999997], 'time': [23.529094219207764, 25.57263159751892]}\n",
      "Loss at   0 : 0.6628360748291016  \n",
      "model: WSModel1, optimizer: SGD   , learning rate:    0.1, num epochs:  25, mini batch size: 100, train error:  0.90%, test error: 14.90%, time: 21.557\n",
      "{'train_error': [1.0999999999999999, 0.1], 'test_error': [14.399999999999999, 13.5], 'time': [24.00083613395691, 21.688016414642334]}\n",
      "Loss at   0 : 0.6847836971282959  \n",
      "model: WSModel1, optimizer: SGD   , learning rate:   0.01, num epochs:  25, mini batch size: 100, train error: 21.10%, test error: 20.50%, time: 21.180\n",
      "{'train_error': [21.2, 21.6], 'test_error': [19.8, 21.099999999999998], 'time': [26.139116525650024, 21.63216543197632]}\n",
      "Loss at   0 : 4.857645034790039  \n",
      "model: AuxModel, optimizer: SGD   , learning rate:    0.1, num epochs:  25, mini batch size: 100, train error: 18.50%, test error: 23.00%, time: 22.309\n",
      "{'train_error': [7.7, 6.2], 'test_error': [10.299999999999999, 10.0], 'time': [26.473223447799683, 22.363212823867798]}\n",
      "Loss at   0 : 4.9453911781311035  \n",
      "model: AuxModel, optimizer: SGD   , learning rate:   0.01, num epochs:  25, mini batch size: 100, train error: 30.70%, test error: 30.40%, time: 21.612\n"
     ]
    },
    {
     "name": "stdout",
     "output_type": "stream",
     "text": [
      "{'train_error': [46.7, 45.300000000000004], 'test_error': [48.8, 43.4], 'time': [29.614402770996094, 21.632165908813477]}\n",
      "Loss at   0 : 4.580043792724609  \n",
      "model: AuxModel1, optimizer: SGD   , learning rate:    0.1, num epochs:  25, mini batch size: 100, train error:  5.40%, test error:  9.50%, time: 22.168\n",
      "{'train_error': [6.0, 10.5], 'test_error': [11.4, 12.9], 'time': [26.080273389816284, 22.549712896347046]}\n",
      "Loss at   0 : 4.9327802658081055  \n",
      "model: AuxModel1, optimizer: SGD   , learning rate:   0.01, num epochs:  25, mini batch size: 100, train error: 31.20%, test error: 31.40%, time: 21.816\n",
      "{'train_error': [36.6, 29.2], 'test_error': [36.7, 28.499999999999996], 'time': [25.196635007858276, 21.920395374298096]}\n",
      "defaultdict(<class 'dict'>, {0: {'train_error': [5.4, 5.6000000000000005, 4.5], 'test_error': [13.900000000000002, 14.099999999999998, 13.8], 'time': [18.34577441215515, 25.243510007858276, 21.689013242721558]}, 1: {'train_error': [24.099999999999998, 21.8, 22.3], 'test_error': [25.6, 23.799999999999997, 25.0], 'time': [23.529094219207764, 25.57263159751892, 21.261157512664795]}, 2: {'train_error': [1.0999999999999999, 0.1, 0.8999999999999999], 'test_error': [14.399999999999999, 13.5, 14.899999999999999], 'time': [24.00083613395691, 21.688016414642334, 21.557363986968994]}, 3: {'train_error': [21.2, 21.6, 21.099999999999998], 'test_error': [19.8, 21.099999999999998, 20.5], 'time': [26.139116525650024, 21.63216543197632, 21.180373668670654]}, 4: {'train_error': [7.7, 6.2, 18.5], 'test_error': [10.299999999999999, 10.0, 23.0], 'time': [26.473223447799683, 22.363212823867798, 22.30935525894165]}, 5: {'train_error': [46.7, 45.300000000000004, 30.7], 'test_error': [48.8, 43.4, 30.4], 'time': [29.614402770996094, 21.632165908813477, 21.612218141555786]}, 6: {'train_error': [6.0, 10.5, 5.4], 'test_error': [11.4, 12.9, 9.5], 'time': [26.080273389816284, 22.549712896347046, 22.167733907699585]}, 7: {'train_error': [36.6, 29.2, 31.2], 'test_error': [36.7, 28.499999999999996, 31.4], 'time': [25.196635007858276, 21.920395374298096, 21.815675973892212]}})\n",
      "Loss at   0 : 0.856299638748169  \n",
      "model: WSModel, optimizer: SGD   , learning rate:    0.1, num epochs:  25, mini batch size: 100, train error:  5.40%, test error: 13.20%, time: 26.096\n",
      "{'train_error': [5.4, 5.6000000000000005, 4.5], 'test_error': [13.900000000000002, 14.099999999999998, 13.8], 'time': [18.34577441215515, 25.243510007858276, 21.689013242721558]}\n",
      "Loss at   0 : 1.1200377941131592  \n",
      "model: WSModel, optimizer: SGD   , learning rate:   0.01, num epochs:  25, mini batch size: 100, train error: 24.00%, test error: 24.80%, time: 24.251\n",
      "{'train_error': [24.099999999999998, 21.8, 22.3], 'test_error': [25.6, 23.799999999999997, 25.0], 'time': [23.529094219207764, 25.57263159751892, 21.261157512664795]}\n",
      "Loss at   0 : 0.6554172039031982  \n",
      "model: WSModel1, optimizer: SGD   , learning rate:    0.1, num epochs:  25, mini batch size: 100, train error:  0.10%, test error: 13.10%, time: 24.636\n",
      "{'train_error': [1.0999999999999999, 0.1, 0.8999999999999999], 'test_error': [14.399999999999999, 13.5, 14.899999999999999], 'time': [24.00083613395691, 21.688016414642334, 21.557363986968994]}\n",
      "Loss at   0 : 0.6926718950271606  \n",
      "model: WSModel1, optimizer: SGD   , learning rate:   0.01, num epochs:  25, mini batch size: 100, train error: 21.60%, test error: 23.80%, time: 24.535\n",
      "{'train_error': [21.2, 21.6, 21.099999999999998], 'test_error': [19.8, 21.099999999999998, 20.5], 'time': [26.139116525650024, 21.63216543197632, 21.180373668670654]}\n",
      "Loss at   0 : 4.876310348510742  \n",
      "model: AuxModel, optimizer: SGD   , learning rate:    0.1, num epochs:  25, mini batch size: 100, train error:  6.40%, test error: 11.40%, time: 27.179\n",
      "{'train_error': [7.7, 6.2, 18.5], 'test_error': [10.299999999999999, 10.0, 23.0], 'time': [26.473223447799683, 22.363212823867798, 22.30935525894165]}\n",
      "Loss at   0 : 4.961866855621338  \n",
      "model: AuxModel, optimizer: SGD   , learning rate:   0.01, num epochs:  25, mini batch size: 100, train error: 42.30%, test error: 41.30%, time: 26.004\n",
      "{'train_error': [46.7, 45.300000000000004, 30.7], 'test_error': [48.8, 43.4, 30.4], 'time': [29.614402770996094, 21.632165908813477, 21.612218141555786]}\n",
      "Loss at   0 : 4.603160858154297  \n",
      "model: AuxModel1, optimizer: SGD   , learning rate:    0.1, num epochs:  25, mini batch size: 100, train error:  6.00%, test error:  8.80%, time: 25.342\n",
      "{'train_error': [6.0, 10.5, 5.4], 'test_error': [11.4, 12.9, 9.5], 'time': [26.080273389816284, 22.549712896347046, 22.167733907699585]}\n",
      "Loss at   0 : 4.9306745529174805  \n",
      "model: AuxModel1, optimizer: SGD   , learning rate:   0.01, num epochs:  25, mini batch size: 100, train error: 36.70%, test error: 38.40%, time: 25.466\n",
      "{'train_error': [36.6, 29.2, 31.2], 'test_error': [36.7, 28.499999999999996, 31.4], 'time': [25.196635007858276, 21.920395374298096, 21.815675973892212]}\n",
      "defaultdict(<class 'dict'>, {0: {'train_error': [5.4, 5.6000000000000005, 4.5, 5.4], 'test_error': [13.900000000000002, 14.099999999999998, 13.8, 13.200000000000001], 'time': [18.34577441215515, 25.243510007858276, 21.689013242721558, 26.096319913864136]}, 1: {'train_error': [24.099999999999998, 21.8, 22.3, 24.0], 'test_error': [25.6, 23.799999999999997, 25.0, 24.8], 'time': [23.529094219207764, 25.57263159751892, 21.261157512664795, 24.251163244247437]}, 2: {'train_error': [1.0999999999999999, 0.1, 0.8999999999999999, 0.1], 'test_error': [14.399999999999999, 13.5, 14.899999999999999, 13.100000000000001], 'time': [24.00083613395691, 21.688016414642334, 21.557363986968994, 24.636134386062622]}, 3: {'train_error': [21.2, 21.6, 21.099999999999998, 21.6], 'test_error': [19.8, 21.099999999999998, 20.5, 23.799999999999997], 'time': [26.139116525650024, 21.63216543197632, 21.180373668670654, 24.535403966903687]}, 4: {'train_error': [7.7, 6.2, 18.5, 6.4], 'test_error': [10.299999999999999, 10.0, 23.0, 11.4], 'time': [26.473223447799683, 22.363212823867798, 22.30935525894165, 27.179333686828613]}, 5: {'train_error': [46.7, 45.300000000000004, 30.7, 42.3], 'test_error': [48.8, 43.4, 30.4, 41.3], 'time': [29.614402770996094, 21.632165908813477, 21.612218141555786, 26.003785371780396]}, 6: {'train_error': [6.0, 10.5, 5.4, 6.0], 'test_error': [11.4, 12.9, 9.5, 8.799999999999999], 'time': [26.080273389816284, 22.549712896347046, 22.167733907699585, 25.342246294021606]}, 7: {'train_error': [36.6, 29.2, 31.2, 36.7], 'test_error': [36.7, 28.499999999999996, 31.4, 38.4], 'time': [25.196635007858276, 21.920395374298096, 21.815675973892212, 25.465779542922974]}})\n",
      "Loss at   0 : 1.0062077045440674  \n",
      "model: WSModel, optimizer: SGD   , learning rate:    0.1, num epochs:  25, mini batch size: 100, train error:  8.10%, test error: 16.10%, time: 24.411\n",
      "{'train_error': [5.4, 5.6000000000000005, 4.5, 5.4], 'test_error': [13.900000000000002, 14.099999999999998, 13.8, 13.200000000000001], 'time': [18.34577441215515, 25.243510007858276, 21.689013242721558, 26.096319913864136]}\n",
      "Loss at   0 : 1.0943666696548462  \n",
      "model: WSModel, optimizer: SGD   , learning rate:   0.01, num epochs:  25, mini batch size: 100, train error: 24.50%, test error: 27.10%, time: 24.259\n",
      "{'train_error': [24.099999999999998, 21.8, 22.3, 24.0], 'test_error': [25.6, 23.799999999999997, 25.0, 24.8], 'time': [23.529094219207764, 25.57263159751892, 21.261157512664795, 24.251163244247437]}\n",
      "Loss at   0 : 0.6610462665557861  \n",
      "model: WSModel1, optimizer: SGD   , learning rate:    0.1, num epochs:  25, mini batch size: 100, train error:  0.30%, test error: 13.80%, time: 23.523\n",
      "{'train_error': [1.0999999999999999, 0.1, 0.8999999999999999, 0.1], 'test_error': [14.399999999999999, 13.5, 14.899999999999999, 13.100000000000001], 'time': [24.00083613395691, 21.688016414642334, 21.557363986968994, 24.636134386062622]}\n",
      "Loss at   0 : 0.6848335862159729  \n",
      "model: WSModel1, optimizer: SGD   , learning rate:   0.01, num epochs:  25, mini batch size: 100, train error: 20.50%, test error: 19.00%, time: 22.886\n",
      "{'train_error': [21.2, 21.6, 21.099999999999998, 21.6], 'test_error': [19.8, 21.099999999999998, 20.5, 23.799999999999997], 'time': [26.139116525650024, 21.63216543197632, 21.180373668670654, 24.535403966903687]}\n"
     ]
    },
    {
     "name": "stdout",
     "output_type": "stream",
     "text": [
      "Loss at   0 : 4.852020263671875  \n",
      "model: AuxModel, optimizer: SGD   , learning rate:    0.1, num epochs:  25, mini batch size: 100, train error:  9.10%, test error:  9.60%, time: 27.508\n",
      "{'train_error': [7.7, 6.2, 18.5, 6.4], 'test_error': [10.299999999999999, 10.0, 23.0, 11.4], 'time': [26.473223447799683, 22.363212823867798, 22.30935525894165, 27.179333686828613]}\n",
      "Loss at   0 : 4.949337959289551  \n",
      "model: AuxModel, optimizer: SGD   , learning rate:   0.01, num epochs:  25, mini batch size: 100, train error: 44.60%, test error: 48.80%, time: 22.599\n",
      "{'train_error': [46.7, 45.300000000000004, 30.7, 42.3], 'test_error': [48.8, 43.4, 30.4, 41.3], 'time': [29.614402770996094, 21.632165908813477, 21.612218141555786, 26.003785371780396]}\n",
      "Loss at   0 : 4.7352447509765625  \n",
      "model: AuxModel1, optimizer: SGD   , learning rate:    0.1, num epochs:  25, mini batch size: 100, train error:  5.60%, test error: 10.90%, time: 21.811\n",
      "{'train_error': [6.0, 10.5, 5.4, 6.0], 'test_error': [11.4, 12.9, 9.5, 8.799999999999999], 'time': [26.080273389816284, 22.549712896347046, 22.167733907699585, 25.342246294021606]}\n",
      "Loss at   0 : 4.916016101837158  \n",
      "model: AuxModel1, optimizer: SGD   , learning rate:   0.01, num epochs:  25, mini batch size: 100, train error: 32.70%, test error: 34.50%, time: 22.064\n",
      "{'train_error': [36.6, 29.2, 31.2, 36.7], 'test_error': [36.7, 28.499999999999996, 31.4, 38.4], 'time': [25.196635007858276, 21.920395374298096, 21.815675973892212, 25.465779542922974]}\n",
      "defaultdict(<class 'dict'>, {0: {'train_error': [5.4, 5.6000000000000005, 4.5, 5.4, 8.1], 'test_error': [13.900000000000002, 14.099999999999998, 13.8, 13.200000000000001, 16.1], 'time': [18.34577441215515, 25.243510007858276, 21.689013242721558, 26.096319913864136, 24.410738706588745]}, 1: {'train_error': [24.099999999999998, 21.8, 22.3, 24.0, 24.5], 'test_error': [25.6, 23.799999999999997, 25.0, 24.8, 27.1], 'time': [23.529094219207764, 25.57263159751892, 21.261157512664795, 24.251163244247437, 24.25906753540039]}, 2: {'train_error': [1.0999999999999999, 0.1, 0.8999999999999999, 0.1, 0.3], 'test_error': [14.399999999999999, 13.5, 14.899999999999999, 13.100000000000001, 13.8], 'time': [24.00083613395691, 21.688016414642334, 21.557363986968994, 24.636134386062622, 23.523109912872314]}, 3: {'train_error': [21.2, 21.6, 21.099999999999998, 21.6, 20.5], 'test_error': [19.8, 21.099999999999998, 20.5, 23.799999999999997, 19.0], 'time': [26.139116525650024, 21.63216543197632, 21.180373668670654, 24.535403966903687, 22.885812044143677]}, 4: {'train_error': [7.7, 6.2, 18.5, 6.4, 9.1], 'test_error': [10.299999999999999, 10.0, 23.0, 11.4, 9.6], 'time': [26.473223447799683, 22.363212823867798, 22.30935525894165, 27.179333686828613, 27.508164405822754]}, 5: {'train_error': [46.7, 45.300000000000004, 30.7, 42.3, 44.6], 'test_error': [48.8, 43.4, 30.4, 41.3, 48.8], 'time': [29.614402770996094, 21.632165908813477, 21.612218141555786, 26.003785371780396, 22.598748683929443]}, 6: {'train_error': [6.0, 10.5, 5.4, 6.0, 5.6000000000000005], 'test_error': [11.4, 12.9, 9.5, 8.799999999999999, 10.9], 'time': [26.080273389816284, 22.549712896347046, 22.167733907699585, 25.342246294021606, 21.811278104782104]}, 7: {'train_error': [36.6, 29.2, 31.2, 36.7, 32.7], 'test_error': [36.7, 28.499999999999996, 31.4, 38.4, 34.5], 'time': [25.196635007858276, 21.920395374298096, 21.815675973892212, 25.465779542922974, 22.063819408416748]}})\n",
      "Loss at   0 : 1.48319411277771  \n",
      "model: WSModel, optimizer: SGD   , learning rate:    0.1, num epochs:  25, mini batch size: 100, train error:  7.30%, test error: 15.20%, time: 22.902\n",
      "{'train_error': [5.4, 5.6000000000000005, 4.5, 5.4, 8.1], 'test_error': [13.900000000000002, 14.099999999999998, 13.8, 13.200000000000001, 16.1], 'time': [18.34577441215515, 25.243510007858276, 21.689013242721558, 26.096319913864136, 24.410738706588745]}\n",
      "Loss at   0 : 1.0808861255645752  \n",
      "model: WSModel, optimizer: SGD   , learning rate:   0.01, num epochs:  25, mini batch size: 100, train error: 24.10%, test error: 24.60%, time: 23.300\n",
      "{'train_error': [24.099999999999998, 21.8, 22.3, 24.0, 24.5], 'test_error': [25.6, 23.799999999999997, 25.0, 24.8, 27.1], 'time': [23.529094219207764, 25.57263159751892, 21.261157512664795, 24.251163244247437, 24.25906753540039]}\n",
      "Loss at   0 : 0.6451043486595154  \n",
      "model: WSModel1, optimizer: SGD   , learning rate:    0.1, num epochs:  25, mini batch size: 100, train error:  0.10%, test error: 13.70%, time: 22.550\n",
      "{'train_error': [1.0999999999999999, 0.1, 0.8999999999999999, 0.1, 0.3], 'test_error': [14.399999999999999, 13.5, 14.899999999999999, 13.100000000000001, 13.8], 'time': [24.00083613395691, 21.688016414642334, 21.557363986968994, 24.636134386062622, 23.523109912872314]}\n",
      "Loss at   0 : 0.6792806386947632  \n",
      "model: WSModel1, optimizer: SGD   , learning rate:   0.01, num epochs:  25, mini batch size: 100, train error: 19.90%, test error: 19.80%, time: 23.227\n",
      "{'train_error': [21.2, 21.6, 21.099999999999998, 21.6, 20.5], 'test_error': [19.8, 21.099999999999998, 20.5, 23.799999999999997, 19.0], 'time': [26.139116525650024, 21.63216543197632, 21.180373668670654, 24.535403966903687, 22.885812044143677]}\n",
      "Loss at   0 : 4.870817184448242  \n",
      "model: AuxModel, optimizer: SGD   , learning rate:    0.1, num epochs:  25, mini batch size: 100, train error:  6.50%, test error: 10.00%, time: 22.923\n",
      "{'train_error': [7.7, 6.2, 18.5, 6.4, 9.1], 'test_error': [10.299999999999999, 10.0, 23.0, 11.4, 9.6], 'time': [26.473223447799683, 22.363212823867798, 22.30935525894165, 27.179333686828613, 27.508164405822754]}\n",
      "Loss at   0 : 4.972230434417725  \n",
      "model: AuxModel, optimizer: SGD   , learning rate:   0.01, num epochs:  25, mini batch size: 100, train error: 48.20%, test error: 48.30%, time: 22.345\n",
      "{'train_error': [46.7, 45.300000000000004, 30.7, 42.3, 44.6], 'test_error': [48.8, 43.4, 30.4, 41.3, 48.8], 'time': [29.614402770996094, 21.632165908813477, 21.612218141555786, 26.003785371780396, 22.598748683929443]}\n",
      "Loss at   0 : 4.525943279266357  \n",
      "model: AuxModel1, optimizer: SGD   , learning rate:    0.1, num epochs:  25, mini batch size: 100, train error: 12.90%, test error: 14.80%, time: 22.907\n",
      "{'train_error': [6.0, 10.5, 5.4, 6.0, 5.6000000000000005], 'test_error': [11.4, 12.9, 9.5, 8.799999999999999, 10.9], 'time': [26.080273389816284, 22.549712896347046, 22.167733907699585, 25.342246294021606, 21.811278104782104]}\n",
      "Loss at   0 : 4.894450664520264  \n",
      "model: AuxModel1, optimizer: SGD   , learning rate:   0.01, num epochs:  25, mini batch size: 100, train error: 40.50%, test error: 40.00%, time: 21.814\n",
      "{'train_error': [36.6, 29.2, 31.2, 36.7, 32.7], 'test_error': [36.7, 28.499999999999996, 31.4, 38.4, 34.5], 'time': [25.196635007858276, 21.920395374298096, 21.815675973892212, 25.465779542922974, 22.063819408416748]}\n"
     ]
    },
    {
     "name": "stdout",
     "output_type": "stream",
     "text": [
      "defaultdict(<class 'dict'>, {0: {'train_error': [5.4, 5.6000000000000005, 4.5, 5.4, 8.1, 7.3], 'test_error': [13.900000000000002, 14.099999999999998, 13.8, 13.200000000000001, 16.1, 15.2], 'time': [18.34577441215515, 25.243510007858276, 21.689013242721558, 26.096319913864136, 24.410738706588745, 22.901767015457153]}, 1: {'train_error': [24.099999999999998, 21.8, 22.3, 24.0, 24.5, 24.099999999999998], 'test_error': [25.6, 23.799999999999997, 25.0, 24.8, 27.1, 24.6], 'time': [23.529094219207764, 25.57263159751892, 21.261157512664795, 24.251163244247437, 24.25906753540039, 23.300223112106323]}, 2: {'train_error': [1.0999999999999999, 0.1, 0.8999999999999999, 0.1, 0.3, 0.1], 'test_error': [14.399999999999999, 13.5, 14.899999999999999, 13.100000000000001, 13.8, 13.700000000000001], 'time': [24.00083613395691, 21.688016414642334, 21.557363986968994, 24.636134386062622, 23.523109912872314, 22.550456523895264]}, 3: {'train_error': [21.2, 21.6, 21.099999999999998, 21.6, 20.5, 19.900000000000002], 'test_error': [19.8, 21.099999999999998, 20.5, 23.799999999999997, 19.0, 19.8], 'time': [26.139116525650024, 21.63216543197632, 21.180373668670654, 24.535403966903687, 22.885812044143677, 23.22749400138855]}, 4: {'train_error': [7.7, 6.2, 18.5, 6.4, 9.1, 6.5], 'test_error': [10.299999999999999, 10.0, 23.0, 11.4, 9.6, 10.0], 'time': [26.473223447799683, 22.363212823867798, 22.30935525894165, 27.179333686828613, 27.508164405822754, 22.922714710235596]}, 5: {'train_error': [46.7, 45.300000000000004, 30.7, 42.3, 44.6, 48.199999999999996], 'test_error': [48.8, 43.4, 30.4, 41.3, 48.8, 48.3], 'time': [29.614402770996094, 21.632165908813477, 21.612218141555786, 26.003785371780396, 22.598748683929443, 22.345162868499756]}, 6: {'train_error': [6.0, 10.5, 5.4, 6.0, 5.6000000000000005, 12.9], 'test_error': [11.4, 12.9, 9.5, 8.799999999999999, 10.9, 14.799999999999999], 'time': [26.080273389816284, 22.549712896347046, 22.167733907699585, 25.342246294021606, 21.811278104782104, 22.906574010849]}, 7: {'train_error': [36.6, 29.2, 31.2, 36.7, 32.7, 40.5], 'test_error': [36.7, 28.499999999999996, 31.4, 38.4, 34.5, 40.0], 'time': [25.196635007858276, 21.920395374298096, 21.815675973892212, 25.465779542922974, 22.063819408416748, 21.813679933547974]}})\n",
      "Loss at   0 : 1.3044432401657104  \n",
      "model: WSModel, optimizer: SGD   , learning rate:    0.1, num epochs:  25, mini batch size: 100, train error:  5.80%, test error: 14.00%, time: 25.148\n",
      "{'train_error': [5.4, 5.6000000000000005, 4.5, 5.4, 8.1, 7.3], 'test_error': [13.900000000000002, 14.099999999999998, 13.8, 13.200000000000001, 16.1, 15.2], 'time': [18.34577441215515, 25.243510007858276, 21.689013242721558, 26.096319913864136, 24.410738706588745, 22.901767015457153]}\n",
      "Loss at   0 : 1.0330449342727661  \n",
      "model: WSModel, optimizer: SGD   , learning rate:   0.01, num epochs:  25, mini batch size: 100, train error: 21.10%, test error: 24.70%, time: 24.051\n",
      "{'train_error': [24.099999999999998, 21.8, 22.3, 24.0, 24.5, 24.099999999999998], 'test_error': [25.6, 23.799999999999997, 25.0, 24.8, 27.1, 24.6], 'time': [23.529094219207764, 25.57263159751892, 21.261157512664795, 24.251163244247437, 24.25906753540039, 23.300223112106323]}\n",
      "Loss at   0 : 0.6668599843978882  \n",
      "model: WSModel1, optimizer: SGD   , learning rate:    0.1, num epochs:  25, mini batch size: 100, train error:  1.20%, test error: 13.40%, time: 24.557\n",
      "{'train_error': [1.0999999999999999, 0.1, 0.8999999999999999, 0.1, 0.3, 0.1], 'test_error': [14.399999999999999, 13.5, 14.899999999999999, 13.100000000000001, 13.8, 13.700000000000001], 'time': [24.00083613395691, 21.688016414642334, 21.557363986968994, 24.636134386062622, 23.523109912872314, 22.550456523895264]}\n",
      "Loss at   0 : 0.6931094527244568  \n",
      "model: WSModel1, optimizer: SGD   , learning rate:   0.01, num epochs:  25, mini batch size: 100, train error: 21.60%, test error: 21.60%, time: 27.385\n",
      "{'train_error': [21.2, 21.6, 21.099999999999998, 21.6, 20.5, 19.900000000000002], 'test_error': [19.8, 21.099999999999998, 20.5, 23.799999999999997, 19.0, 19.8], 'time': [26.139116525650024, 21.63216543197632, 21.180373668670654, 24.535403966903687, 22.885812044143677, 23.22749400138855]}\n",
      "Loss at   0 : 4.835402488708496  \n",
      "model: AuxModel, optimizer: SGD   , learning rate:    0.1, num epochs:  25, mini batch size: 100, train error:  4.90%, test error:  9.90%, time: 25.671\n",
      "{'train_error': [7.7, 6.2, 18.5, 6.4, 9.1, 6.5], 'test_error': [10.299999999999999, 10.0, 23.0, 11.4, 9.6, 10.0], 'time': [26.473223447799683, 22.363212823867798, 22.30935525894165, 27.179333686828613, 27.508164405822754, 22.922714710235596]}\n",
      "Loss at   0 : 4.945645332336426  \n",
      "model: AuxModel, optimizer: SGD   , learning rate:   0.01, num epochs:  25, mini batch size: 100, train error: 39.90%, test error: 42.80%, time: 25.565\n",
      "{'train_error': [46.7, 45.300000000000004, 30.7, 42.3, 44.6, 48.199999999999996], 'test_error': [48.8, 43.4, 30.4, 41.3, 48.8, 48.3], 'time': [29.614402770996094, 21.632165908813477, 21.612218141555786, 26.003785371780396, 22.598748683929443, 22.345162868499756]}\n",
      "Loss at   0 : 4.465504169464111  \n",
      "model: AuxModel1, optimizer: SGD   , learning rate:    0.1, num epochs:  25, mini batch size: 100, train error: 17.70%, test error: 19.60%, time: 24.746\n",
      "{'train_error': [6.0, 10.5, 5.4, 6.0, 5.6000000000000005, 12.9], 'test_error': [11.4, 12.9, 9.5, 8.799999999999999, 10.9, 14.799999999999999], 'time': [26.080273389816284, 22.549712896347046, 22.167733907699585, 25.342246294021606, 21.811278104782104, 22.906574010849]}\n",
      "Loss at   0 : 4.882683753967285  \n",
      "model: AuxModel1, optimizer: SGD   , learning rate:   0.01, num epochs:  25, mini batch size: 100, train error: 26.70%, test error: 27.50%, time: 25.025\n",
      "{'train_error': [36.6, 29.2, 31.2, 36.7, 32.7, 40.5], 'test_error': [36.7, 28.499999999999996, 31.4, 38.4, 34.5, 40.0], 'time': [25.196635007858276, 21.920395374298096, 21.815675973892212, 25.465779542922974, 22.063819408416748, 21.813679933547974]}\n"
     ]
    },
    {
     "name": "stdout",
     "output_type": "stream",
     "text": [
      "defaultdict(<class 'dict'>, {0: {'train_error': [5.4, 5.6000000000000005, 4.5, 5.4, 8.1, 7.3, 5.800000000000001], 'test_error': [13.900000000000002, 14.099999999999998, 13.8, 13.200000000000001, 16.1, 15.2, 14.000000000000002], 'time': [18.34577441215515, 25.243510007858276, 21.689013242721558, 26.096319913864136, 24.410738706588745, 22.901767015457153, 25.148117065429688]}, 1: {'train_error': [24.099999999999998, 21.8, 22.3, 24.0, 24.5, 24.099999999999998, 21.099999999999998], 'test_error': [25.6, 23.799999999999997, 25.0, 24.8, 27.1, 24.6, 24.7], 'time': [23.529094219207764, 25.57263159751892, 21.261157512664795, 24.251163244247437, 24.25906753540039, 23.300223112106323, 24.05069923400879]}, 2: {'train_error': [1.0999999999999999, 0.1, 0.8999999999999999, 0.1, 0.3, 0.1, 1.2], 'test_error': [14.399999999999999, 13.5, 14.899999999999999, 13.100000000000001, 13.8, 13.700000000000001, 13.4], 'time': [24.00083613395691, 21.688016414642334, 21.557363986968994, 24.636134386062622, 23.523109912872314, 22.550456523895264, 24.557141065597534]}, 3: {'train_error': [21.2, 21.6, 21.099999999999998, 21.6, 20.5, 19.900000000000002, 21.6], 'test_error': [19.8, 21.099999999999998, 20.5, 23.799999999999997, 19.0, 19.8, 21.6], 'time': [26.139116525650024, 21.63216543197632, 21.180373668670654, 24.535403966903687, 22.885812044143677, 23.22749400138855, 27.384785652160645]}, 4: {'train_error': [7.7, 6.2, 18.5, 6.4, 9.1, 6.5, 4.9], 'test_error': [10.299999999999999, 10.0, 23.0, 11.4, 9.6, 10.0, 9.9], 'time': [26.473223447799683, 22.363212823867798, 22.30935525894165, 27.179333686828613, 27.508164405822754, 22.922714710235596, 25.671366930007935]}, 5: {'train_error': [46.7, 45.300000000000004, 30.7, 42.3, 44.6, 48.199999999999996, 39.900000000000006], 'test_error': [48.8, 43.4, 30.4, 41.3, 48.8, 48.3, 42.8], 'time': [29.614402770996094, 21.632165908813477, 21.612218141555786, 26.003785371780396, 22.598748683929443, 22.345162868499756, 25.56541109085083]}, 6: {'train_error': [6.0, 10.5, 5.4, 6.0, 5.6000000000000005, 12.9, 17.7], 'test_error': [11.4, 12.9, 9.5, 8.799999999999999, 10.9, 14.799999999999999, 19.6], 'time': [26.080273389816284, 22.549712896347046, 22.167733907699585, 25.342246294021606, 21.811278104782104, 22.906574010849, 24.745841026306152]}, 7: {'train_error': [36.6, 29.2, 31.2, 36.7, 32.7, 40.5, 26.700000000000003], 'test_error': [36.7, 28.499999999999996, 31.4, 38.4, 34.5, 40.0, 27.500000000000004], 'time': [25.196635007858276, 21.920395374298096, 21.815675973892212, 25.465779542922974, 22.063819408416748, 21.813679933547974, 25.02526021003723]}})\n",
      "Loss at   0 : 1.4136860370635986  \n",
      "model: WSModel, optimizer: SGD   , learning rate:    0.1, num epochs:  25, mini batch size: 100, train error:  5.60%, test error: 14.00%, time: 24.653\n",
      "{'train_error': [5.4, 5.6000000000000005, 4.5, 5.4, 8.1, 7.3, 5.800000000000001], 'test_error': [13.900000000000002, 14.099999999999998, 13.8, 13.200000000000001, 16.1, 15.2, 14.000000000000002], 'time': [18.34577441215515, 25.243510007858276, 21.689013242721558, 26.096319913864136, 24.410738706588745, 22.901767015457153, 25.148117065429688]}\n",
      "Loss at   0 : 1.3753917217254639  \n",
      "model: WSModel, optimizer: SGD   , learning rate:   0.01, num epochs:  25, mini batch size: 100, train error: 24.30%, test error: 25.60%, time: 25.516\n",
      "{'train_error': [24.099999999999998, 21.8, 22.3, 24.0, 24.5, 24.099999999999998, 21.099999999999998], 'test_error': [25.6, 23.799999999999997, 25.0, 24.8, 27.1, 24.6, 24.7], 'time': [23.529094219207764, 25.57263159751892, 21.261157512664795, 24.251163244247437, 24.25906753540039, 23.300223112106323, 24.05069923400879]}\n",
      "Loss at   0 : 0.6688258647918701  \n",
      "model: WSModel1, optimizer: SGD   , learning rate:    0.1, num epochs:  25, mini batch size: 100, train error:  0.10%, test error: 13.30%, time: 26.641\n",
      "{'train_error': [1.0999999999999999, 0.1, 0.8999999999999999, 0.1, 0.3, 0.1, 1.2], 'test_error': [14.399999999999999, 13.5, 14.899999999999999, 13.100000000000001, 13.8, 13.700000000000001, 13.4], 'time': [24.00083613395691, 21.688016414642334, 21.557363986968994, 24.636134386062622, 23.523109912872314, 22.550456523895264, 24.557141065597534]}\n",
      "Loss at   0 : 0.6880866289138794  \n",
      "model: WSModel1, optimizer: SGD   , learning rate:   0.01, num epochs:  25, mini batch size: 100, train error: 19.70%, test error: 19.50%, time: 24.942\n",
      "{'train_error': [21.2, 21.6, 21.099999999999998, 21.6, 20.5, 19.900000000000002, 21.6], 'test_error': [19.8, 21.099999999999998, 20.5, 23.799999999999997, 19.0, 19.8, 21.6], 'time': [26.139116525650024, 21.63216543197632, 21.180373668670654, 24.535403966903687, 22.885812044143677, 23.22749400138855, 27.384785652160645]}\n",
      "Loss at   0 : 4.8346123695373535  \n",
      "model: AuxModel, optimizer: SGD   , learning rate:    0.1, num epochs:  25, mini batch size: 100, train error:  7.30%, test error:  9.00%, time: 24.433\n",
      "{'train_error': [7.7, 6.2, 18.5, 6.4, 9.1, 6.5, 4.9], 'test_error': [10.299999999999999, 10.0, 23.0, 11.4, 9.6, 10.0, 9.9], 'time': [26.473223447799683, 22.363212823867798, 22.30935525894165, 27.179333686828613, 27.508164405822754, 22.922714710235596, 25.671366930007935]}\n",
      "Loss at   0 : 4.9590044021606445  \n",
      "model: AuxModel, optimizer: SGD   , learning rate:   0.01, num epochs:  25, mini batch size: 100, train error: 39.20%, test error: 43.20%, time: 25.503\n",
      "{'train_error': [46.7, 45.300000000000004, 30.7, 42.3, 44.6, 48.199999999999996, 39.900000000000006], 'test_error': [48.8, 43.4, 30.4, 41.3, 48.8, 48.3, 42.8], 'time': [29.614402770996094, 21.632165908813477, 21.612218141555786, 26.003785371780396, 22.598748683929443, 22.345162868499756, 25.56541109085083]}\n",
      "Loss at   0 : 4.803569316864014  \n",
      "model: AuxModel1, optimizer: SGD   , learning rate:    0.1, num epochs:  25, mini batch size: 100, train error:  6.30%, test error: 10.60%, time: 25.986\n",
      "{'train_error': [6.0, 10.5, 5.4, 6.0, 5.6000000000000005, 12.9, 17.7], 'test_error': [11.4, 12.9, 9.5, 8.799999999999999, 10.9, 14.799999999999999, 19.6], 'time': [26.080273389816284, 22.549712896347046, 22.167733907699585, 25.342246294021606, 21.811278104782104, 22.906574010849, 24.745841026306152]}\n",
      "Loss at   0 : 4.904844760894775  \n",
      "model: AuxModel1, optimizer: SGD   , learning rate:   0.01, num epochs:  25, mini batch size: 100, train error: 39.50%, test error: 37.60%, time: 27.465\n",
      "{'train_error': [36.6, 29.2, 31.2, 36.7, 32.7, 40.5, 26.700000000000003], 'test_error': [36.7, 28.499999999999996, 31.4, 38.4, 34.5, 40.0, 27.500000000000004], 'time': [25.196635007858276, 21.920395374298096, 21.815675973892212, 25.465779542922974, 22.063819408416748, 21.813679933547974, 25.02526021003723]}\n"
     ]
    },
    {
     "name": "stdout",
     "output_type": "stream",
     "text": [
      "defaultdict(<class 'dict'>, {0: {'train_error': [5.4, 5.6000000000000005, 4.5, 5.4, 8.1, 7.3, 5.800000000000001, 5.6000000000000005], 'test_error': [13.900000000000002, 14.099999999999998, 13.8, 13.200000000000001, 16.1, 15.2, 14.000000000000002, 14.000000000000002], 'time': [18.34577441215515, 25.243510007858276, 21.689013242721558, 26.096319913864136, 24.410738706588745, 22.901767015457153, 25.148117065429688, 24.65308904647827]}, 1: {'train_error': [24.099999999999998, 21.8, 22.3, 24.0, 24.5, 24.099999999999998, 21.099999999999998, 24.3], 'test_error': [25.6, 23.799999999999997, 25.0, 24.8, 27.1, 24.6, 24.7, 25.6], 'time': [23.529094219207764, 25.57263159751892, 21.261157512664795, 24.251163244247437, 24.25906753540039, 23.300223112106323, 24.05069923400879, 25.51637291908264]}, 2: {'train_error': [1.0999999999999999, 0.1, 0.8999999999999999, 0.1, 0.3, 0.1, 1.2, 0.1], 'test_error': [14.399999999999999, 13.5, 14.899999999999999, 13.100000000000001, 13.8, 13.700000000000001, 13.4, 13.3], 'time': [24.00083613395691, 21.688016414642334, 21.557363986968994, 24.636134386062622, 23.523109912872314, 22.550456523895264, 24.557141065597534, 26.640774965286255]}, 3: {'train_error': [21.2, 21.6, 21.099999999999998, 21.6, 20.5, 19.900000000000002, 21.6, 19.7], 'test_error': [19.8, 21.099999999999998, 20.5, 23.799999999999997, 19.0, 19.8, 21.6, 19.5], 'time': [26.139116525650024, 21.63216543197632, 21.180373668670654, 24.535403966903687, 22.885812044143677, 23.22749400138855, 27.384785652160645, 24.942452907562256]}, 4: {'train_error': [7.7, 6.2, 18.5, 6.4, 9.1, 6.5, 4.9, 7.3], 'test_error': [10.299999999999999, 10.0, 23.0, 11.4, 9.6, 10.0, 9.9, 9.0], 'time': [26.473223447799683, 22.363212823867798, 22.30935525894165, 27.179333686828613, 27.508164405822754, 22.922714710235596, 25.671366930007935, 24.432678699493408]}, 5: {'train_error': [46.7, 45.300000000000004, 30.7, 42.3, 44.6, 48.199999999999996, 39.900000000000006, 39.2], 'test_error': [48.8, 43.4, 30.4, 41.3, 48.8, 48.3, 42.8, 43.2], 'time': [29.614402770996094, 21.632165908813477, 21.612218141555786, 26.003785371780396, 22.598748683929443, 22.345162868499756, 25.56541109085083, 25.502817392349243]}, 6: {'train_error': [6.0, 10.5, 5.4, 6.0, 5.6000000000000005, 12.9, 17.7, 6.3], 'test_error': [11.4, 12.9, 9.5, 8.799999999999999, 10.9, 14.799999999999999, 19.6, 10.6], 'time': [26.080273389816284, 22.549712896347046, 22.167733907699585, 25.342246294021606, 21.811278104782104, 22.906574010849, 24.745841026306152, 25.98552632331848]}, 7: {'train_error': [36.6, 29.2, 31.2, 36.7, 32.7, 40.5, 26.700000000000003, 39.5], 'test_error': [36.7, 28.499999999999996, 31.4, 38.4, 34.5, 40.0, 27.500000000000004, 37.6], 'time': [25.196635007858276, 21.920395374298096, 21.815675973892212, 25.465779542922974, 22.063819408416748, 21.813679933547974, 25.02526021003723, 27.46457290649414]}})\n",
      "Loss at   0 : 2.0254476070404053  \n",
      "model: WSModel, optimizer: SGD   , learning rate:    0.1, num epochs:  25, mini batch size: 100, train error:  6.40%, test error: 14.10%, time: 27.828\n",
      "{'train_error': [5.4, 5.6000000000000005, 4.5, 5.4, 8.1, 7.3, 5.800000000000001, 5.6000000000000005], 'test_error': [13.900000000000002, 14.099999999999998, 13.8, 13.200000000000001, 16.1, 15.2, 14.000000000000002, 14.000000000000002], 'time': [18.34577441215515, 25.243510007858276, 21.689013242721558, 26.096319913864136, 24.410738706588745, 22.901767015457153, 25.148117065429688, 24.65308904647827]}\n",
      "Loss at   0 : 1.165304183959961  \n",
      "model: WSModel, optimizer: SGD   , learning rate:   0.01, num epochs:  25, mini batch size: 100, train error: 23.40%, test error: 24.80%, time: 26.088\n",
      "{'train_error': [24.099999999999998, 21.8, 22.3, 24.0, 24.5, 24.099999999999998, 21.099999999999998, 24.3], 'test_error': [25.6, 23.799999999999997, 25.0, 24.8, 27.1, 24.6, 24.7, 25.6], 'time': [23.529094219207764, 25.57263159751892, 21.261157512664795, 24.251163244247437, 24.25906753540039, 23.300223112106323, 24.05069923400879, 25.51637291908264]}\n",
      "Loss at   0 : 0.6502743363380432  \n",
      "model: WSModel1, optimizer: SGD   , learning rate:    0.1, num epochs:  25, mini batch size: 100, train error:  0.10%, test error: 13.30%, time: 26.264\n",
      "{'train_error': [1.0999999999999999, 0.1, 0.8999999999999999, 0.1, 0.3, 0.1, 1.2, 0.1], 'test_error': [14.399999999999999, 13.5, 14.899999999999999, 13.100000000000001, 13.8, 13.700000000000001, 13.4, 13.3], 'time': [24.00083613395691, 21.688016414642334, 21.557363986968994, 24.636134386062622, 23.523109912872314, 22.550456523895264, 24.557141065597534, 26.640774965286255]}\n",
      "Loss at   0 : 0.6895157098770142  \n",
      "model: WSModel1, optimizer: SGD   , learning rate:   0.01, num epochs:  25, mini batch size: 100, train error: 20.60%, test error: 20.00%, time: 25.905\n",
      "{'train_error': [21.2, 21.6, 21.099999999999998, 21.6, 20.5, 19.900000000000002, 21.6, 19.7], 'test_error': [19.8, 21.099999999999998, 20.5, 23.799999999999997, 19.0, 19.8, 21.6, 19.5], 'time': [26.139116525650024, 21.63216543197632, 21.180373668670654, 24.535403966903687, 22.885812044143677, 23.22749400138855, 27.384785652160645, 24.942452907562256]}\n",
      "Loss at   0 : 4.912109851837158  \n",
      "model: AuxModel, optimizer: SGD   , learning rate:    0.1, num epochs:  25, mini batch size: 100, train error: 15.70%, test error: 18.10%, time: 26.452\n",
      "{'train_error': [7.7, 6.2, 18.5, 6.4, 9.1, 6.5, 4.9, 7.3], 'test_error': [10.299999999999999, 10.0, 23.0, 11.4, 9.6, 10.0, 9.9, 9.0], 'time': [26.473223447799683, 22.363212823867798, 22.30935525894165, 27.179333686828613, 27.508164405822754, 22.922714710235596, 25.671366930007935, 24.432678699493408]}\n",
      "Loss at   0 : 4.947714805603027  \n",
      "model: AuxModel, optimizer: SGD   , learning rate:   0.01, num epochs:  25, mini batch size: 100, train error: 40.90%, test error: 42.20%, time: 31.403\n",
      "{'train_error': [46.7, 45.300000000000004, 30.7, 42.3, 44.6, 48.199999999999996, 39.900000000000006, 39.2], 'test_error': [48.8, 43.4, 30.4, 41.3, 48.8, 48.3, 42.8, 43.2], 'time': [29.614402770996094, 21.632165908813477, 21.612218141555786, 26.003785371780396, 22.598748683929443, 22.345162868499756, 25.56541109085083, 25.502817392349243]}\n",
      "Loss at   0 : 4.511525630950928  \n",
      "model: AuxModel1, optimizer: SGD   , learning rate:    0.1, num epochs:  25, mini batch size: 100, train error:  8.10%, test error: 12.00%, time: 28.819\n",
      "{'train_error': [6.0, 10.5, 5.4, 6.0, 5.6000000000000005, 12.9, 17.7, 6.3], 'test_error': [11.4, 12.9, 9.5, 8.799999999999999, 10.9, 14.799999999999999, 19.6, 10.6], 'time': [26.080273389816284, 22.549712896347046, 22.167733907699585, 25.342246294021606, 21.811278104782104, 22.906574010849, 24.745841026306152, 25.98552632331848]}\n",
      "Loss at   0 : 4.90723180770874  \n",
      "model: AuxModel1, optimizer: SGD   , learning rate:   0.01, num epochs:  25, mini batch size: 100, train error: 32.80%, test error: 32.60%, time: 25.784\n",
      "{'train_error': [36.6, 29.2, 31.2, 36.7, 32.7, 40.5, 26.700000000000003, 39.5], 'test_error': [36.7, 28.499999999999996, 31.4, 38.4, 34.5, 40.0, 27.500000000000004, 37.6], 'time': [25.196635007858276, 21.920395374298096, 21.815675973892212, 25.465779542922974, 22.063819408416748, 21.813679933547974, 25.02526021003723, 27.46457290649414]}\n"
     ]
    },
    {
     "name": "stdout",
     "output_type": "stream",
     "text": [
      "defaultdict(<class 'dict'>, {0: {'train_error': [5.4, 5.6000000000000005, 4.5, 5.4, 8.1, 7.3, 5.800000000000001, 5.6000000000000005, 6.4], 'test_error': [13.900000000000002, 14.099999999999998, 13.8, 13.200000000000001, 16.1, 15.2, 14.000000000000002, 14.000000000000002, 14.099999999999998], 'time': [18.34577441215515, 25.243510007858276, 21.689013242721558, 26.096319913864136, 24.410738706588745, 22.901767015457153, 25.148117065429688, 24.65308904647827, 27.82798433303833]}, 1: {'train_error': [24.099999999999998, 21.8, 22.3, 24.0, 24.5, 24.099999999999998, 21.099999999999998, 24.3, 23.400000000000002], 'test_error': [25.6, 23.799999999999997, 25.0, 24.8, 27.1, 24.6, 24.7, 25.6, 24.8], 'time': [23.529094219207764, 25.57263159751892, 21.261157512664795, 24.251163244247437, 24.25906753540039, 23.300223112106323, 24.05069923400879, 25.51637291908264, 26.0882511138916]}, 2: {'train_error': [1.0999999999999999, 0.1, 0.8999999999999999, 0.1, 0.3, 0.1, 1.2, 0.1, 0.1], 'test_error': [14.399999999999999, 13.5, 14.899999999999999, 13.100000000000001, 13.8, 13.700000000000001, 13.4, 13.3, 13.3], 'time': [24.00083613395691, 21.688016414642334, 21.557363986968994, 24.636134386062622, 23.523109912872314, 22.550456523895264, 24.557141065597534, 26.640774965286255, 26.263851642608643]}, 3: {'train_error': [21.2, 21.6, 21.099999999999998, 21.6, 20.5, 19.900000000000002, 21.6, 19.7, 20.599999999999998], 'test_error': [19.8, 21.099999999999998, 20.5, 23.799999999999997, 19.0, 19.8, 21.6, 19.5, 20.0], 'time': [26.139116525650024, 21.63216543197632, 21.180373668670654, 24.535403966903687, 22.885812044143677, 23.22749400138855, 27.384785652160645, 24.942452907562256, 25.90474247932434]}, 4: {'train_error': [7.7, 6.2, 18.5, 6.4, 9.1, 6.5, 4.9, 7.3, 15.7], 'test_error': [10.299999999999999, 10.0, 23.0, 11.4, 9.6, 10.0, 9.9, 9.0, 18.099999999999998], 'time': [26.473223447799683, 22.363212823867798, 22.30935525894165, 27.179333686828613, 27.508164405822754, 22.922714710235596, 25.671366930007935, 24.432678699493408, 26.451805591583252]}, 5: {'train_error': [46.7, 45.300000000000004, 30.7, 42.3, 44.6, 48.199999999999996, 39.900000000000006, 39.2, 40.9], 'test_error': [48.8, 43.4, 30.4, 41.3, 48.8, 48.3, 42.8, 43.2, 42.199999999999996], 'time': [29.614402770996094, 21.632165908813477, 21.612218141555786, 26.003785371780396, 22.598748683929443, 22.345162868499756, 25.56541109085083, 25.502817392349243, 31.403042554855347]}, 6: {'train_error': [6.0, 10.5, 5.4, 6.0, 5.6000000000000005, 12.9, 17.7, 6.3, 8.1], 'test_error': [11.4, 12.9, 9.5, 8.799999999999999, 10.9, 14.799999999999999, 19.6, 10.6, 12.0], 'time': [26.080273389816284, 22.549712896347046, 22.167733907699585, 25.342246294021606, 21.811278104782104, 22.906574010849, 24.745841026306152, 25.98552632331848, 28.8189480304718]}, 7: {'train_error': [36.6, 29.2, 31.2, 36.7, 32.7, 40.5, 26.700000000000003, 39.5, 32.800000000000004], 'test_error': [36.7, 28.499999999999996, 31.4, 38.4, 34.5, 40.0, 27.500000000000004, 37.6, 32.6], 'time': [25.196635007858276, 21.920395374298096, 21.815675973892212, 25.465779542922974, 22.063819408416748, 21.813679933547974, 25.02526021003723, 27.46457290649414, 25.784064531326294]}})\n",
      "Loss at   0 : 0.9721792340278625  \n",
      "model: WSModel, optimizer: SGD   , learning rate:    0.1, num epochs:  25, mini batch size: 100, train error:  6.50%, test error: 13.40%, time: 26.507\n",
      "{'train_error': [5.4, 5.6000000000000005, 4.5, 5.4, 8.1, 7.3, 5.800000000000001, 5.6000000000000005, 6.4], 'test_error': [13.900000000000002, 14.099999999999998, 13.8, 13.200000000000001, 16.1, 15.2, 14.000000000000002, 14.000000000000002, 14.099999999999998], 'time': [18.34577441215515, 25.243510007858276, 21.689013242721558, 26.096319913864136, 24.410738706588745, 22.901767015457153, 25.148117065429688, 24.65308904647827, 27.82798433303833]}\n",
      "Loss at   0 : 1.1227867603302002  \n",
      "model: WSModel, optimizer: SGD   , learning rate:   0.01, num epochs:  25, mini batch size: 100, train error: 22.30%, test error: 24.90%, time: 25.878\n",
      "{'train_error': [24.099999999999998, 21.8, 22.3, 24.0, 24.5, 24.099999999999998, 21.099999999999998, 24.3, 23.400000000000002], 'test_error': [25.6, 23.799999999999997, 25.0, 24.8, 27.1, 24.6, 24.7, 25.6, 24.8], 'time': [23.529094219207764, 25.57263159751892, 21.261157512664795, 24.251163244247437, 24.25906753540039, 23.300223112106323, 24.05069923400879, 25.51637291908264, 26.0882511138916]}\n",
      "Loss at   0 : 0.6547591686248779  \n",
      "model: WSModel1, optimizer: SGD   , learning rate:    0.1, num epochs:  25, mini batch size: 100, train error:  0.10%, test error: 14.10%, time: 26.147\n",
      "{'train_error': [1.0999999999999999, 0.1, 0.8999999999999999, 0.1, 0.3, 0.1, 1.2, 0.1, 0.1], 'test_error': [14.399999999999999, 13.5, 14.899999999999999, 13.100000000000001, 13.8, 13.700000000000001, 13.4, 13.3, 13.3], 'time': [24.00083613395691, 21.688016414642334, 21.557363986968994, 24.636134386062622, 23.523109912872314, 22.550456523895264, 24.557141065597534, 26.640774965286255, 26.263851642608643]}\n",
      "Loss at   0 : 0.6923351287841797  \n",
      "model: WSModel1, optimizer: SGD   , learning rate:   0.01, num epochs:  25, mini batch size: 100, train error: 20.70%, test error: 19.90%, time: 26.278\n",
      "{'train_error': [21.2, 21.6, 21.099999999999998, 21.6, 20.5, 19.900000000000002, 21.6, 19.7, 20.599999999999998], 'test_error': [19.8, 21.099999999999998, 20.5, 23.799999999999997, 19.0, 19.8, 21.6, 19.5, 20.0], 'time': [26.139116525650024, 21.63216543197632, 21.180373668670654, 24.535403966903687, 22.885812044143677, 23.22749400138855, 27.384785652160645, 24.942452907562256, 25.90474247932434]}\n",
      "Loss at   0 : 4.841775417327881  \n",
      "model: AuxModel, optimizer: SGD   , learning rate:    0.1, num epochs:  25, mini batch size: 100, train error:  6.70%, test error:  8.10%, time: 25.672\n",
      "{'train_error': [7.7, 6.2, 18.5, 6.4, 9.1, 6.5, 4.9, 7.3, 15.7], 'test_error': [10.299999999999999, 10.0, 23.0, 11.4, 9.6, 10.0, 9.9, 9.0, 18.099999999999998], 'time': [26.473223447799683, 22.363212823867798, 22.30935525894165, 27.179333686828613, 27.508164405822754, 22.922714710235596, 25.671366930007935, 24.432678699493408, 26.451805591583252]}\n",
      "Loss at   0 : 4.9473347663879395  \n",
      "model: AuxModel, optimizer: SGD   , learning rate:   0.01, num epochs:  25, mini batch size: 100, train error: 30.70%, test error: 33.80%, time: 26.220\n",
      "{'train_error': [46.7, 45.300000000000004, 30.7, 42.3, 44.6, 48.199999999999996, 39.900000000000006, 39.2, 40.9], 'test_error': [48.8, 43.4, 30.4, 41.3, 48.8, 48.3, 42.8, 43.2, 42.199999999999996], 'time': [29.614402770996094, 21.632165908813477, 21.612218141555786, 26.003785371780396, 22.598748683929443, 22.345162868499756, 25.56541109085083, 25.502817392349243, 31.403042554855347]}\n",
      "Loss at   0 : 4.800442695617676  \n",
      "model: AuxModel1, optimizer: SGD   , learning rate:    0.1, num epochs:  25, mini batch size: 100, train error:  6.30%, test error:  9.30%, time: 25.381\n",
      "{'train_error': [6.0, 10.5, 5.4, 6.0, 5.6000000000000005, 12.9, 17.7, 6.3, 8.1], 'test_error': [11.4, 12.9, 9.5, 8.799999999999999, 10.9, 14.799999999999999, 19.6, 10.6, 12.0], 'time': [26.080273389816284, 22.549712896347046, 22.167733907699585, 25.342246294021606, 21.811278104782104, 22.906574010849, 24.745841026306152, 25.98552632331848, 28.8189480304718]}\n",
      "Loss at   0 : 4.90994119644165  \n",
      "model: AuxModel1, optimizer: SGD   , learning rate:   0.01, num epochs:  25, mini batch size: 100, train error: 28.80%, test error: 29.10%, time: 25.735\n",
      "{'train_error': [36.6, 29.2, 31.2, 36.7, 32.7, 40.5, 26.700000000000003, 39.5, 32.800000000000004], 'test_error': [36.7, 28.499999999999996, 31.4, 38.4, 34.5, 40.0, 27.500000000000004, 37.6, 32.6], 'time': [25.196635007858276, 21.920395374298096, 21.815675973892212, 25.465779542922974, 22.063819408416748, 21.813679933547974, 25.02526021003723, 27.46457290649414, 25.784064531326294]}\n"
     ]
    }
   ],
   "source": [
    "from collections import defaultdict\n",
    "result_dct = defaultdict(dict)\n",
    "for i in range(8):\n",
    "    result_dct[i]['train_error'] = []\n",
    "    result_dct[i]['test_error'] = []\n",
    "    result_dct[i]['time'] = []\n",
    "for i in range(10):\n",
    "    print(result_dct)\n",
    "    result_dct = calculate_results(result_dct)"
   ]
  },
  {
   "cell_type": "code",
   "execution_count": 45,
   "metadata": {},
   "outputs": [
    {
     "name": "stdout",
     "output_type": "stream",
     "text": [
      "mean of train_error of model 0 = 6.0600000000000005\n",
      "stdev of train_error of model 0 = 1.0437113266288398\n",
      "mean of test_error of model 0 = 14.18\n",
      "stdev of test_error of model 0 = 0.8560892995995738\n",
      "mean of time of model 0 = 24.28234467506409\n",
      "stdev of time of model 0 = 2.718523210149737\n",
      "\n",
      "mean of train_error of model 1 = 23.19\n",
      "stdev of train_error of model 1 = 1.210555428076073\n",
      "mean of test_error of model 1 = 25.09\n",
      "stdev of test_error of model 1 = 0.8710785141293403\n",
      "mean of time of model 1 = 24.37064745426178\n",
      "stdev of time of model 1 = 1.4769039481585113\n",
      "\n",
      "mean of train_error of model 2 = 0.41\n",
      "stdev of train_error of model 2 = 0.46296148147911104\n",
      "mean of test_error of model 2 = 13.75\n",
      "stdev of test_error of model 2 = 0.5661762583821\n",
      "mean of time of model 2 = 24.156477952003478\n",
      "stdev of time of model 2 = 1.8505041649980032\n",
      "\n",
      "mean of train_error of model 3 = 20.85\n",
      "stdev of train_error of model 3 = 0.6916164640415479\n",
      "mean of test_error of model 3 = 20.5\n",
      "stdev of test_error of model 3 = 1.3864422895390272\n",
      "mean of time of model 3 = 24.411060523986816\n",
      "stdev of time of model 3 = 2.1010944308282347\n",
      "\n",
      "mean of train_error of model 4 = 8.9\n",
      "stdev of train_error of model 4 = 4.504072231510799\n",
      "mean of test_error of model 4 = 11.94\n",
      "stdev of test_error of model 4 = 4.758664611935672\n",
      "mean of time of model 4 = 25.098421907424928\n",
      "stdev of time of model 4 = 1.9707198829823989\n",
      "\n",
      "mean of train_error of model 5 = 40.85\n",
      "stdev of train_error of model 5 = 6.090840117203318\n",
      "mean of test_error of model 5 = 42.3\n",
      "stdev of test_error of model 5 = 6.124994331063134\n",
      "mean of time of model 5 = 25.249765348434448\n",
      "stdev of time of model 5 = 3.339488201101652\n",
      "\n",
      "mean of train_error of model 6 = 8.48\n",
      "stdev of train_error of model 6 = 4.060049260784898\n",
      "mean of test_error of model 6 = 11.98\n",
      "stdev of test_error of model 6 = 3.2269008179503893\n",
      "mean of time of model 6 = 24.578927683830262\n",
      "stdev of time of model 6 = 2.20737689542431\n",
      "\n",
      "mean of train_error of model 7 = 33.47\n",
      "stdev of train_error of model 7 = 4.69137506494631\n",
      "mean of test_error of model 7 = 33.63\n",
      "stdev of test_error of model 7 = 4.468668705554262\n",
      "mean of time of model 7 = 24.228507852554323\n",
      "stdev of time of model 7 = 2.1063744064832663\n",
      "\n"
     ]
    }
   ],
   "source": [
    "import statistics\n",
    "for k,v in result_dct.items():\n",
    "    print('mean of train_error of model {} = {}'.format(k, statistics.mean(v['train_error'])))\n",
    "    print('stdev of train_error of model {} = {}'.format(k, statistics.stdev(v['train_error'])))\n",
    "    print('mean of test_error of model {} = {}'.format(k, statistics.mean(v['test_error'])))\n",
    "    print('stdev of test_error of model {} = {}'.format(k, statistics.stdev(v['test_error'])))\n",
    "    print('mean of time of model {} = {}'.format(k, statistics.mean(v['time'])))\n",
    "    print('stdev of time of model {} = {}'.format(k, statistics.stdev(v['time'])))\n",
    "    print()"
   ]
  },
  {
   "cell_type": "code",
   "execution_count": 48,
   "metadata": {},
   "outputs": [
    {
     "ename": "TypeError",
     "evalue": "can't pickle torch._C.Generator objects",
     "output_type": "error",
     "traceback": [
      "\u001b[1;31m---------------------------------------------------------------------------\u001b[0m",
      "\u001b[1;31mTypeError\u001b[0m                                 Traceback (most recent call last)",
      "\u001b[1;32m<ipython-input-48-f7f96920ccc1>\u001b[0m in \u001b[0;36m<module>\u001b[1;34m\u001b[0m\n\u001b[0;32m      1\u001b[0m \u001b[1;32mimport\u001b[0m \u001b[0mdill\u001b[0m\u001b[1;33m\u001b[0m\u001b[1;33m\u001b[0m\u001b[0m\n\u001b[1;32m----> 2\u001b[1;33m \u001b[0mdill\u001b[0m\u001b[1;33m.\u001b[0m\u001b[0mdump_session\u001b[0m\u001b[1;33m(\u001b[0m\u001b[1;34m'results.env'\u001b[0m\u001b[1;33m)\u001b[0m\u001b[1;33m\u001b[0m\u001b[1;33m\u001b[0m\u001b[0m\n\u001b[0m",
      "\u001b[1;32m~\\Anaconda3\\lib\\site-packages\\dill\\_dill.py\u001b[0m in \u001b[0;36mdump_session\u001b[1;34m(filename, main, byref)\u001b[0m\n\u001b[0;32m    391\u001b[0m         \u001b[0mpickler\u001b[0m\u001b[1;33m.\u001b[0m\u001b[0m_recurse\u001b[0m \u001b[1;33m=\u001b[0m \u001b[1;32mFalse\u001b[0m \u001b[1;31m# disable pickling recursion for globals\u001b[0m\u001b[1;33m\u001b[0m\u001b[1;33m\u001b[0m\u001b[0m\n\u001b[0;32m    392\u001b[0m         \u001b[0mpickler\u001b[0m\u001b[1;33m.\u001b[0m\u001b[0m_session\u001b[0m \u001b[1;33m=\u001b[0m \u001b[1;32mTrue\u001b[0m  \u001b[1;31m# is best indicator of when pickling a session\u001b[0m\u001b[1;33m\u001b[0m\u001b[1;33m\u001b[0m\u001b[0m\n\u001b[1;32m--> 393\u001b[1;33m         \u001b[0mpickler\u001b[0m\u001b[1;33m.\u001b[0m\u001b[0mdump\u001b[0m\u001b[1;33m(\u001b[0m\u001b[0mmain\u001b[0m\u001b[1;33m)\u001b[0m\u001b[1;33m\u001b[0m\u001b[1;33m\u001b[0m\u001b[0m\n\u001b[0m\u001b[0;32m    394\u001b[0m     \u001b[1;32mfinally\u001b[0m\u001b[1;33m:\u001b[0m\u001b[1;33m\u001b[0m\u001b[1;33m\u001b[0m\u001b[0m\n\u001b[0;32m    395\u001b[0m         \u001b[1;32mif\u001b[0m \u001b[0mf\u001b[0m \u001b[1;32mis\u001b[0m \u001b[1;32mnot\u001b[0m \u001b[0mfilename\u001b[0m\u001b[1;33m:\u001b[0m  \u001b[1;31m# If newly opened file\u001b[0m\u001b[1;33m\u001b[0m\u001b[1;33m\u001b[0m\u001b[0m\n",
      "\u001b[1;32m~\\Anaconda3\\lib\\pickle.py\u001b[0m in \u001b[0;36mdump\u001b[1;34m(self, obj)\u001b[0m\n\u001b[0;32m    435\u001b[0m         \u001b[1;32mif\u001b[0m \u001b[0mself\u001b[0m\u001b[1;33m.\u001b[0m\u001b[0mproto\u001b[0m \u001b[1;33m>=\u001b[0m \u001b[1;36m4\u001b[0m\u001b[1;33m:\u001b[0m\u001b[1;33m\u001b[0m\u001b[1;33m\u001b[0m\u001b[0m\n\u001b[0;32m    436\u001b[0m             \u001b[0mself\u001b[0m\u001b[1;33m.\u001b[0m\u001b[0mframer\u001b[0m\u001b[1;33m.\u001b[0m\u001b[0mstart_framing\u001b[0m\u001b[1;33m(\u001b[0m\u001b[1;33m)\u001b[0m\u001b[1;33m\u001b[0m\u001b[1;33m\u001b[0m\u001b[0m\n\u001b[1;32m--> 437\u001b[1;33m         \u001b[0mself\u001b[0m\u001b[1;33m.\u001b[0m\u001b[0msave\u001b[0m\u001b[1;33m(\u001b[0m\u001b[0mobj\u001b[0m\u001b[1;33m)\u001b[0m\u001b[1;33m\u001b[0m\u001b[1;33m\u001b[0m\u001b[0m\n\u001b[0m\u001b[0;32m    438\u001b[0m         \u001b[0mself\u001b[0m\u001b[1;33m.\u001b[0m\u001b[0mwrite\u001b[0m\u001b[1;33m(\u001b[0m\u001b[0mSTOP\u001b[0m\u001b[1;33m)\u001b[0m\u001b[1;33m\u001b[0m\u001b[1;33m\u001b[0m\u001b[0m\n\u001b[0;32m    439\u001b[0m         \u001b[0mself\u001b[0m\u001b[1;33m.\u001b[0m\u001b[0mframer\u001b[0m\u001b[1;33m.\u001b[0m\u001b[0mend_framing\u001b[0m\u001b[1;33m(\u001b[0m\u001b[1;33m)\u001b[0m\u001b[1;33m\u001b[0m\u001b[1;33m\u001b[0m\u001b[0m\n",
      "\u001b[1;32m~\\Anaconda3\\lib\\pickle.py\u001b[0m in \u001b[0;36msave\u001b[1;34m(self, obj, save_persistent_id)\u001b[0m\n\u001b[0;32m    502\u001b[0m         \u001b[0mf\u001b[0m \u001b[1;33m=\u001b[0m \u001b[0mself\u001b[0m\u001b[1;33m.\u001b[0m\u001b[0mdispatch\u001b[0m\u001b[1;33m.\u001b[0m\u001b[0mget\u001b[0m\u001b[1;33m(\u001b[0m\u001b[0mt\u001b[0m\u001b[1;33m)\u001b[0m\u001b[1;33m\u001b[0m\u001b[1;33m\u001b[0m\u001b[0m\n\u001b[0;32m    503\u001b[0m         \u001b[1;32mif\u001b[0m \u001b[0mf\u001b[0m \u001b[1;32mis\u001b[0m \u001b[1;32mnot\u001b[0m \u001b[1;32mNone\u001b[0m\u001b[1;33m:\u001b[0m\u001b[1;33m\u001b[0m\u001b[1;33m\u001b[0m\u001b[0m\n\u001b[1;32m--> 504\u001b[1;33m             \u001b[0mf\u001b[0m\u001b[1;33m(\u001b[0m\u001b[0mself\u001b[0m\u001b[1;33m,\u001b[0m \u001b[0mobj\u001b[0m\u001b[1;33m)\u001b[0m \u001b[1;31m# Call unbound method with explicit self\u001b[0m\u001b[1;33m\u001b[0m\u001b[1;33m\u001b[0m\u001b[0m\n\u001b[0m\u001b[0;32m    505\u001b[0m             \u001b[1;32mreturn\u001b[0m\u001b[1;33m\u001b[0m\u001b[1;33m\u001b[0m\u001b[0m\n\u001b[0;32m    506\u001b[0m \u001b[1;33m\u001b[0m\u001b[0m\n",
      "\u001b[1;32m~\\Anaconda3\\lib\\site-packages\\dill\\_dill.py\u001b[0m in \u001b[0;36msave_module\u001b[1;34m(pickler, obj)\u001b[0m\n\u001b[0;32m   1267\u001b[0m                 + [\"__builtins__\", \"__loader__\"]]\n\u001b[0;32m   1268\u001b[0m             pickler.save_reduce(_import_module, (obj.__name__,), obj=obj,\n\u001b[1;32m-> 1269\u001b[1;33m                                 state=_main_dict)\n\u001b[0m\u001b[0;32m   1270\u001b[0m             \u001b[0mlog\u001b[0m\u001b[1;33m.\u001b[0m\u001b[0minfo\u001b[0m\u001b[1;33m(\u001b[0m\u001b[1;34m\"# M1\"\u001b[0m\u001b[1;33m)\u001b[0m\u001b[1;33m\u001b[0m\u001b[1;33m\u001b[0m\u001b[0m\n\u001b[0;32m   1271\u001b[0m         \u001b[1;32melse\u001b[0m\u001b[1;33m:\u001b[0m\u001b[1;33m\u001b[0m\u001b[1;33m\u001b[0m\u001b[0m\n",
      "\u001b[1;32m~\\Anaconda3\\lib\\pickle.py\u001b[0m in \u001b[0;36msave_reduce\u001b[1;34m(self, func, args, state, listitems, dictitems, obj)\u001b[0m\n\u001b[0;32m    660\u001b[0m \u001b[1;33m\u001b[0m\u001b[0m\n\u001b[0;32m    661\u001b[0m         \u001b[1;32mif\u001b[0m \u001b[0mstate\u001b[0m \u001b[1;32mis\u001b[0m \u001b[1;32mnot\u001b[0m \u001b[1;32mNone\u001b[0m\u001b[1;33m:\u001b[0m\u001b[1;33m\u001b[0m\u001b[1;33m\u001b[0m\u001b[0m\n\u001b[1;32m--> 662\u001b[1;33m             \u001b[0msave\u001b[0m\u001b[1;33m(\u001b[0m\u001b[0mstate\u001b[0m\u001b[1;33m)\u001b[0m\u001b[1;33m\u001b[0m\u001b[1;33m\u001b[0m\u001b[0m\n\u001b[0m\u001b[0;32m    663\u001b[0m             \u001b[0mwrite\u001b[0m\u001b[1;33m(\u001b[0m\u001b[0mBUILD\u001b[0m\u001b[1;33m)\u001b[0m\u001b[1;33m\u001b[0m\u001b[1;33m\u001b[0m\u001b[0m\n\u001b[0;32m    664\u001b[0m \u001b[1;33m\u001b[0m\u001b[0m\n",
      "\u001b[1;32m~\\Anaconda3\\lib\\pickle.py\u001b[0m in \u001b[0;36msave\u001b[1;34m(self, obj, save_persistent_id)\u001b[0m\n\u001b[0;32m    502\u001b[0m         \u001b[0mf\u001b[0m \u001b[1;33m=\u001b[0m \u001b[0mself\u001b[0m\u001b[1;33m.\u001b[0m\u001b[0mdispatch\u001b[0m\u001b[1;33m.\u001b[0m\u001b[0mget\u001b[0m\u001b[1;33m(\u001b[0m\u001b[0mt\u001b[0m\u001b[1;33m)\u001b[0m\u001b[1;33m\u001b[0m\u001b[1;33m\u001b[0m\u001b[0m\n\u001b[0;32m    503\u001b[0m         \u001b[1;32mif\u001b[0m \u001b[0mf\u001b[0m \u001b[1;32mis\u001b[0m \u001b[1;32mnot\u001b[0m \u001b[1;32mNone\u001b[0m\u001b[1;33m:\u001b[0m\u001b[1;33m\u001b[0m\u001b[1;33m\u001b[0m\u001b[0m\n\u001b[1;32m--> 504\u001b[1;33m             \u001b[0mf\u001b[0m\u001b[1;33m(\u001b[0m\u001b[0mself\u001b[0m\u001b[1;33m,\u001b[0m \u001b[0mobj\u001b[0m\u001b[1;33m)\u001b[0m \u001b[1;31m# Call unbound method with explicit self\u001b[0m\u001b[1;33m\u001b[0m\u001b[1;33m\u001b[0m\u001b[0m\n\u001b[0m\u001b[0;32m    505\u001b[0m             \u001b[1;32mreturn\u001b[0m\u001b[1;33m\u001b[0m\u001b[1;33m\u001b[0m\u001b[0m\n\u001b[0;32m    506\u001b[0m \u001b[1;33m\u001b[0m\u001b[0m\n",
      "\u001b[1;32m~\\Anaconda3\\lib\\site-packages\\dill\\_dill.py\u001b[0m in \u001b[0;36msave_module_dict\u001b[1;34m(pickler, obj)\u001b[0m\n\u001b[0;32m    900\u001b[0m             \u001b[1;31m# we only care about session the first pass thru\u001b[0m\u001b[1;33m\u001b[0m\u001b[1;33m\u001b[0m\u001b[1;33m\u001b[0m\u001b[0m\n\u001b[0;32m    901\u001b[0m             \u001b[0mpickler\u001b[0m\u001b[1;33m.\u001b[0m\u001b[0m_session\u001b[0m \u001b[1;33m=\u001b[0m \u001b[1;32mFalse\u001b[0m\u001b[1;33m\u001b[0m\u001b[1;33m\u001b[0m\u001b[0m\n\u001b[1;32m--> 902\u001b[1;33m         \u001b[0mStockPickler\u001b[0m\u001b[1;33m.\u001b[0m\u001b[0msave_dict\u001b[0m\u001b[1;33m(\u001b[0m\u001b[0mpickler\u001b[0m\u001b[1;33m,\u001b[0m \u001b[0mobj\u001b[0m\u001b[1;33m)\u001b[0m\u001b[1;33m\u001b[0m\u001b[1;33m\u001b[0m\u001b[0m\n\u001b[0m\u001b[0;32m    903\u001b[0m         \u001b[0mlog\u001b[0m\u001b[1;33m.\u001b[0m\u001b[0minfo\u001b[0m\u001b[1;33m(\u001b[0m\u001b[1;34m\"# D2\"\u001b[0m\u001b[1;33m)\u001b[0m\u001b[1;33m\u001b[0m\u001b[1;33m\u001b[0m\u001b[0m\n\u001b[0;32m    904\u001b[0m     \u001b[1;32mreturn\u001b[0m\u001b[1;33m\u001b[0m\u001b[1;33m\u001b[0m\u001b[0m\n",
      "\u001b[1;32m~\\Anaconda3\\lib\\pickle.py\u001b[0m in \u001b[0;36msave_dict\u001b[1;34m(self, obj)\u001b[0m\n\u001b[0;32m    854\u001b[0m \u001b[1;33m\u001b[0m\u001b[0m\n\u001b[0;32m    855\u001b[0m         \u001b[0mself\u001b[0m\u001b[1;33m.\u001b[0m\u001b[0mmemoize\u001b[0m\u001b[1;33m(\u001b[0m\u001b[0mobj\u001b[0m\u001b[1;33m)\u001b[0m\u001b[1;33m\u001b[0m\u001b[1;33m\u001b[0m\u001b[0m\n\u001b[1;32m--> 856\u001b[1;33m         \u001b[0mself\u001b[0m\u001b[1;33m.\u001b[0m\u001b[0m_batch_setitems\u001b[0m\u001b[1;33m(\u001b[0m\u001b[0mobj\u001b[0m\u001b[1;33m.\u001b[0m\u001b[0mitems\u001b[0m\u001b[1;33m(\u001b[0m\u001b[1;33m)\u001b[0m\u001b[1;33m)\u001b[0m\u001b[1;33m\u001b[0m\u001b[1;33m\u001b[0m\u001b[0m\n\u001b[0m\u001b[0;32m    857\u001b[0m \u001b[1;33m\u001b[0m\u001b[0m\n\u001b[0;32m    858\u001b[0m     \u001b[0mdispatch\u001b[0m\u001b[1;33m[\u001b[0m\u001b[0mdict\u001b[0m\u001b[1;33m]\u001b[0m \u001b[1;33m=\u001b[0m \u001b[0msave_dict\u001b[0m\u001b[1;33m\u001b[0m\u001b[1;33m\u001b[0m\u001b[0m\n",
      "\u001b[1;32m~\\Anaconda3\\lib\\pickle.py\u001b[0m in \u001b[0;36m_batch_setitems\u001b[1;34m(self, items)\u001b[0m\n\u001b[0;32m    880\u001b[0m                 \u001b[1;32mfor\u001b[0m \u001b[0mk\u001b[0m\u001b[1;33m,\u001b[0m \u001b[0mv\u001b[0m \u001b[1;32min\u001b[0m \u001b[0mtmp\u001b[0m\u001b[1;33m:\u001b[0m\u001b[1;33m\u001b[0m\u001b[1;33m\u001b[0m\u001b[0m\n\u001b[0;32m    881\u001b[0m                     \u001b[0msave\u001b[0m\u001b[1;33m(\u001b[0m\u001b[0mk\u001b[0m\u001b[1;33m)\u001b[0m\u001b[1;33m\u001b[0m\u001b[1;33m\u001b[0m\u001b[0m\n\u001b[1;32m--> 882\u001b[1;33m                     \u001b[0msave\u001b[0m\u001b[1;33m(\u001b[0m\u001b[0mv\u001b[0m\u001b[1;33m)\u001b[0m\u001b[1;33m\u001b[0m\u001b[1;33m\u001b[0m\u001b[0m\n\u001b[0m\u001b[0;32m    883\u001b[0m                 \u001b[0mwrite\u001b[0m\u001b[1;33m(\u001b[0m\u001b[0mSETITEMS\u001b[0m\u001b[1;33m)\u001b[0m\u001b[1;33m\u001b[0m\u001b[1;33m\u001b[0m\u001b[0m\n\u001b[0;32m    884\u001b[0m             \u001b[1;32melif\u001b[0m \u001b[0mn\u001b[0m\u001b[1;33m:\u001b[0m\u001b[1;33m\u001b[0m\u001b[1;33m\u001b[0m\u001b[0m\n",
      "\u001b[1;32m~\\Anaconda3\\lib\\pickle.py\u001b[0m in \u001b[0;36msave\u001b[1;34m(self, obj, save_persistent_id)\u001b[0m\n\u001b[0;32m    522\u001b[0m             \u001b[0mreduce\u001b[0m \u001b[1;33m=\u001b[0m \u001b[0mgetattr\u001b[0m\u001b[1;33m(\u001b[0m\u001b[0mobj\u001b[0m\u001b[1;33m,\u001b[0m \u001b[1;34m\"__reduce_ex__\"\u001b[0m\u001b[1;33m,\u001b[0m \u001b[1;32mNone\u001b[0m\u001b[1;33m)\u001b[0m\u001b[1;33m\u001b[0m\u001b[1;33m\u001b[0m\u001b[0m\n\u001b[0;32m    523\u001b[0m             \u001b[1;32mif\u001b[0m \u001b[0mreduce\u001b[0m \u001b[1;32mis\u001b[0m \u001b[1;32mnot\u001b[0m \u001b[1;32mNone\u001b[0m\u001b[1;33m:\u001b[0m\u001b[1;33m\u001b[0m\u001b[1;33m\u001b[0m\u001b[0m\n\u001b[1;32m--> 524\u001b[1;33m                 \u001b[0mrv\u001b[0m \u001b[1;33m=\u001b[0m \u001b[0mreduce\u001b[0m\u001b[1;33m(\u001b[0m\u001b[0mself\u001b[0m\u001b[1;33m.\u001b[0m\u001b[0mproto\u001b[0m\u001b[1;33m)\u001b[0m\u001b[1;33m\u001b[0m\u001b[1;33m\u001b[0m\u001b[0m\n\u001b[0m\u001b[0;32m    525\u001b[0m             \u001b[1;32melse\u001b[0m\u001b[1;33m:\u001b[0m\u001b[1;33m\u001b[0m\u001b[1;33m\u001b[0m\u001b[0m\n\u001b[0;32m    526\u001b[0m                 \u001b[0mreduce\u001b[0m \u001b[1;33m=\u001b[0m \u001b[0mgetattr\u001b[0m\u001b[1;33m(\u001b[0m\u001b[0mobj\u001b[0m\u001b[1;33m,\u001b[0m \u001b[1;34m\"__reduce__\"\u001b[0m\u001b[1;33m,\u001b[0m \u001b[1;32mNone\u001b[0m\u001b[1;33m)\u001b[0m\u001b[1;33m\u001b[0m\u001b[1;33m\u001b[0m\u001b[0m\n",
      "\u001b[1;31mTypeError\u001b[0m: can't pickle torch._C.Generator objects"
     ]
    }
   ],
   "source": []
  },
  {
   "cell_type": "code",
   "execution_count": null,
   "metadata": {},
   "outputs": [],
   "source": []
  }
 ],
 "metadata": {
  "kernelspec": {
   "display_name": "Python 3",
   "language": "python",
   "name": "python3"
  },
  "language_info": {
   "codemirror_mode": {
    "name": "ipython",
    "version": 3
   },
   "file_extension": ".py",
   "mimetype": "text/x-python",
   "name": "python",
   "nbconvert_exporter": "python",
   "pygments_lexer": "ipython3",
   "version": "3.7.1"
  }
 },
 "nbformat": 4,
 "nbformat_minor": 2
}
