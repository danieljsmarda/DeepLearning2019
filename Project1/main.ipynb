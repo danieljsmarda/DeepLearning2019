{
 "cells": [
  {
   "cell_type": "markdown",
   "metadata": {},
   "source": [
    "### Import models and load data"
   ]
  },
  {
   "cell_type": "code",
   "execution_count": 1,
   "metadata": {},
   "outputs": [
    {
     "name": "stderr",
     "output_type": "stream",
     "text": [
      "/usr/local/lib/python3.7/site-packages/torchvision/datasets/mnist.py:53: UserWarning: train_data has been renamed data\n",
      "  warnings.warn(\"train_data has been renamed data\")\n",
      "/usr/local/lib/python3.7/site-packages/torchvision/datasets/mnist.py:43: UserWarning: train_labels has been renamed targets\n",
      "  warnings.warn(\"train_labels has been renamed targets\")\n",
      "/usr/local/lib/python3.7/site-packages/torchvision/datasets/mnist.py:58: UserWarning: test_data has been renamed data\n",
      "  warnings.warn(\"test_data has been renamed data\")\n",
      "/usr/local/lib/python3.7/site-packages/torchvision/datasets/mnist.py:48: UserWarning: test_labels has been renamed targets\n",
      "  warnings.warn(\"test_labels has been renamed targets\")\n"
     ]
    }
   ],
   "source": [
    "from torchvision import datasets\n",
    "import torch\n",
    "import dlc_practical_prologue as prologue\n",
    "import matplotlib.pyplot as plt\n",
    "\n",
    "# Import all models\n",
    "from BaseNet import *\n",
    "from ConvNet1 import *\n",
    "#from NetSharing import *\n",
    "\n",
    "mini_batch_size = 1000\n",
    "nb_epochs = 300\n",
    "nb_runs = 2\n",
    "eta = 0.001\n",
    "\n",
    "train_input, train_target, train_classes, test_input, test_target, test_classes = \\\n",
    "    prologue.generate_pair_sets(nb=1000)"
   ]
  },
  {
   "cell_type": "markdown",
   "metadata": {},
   "source": [
    "### 1channel2images"
   ]
  },
  {
   "cell_type": "code",
   "execution_count": 2,
   "metadata": {
    "scrolled": true
   },
   "outputs": [
    {
     "name": "stdout",
     "output_type": "stream",
     "text": [
      "Working with 1channel2images framework, nb_classes =  10\n"
     ]
    },
    {
     "ename": "KeyboardInterrupt",
     "evalue": "",
     "output_type": "error",
     "traceback": [
      "\u001b[0;31m---------------------------------------------------------------------------\u001b[0m",
      "\u001b[0;31mKeyboardInterrupt\u001b[0m                         Traceback (most recent call last)",
      "\u001b[0;32m<ipython-input-2-686e33a02570>\u001b[0m in \u001b[0;36m<module>\u001b[0;34m\u001b[0m\n\u001b[1;32m     10\u001b[0m \u001b[0moptimizer_1C\u001b[0m \u001b[0;34m=\u001b[0m \u001b[0mtorch\u001b[0m\u001b[0;34m.\u001b[0m\u001b[0moptim\u001b[0m\u001b[0;34m.\u001b[0m\u001b[0mSGD\u001b[0m\u001b[0;34m(\u001b[0m\u001b[0mmodel_1C\u001b[0m\u001b[0;34m.\u001b[0m\u001b[0mparameters\u001b[0m\u001b[0;34m(\u001b[0m\u001b[0;34m)\u001b[0m\u001b[0;34m,\u001b[0m \u001b[0mlr\u001b[0m\u001b[0;34m=\u001b[0m\u001b[0meta\u001b[0m\u001b[0;34m,\u001b[0m \u001b[0mmomentum\u001b[0m\u001b[0;34m=\u001b[0m\u001b[0;36m0.95\u001b[0m\u001b[0;34m)\u001b[0m\u001b[0;34m\u001b[0m\u001b[0;34m\u001b[0m\u001b[0m\n\u001b[1;32m     11\u001b[0m test_results_1C = multiple_training_runs(model_1C, 2, optimizer_1C, train_input, train_classes,\n\u001b[0;32m---> 12\u001b[0;31m                                       test_input, test_target, test_classes, mini_batch_size, nb_epochs)\n\u001b[0m\u001b[1;32m     13\u001b[0m \u001b[0mwrite_to_csv\u001b[0m\u001b[0;34m(\u001b[0m\u001b[0;34m'1channel2images.csv'\u001b[0m\u001b[0;34m,\u001b[0m \u001b[0mmodel_1C\u001b[0m\u001b[0;34m,\u001b[0m \u001b[0mtest_results_1C\u001b[0m\u001b[0;34m)\u001b[0m\u001b[0;34m\u001b[0m\u001b[0;34m\u001b[0m\u001b[0m\n",
      "\u001b[0;32m~/Documents/EPFL/DeepLearning2019/Project1/_1channel2images.py\u001b[0m in \u001b[0;36mmultiple_training_runs\u001b[0;34m(model, nb_runs, optimizer, train_input, train_classes, test_input, test_target, test_classes, mini_batch_size, nb_epochs)\u001b[0m\n\u001b[1;32m    176\u001b[0m     \u001b[0;32mfor\u001b[0m \u001b[0mi\u001b[0m \u001b[0;32min\u001b[0m \u001b[0mrange\u001b[0m\u001b[0;34m(\u001b[0m\u001b[0mnb_runs\u001b[0m\u001b[0;34m)\u001b[0m\u001b[0;34m:\u001b[0m\u001b[0;34m\u001b[0m\u001b[0;34m\u001b[0m\u001b[0m\n\u001b[1;32m    177\u001b[0m         \u001b[0mmodel\u001b[0m\u001b[0;34m.\u001b[0m\u001b[0mload_state_dict\u001b[0m\u001b[0;34m(\u001b[0m\u001b[0minitial_model_wts\u001b[0m\u001b[0;34m)\u001b[0m\u001b[0;34m\u001b[0m\u001b[0;34m\u001b[0m\u001b[0m\n\u001b[0;32m--> 178\u001b[0;31m         \u001b[0mmodel\u001b[0m\u001b[0;34m,\u001b[0m \u001b[0mtime_elapsed\u001b[0m \u001b[0;34m=\u001b[0m \u001b[0mtrain_model_1C\u001b[0m\u001b[0;34m(\u001b[0m\u001b[0mmodel\u001b[0m\u001b[0;34m,\u001b[0m \u001b[0mtrain_input\u001b[0m\u001b[0;34m,\u001b[0m \u001b[0mtrain_classes\u001b[0m\u001b[0;34m,\u001b[0m \u001b[0moptimizer\u001b[0m\u001b[0;34m,\u001b[0m \u001b[0mmini_batch_size\u001b[0m\u001b[0;34m=\u001b[0m\u001b[0mmini_batch_size\u001b[0m\u001b[0;34m,\u001b[0m \u001b[0mnb_epochs\u001b[0m\u001b[0;34m=\u001b[0m\u001b[0mnb_epochs\u001b[0m\u001b[0;34m)\u001b[0m\u001b[0;34m\u001b[0m\u001b[0;34m\u001b[0m\u001b[0m\n\u001b[0m\u001b[1;32m    179\u001b[0m         \u001b[0mlist_time\u001b[0m\u001b[0;34m.\u001b[0m\u001b[0mappend\u001b[0m\u001b[0;34m(\u001b[0m\u001b[0mtime_elapsed\u001b[0m\u001b[0;34m)\u001b[0m\u001b[0;34m\u001b[0m\u001b[0;34m\u001b[0m\u001b[0m\n\u001b[1;32m    180\u001b[0m \u001b[0;34m\u001b[0m\u001b[0m\n",
      "\u001b[0;32m~/Documents/EPFL/DeepLearning2019/Project1/_1channel2images.py\u001b[0m in \u001b[0;36mtrain_model_1C\u001b[0;34m(model, train_input, train_classes, optimizer, mini_batch_size, nb_epochs)\u001b[0m\n\u001b[1;32m     51\u001b[0m \u001b[0;34m\u001b[0m\u001b[0m\n\u001b[1;32m     52\u001b[0m                     \u001b[0;32mif\u001b[0m \u001b[0mphase\u001b[0m \u001b[0;34m==\u001b[0m \u001b[0;34m'train'\u001b[0m\u001b[0;34m:\u001b[0m\u001b[0;34m\u001b[0m\u001b[0;34m\u001b[0m\u001b[0m\n\u001b[0;32m---> 53\u001b[0;31m                         \u001b[0mloss\u001b[0m\u001b[0;34m.\u001b[0m\u001b[0mbackward\u001b[0m\u001b[0;34m(\u001b[0m\u001b[0;34m)\u001b[0m\u001b[0;34m\u001b[0m\u001b[0;34m\u001b[0m\u001b[0m\n\u001b[0m\u001b[1;32m     54\u001b[0m                         \u001b[0moptimizer\u001b[0m\u001b[0;34m.\u001b[0m\u001b[0mstep\u001b[0m\u001b[0;34m(\u001b[0m\u001b[0;34m)\u001b[0m\u001b[0;34m\u001b[0m\u001b[0;34m\u001b[0m\u001b[0m\n\u001b[1;32m     55\u001b[0m \u001b[0;34m\u001b[0m\u001b[0m\n",
      "\u001b[0;32m/usr/local/lib/python3.7/site-packages/torch/tensor.py\u001b[0m in \u001b[0;36mbackward\u001b[0;34m(self, gradient, retain_graph, create_graph)\u001b[0m\n\u001b[1;32m    100\u001b[0m                 \u001b[0mproducts\u001b[0m\u001b[0;34m.\u001b[0m \u001b[0mDefaults\u001b[0m \u001b[0mto\u001b[0m\u001b[0;31m \u001b[0m\u001b[0;31m`\u001b[0m\u001b[0;31m`\u001b[0m\u001b[0;32mFalse\u001b[0m\u001b[0;31m`\u001b[0m\u001b[0;31m`\u001b[0m\u001b[0;34m.\u001b[0m\u001b[0;34m\u001b[0m\u001b[0;34m\u001b[0m\u001b[0m\n\u001b[1;32m    101\u001b[0m         \"\"\"\n\u001b[0;32m--> 102\u001b[0;31m         \u001b[0mtorch\u001b[0m\u001b[0;34m.\u001b[0m\u001b[0mautograd\u001b[0m\u001b[0;34m.\u001b[0m\u001b[0mbackward\u001b[0m\u001b[0;34m(\u001b[0m\u001b[0mself\u001b[0m\u001b[0;34m,\u001b[0m \u001b[0mgradient\u001b[0m\u001b[0;34m,\u001b[0m \u001b[0mretain_graph\u001b[0m\u001b[0;34m,\u001b[0m \u001b[0mcreate_graph\u001b[0m\u001b[0;34m)\u001b[0m\u001b[0;34m\u001b[0m\u001b[0;34m\u001b[0m\u001b[0m\n\u001b[0m\u001b[1;32m    103\u001b[0m \u001b[0;34m\u001b[0m\u001b[0m\n\u001b[1;32m    104\u001b[0m     \u001b[0;32mdef\u001b[0m \u001b[0mregister_hook\u001b[0m\u001b[0;34m(\u001b[0m\u001b[0mself\u001b[0m\u001b[0;34m,\u001b[0m \u001b[0mhook\u001b[0m\u001b[0;34m)\u001b[0m\u001b[0;34m:\u001b[0m\u001b[0;34m\u001b[0m\u001b[0;34m\u001b[0m\u001b[0m\n",
      "\u001b[0;32m/usr/local/lib/python3.7/site-packages/torch/autograd/__init__.py\u001b[0m in \u001b[0;36mbackward\u001b[0;34m(tensors, grad_tensors, retain_graph, create_graph, grad_variables)\u001b[0m\n\u001b[1;32m     88\u001b[0m     Variable._execution_engine.run_backward(\n\u001b[1;32m     89\u001b[0m         \u001b[0mtensors\u001b[0m\u001b[0;34m,\u001b[0m \u001b[0mgrad_tensors\u001b[0m\u001b[0;34m,\u001b[0m \u001b[0mretain_graph\u001b[0m\u001b[0;34m,\u001b[0m \u001b[0mcreate_graph\u001b[0m\u001b[0;34m,\u001b[0m\u001b[0;34m\u001b[0m\u001b[0;34m\u001b[0m\u001b[0m\n\u001b[0;32m---> 90\u001b[0;31m         allow_unreachable=True)  # allow_unreachable flag\n\u001b[0m\u001b[1;32m     91\u001b[0m \u001b[0;34m\u001b[0m\u001b[0m\n\u001b[1;32m     92\u001b[0m \u001b[0;34m\u001b[0m\u001b[0m\n",
      "\u001b[0;31mKeyboardInterrupt\u001b[0m: "
     ]
    }
   ],
   "source": [
    "from importlib import reload\n",
    "import _1channel2images\n",
    "reload(_1channel2images)\n",
    "from _1channel2images import *\n",
    "\n",
    "print(\"Working with 1channel2images framework, nb_classes = \", nb_classes)\n",
    "\n",
    "#model = BaseNet1C(nb_classes)\n",
    "model_1C = ConvNet1_1C(nb_classes)\n",
    "optimizer_1C = torch.optim.SGD(model_1C.parameters(), lr=eta, momentum=0.95)\n",
    "test_results_1C = multiple_training_runs(model_1C, 2, optimizer_1C, train_input, train_classes,\n",
    "                                      test_input, test_target, test_classes, mini_batch_size, nb_epochs)\n",
    "write_to_csv('1channel2images.csv', model_1C, test_results_1C)"
   ]
  },
  {
   "cell_type": "code",
   "execution_count": null,
   "metadata": {},
   "outputs": [],
   "source": [
    "# This is just for visualization of our results but it will have to be taken away for the report \n",
    "# since we can't use any additional libraries\n",
    "import pandas as pd\n",
    "\n",
    "print(test_results_1C)\n",
    "write_to_csv('1channel2images.csv', model_1C, test_results_1C)\n",
    "data = pd.read_csv('1channel2images.csv')\n",
    "data.head()"
   ]
  },
  {
   "cell_type": "markdown",
   "metadata": {},
   "source": [
    "### 2channels1image"
   ]
  },
  {
   "cell_type": "code",
   "execution_count": null,
   "metadata": {},
   "outputs": [],
   "source": [
    "import _2channels1image\n",
    "reload(_2channels1image)\n",
    "from _2channels1image import *\n",
    "\n",
    "print(\"Working with 2channels1image framework, nb_classes = \", nb_classes)\n",
    "\n",
    "model_2C = ConvNet1_2C(nb_classes)\n",
    "optimizer_2C = torch.optim.SGD(model_2C.parameters(), lr=0.00001, momentum=0.95)  \n",
    "test_results_2C = multiple_training_runs(model_2C, 2, optimizer_2C, train_input, train_target,\n",
    "                           test_input, test_target, mini_batch_size, nb_epochs)\n",
    "write_to_csv('2channels1image.csv', model_2C, test_results_2C)"
   ]
  },
  {
   "cell_type": "code",
   "execution_count": null,
   "metadata": {},
   "outputs": [],
   "source": [
    "print(test_results_2C)\n",
    "write_to_csv('2channels1image.csv', model_2C, test_results_2C)\n",
    "data = pd.read_csv('2channels1image.csv')\n",
    "data.head()"
   ]
  },
  {
   "cell_type": "markdown",
   "metadata": {},
   "source": [
    "### Weight Sharing"
   ]
  },
  {
   "cell_type": "code",
   "execution_count": null,
   "metadata": {},
   "outputs": [],
   "source": [
    "import weight_sharing\n",
    "reload(weight_sharing)\n",
    "from weight_sharing import *\n",
    "\n",
    "print(\"Working with weight_sharing framework\")\n",
    "\n",
    "model_ws = NetSharing1()\n",
    "optimizer_ws = torch.optim.SGD(model_ws.parameters(), lr=0.00001, momentum=0.95)  \n",
    "test_results_ws = multiple_training_runs(model_ws, nb_runs, optimizer_ws, train_input, train_target,\n",
    "                           test_input, test_target, mini_batch_size, nb_epochs)\n",
    "write_to_csv('weightsharing.csv', model_ws, test_results_ws)"
   ]
  },
  {
   "cell_type": "code",
   "execution_count": null,
   "metadata": {},
   "outputs": [],
   "source": [
    "print(test_results_ws)\n",
    "write_to_csv('weightsharing.csv', model_ws, test_results_ws)\n",
    "data = pd.read_csv('weightsharing.csv')\n",
    "data.head()"
   ]
  },
  {
   "cell_type": "markdown",
   "metadata": {},
   "source": [
    "### Auxiliary Losses"
   ]
  },
  {
   "cell_type": "code",
   "execution_count": null,
   "metadata": {},
   "outputs": [],
   "source": [
    "import auxiliary_losses\n",
    "reload(auxiliary_losses)\n",
    "from auxiliary_losses import *\n",
    "import Incept1\n",
    "reload(Incept1)\n",
    "from Incept1 import *\n",
    "nb_epochs = 300\n",
    "print(\"Working with auxiliary losses framework\")\n",
    "\n",
    "model_aux = Incept1()\n",
    "optimizer_aux = torch.optim.SGD(model_aux.parameters(), lr=0.00001, momentum=0.95)  \n",
    "test_results_aux = multiple_training_runs(model_aux, nb_runs, optimizer_aux, train_input, train_target, train_classes, \n",
    "                                          test_input, test_target, test_classes, mini_batch_size, nb_epochs)\n",
    "write_to_csv('auxiliary_losses.csv', model_aux, test_results_aux)"
   ]
  },
  {
   "cell_type": "code",
   "execution_count": null,
   "metadata": {},
   "outputs": [],
   "source": [
    "print(test_results_aux)\n",
    "write_to_csv('auxiliary_losses.csv', model_aux, test_results_aux)\n",
    "data = pd.read_csv('auxiliary_losses.csv')\n",
    "data.head()"
   ]
  },
  {
   "cell_type": "markdown",
   "metadata": {},
   "source": [
    "## Weight Sharing and Auxiliary Loss Models(Youssef)"
   ]
  },
  {
   "cell_type": "code",
   "execution_count": 14,
   "metadata": {},
   "outputs": [
    {
     "name": "stdout",
     "output_type": "stream",
     "text": [
      "torch.Size([1000, 2, 14, 14]) torch.Size([1000]) torch.Size([1000, 2]) torch.Size([1000, 2, 14, 14]) torch.Size([1000]) torch.Size([1000, 2])\n"
     ]
    }
   ],
   "source": [
    "print(train_input.shape, train_target.shape, train_classes.shape, test_input.shape, test_target.shape, test_classes.shape)"
   ]
  },
  {
   "cell_type": "code",
   "execution_count": 15,
   "metadata": {},
   "outputs": [],
   "source": [
    "from torch.autograd import Variable\n",
    "from WSharingModel import *\n",
    "from torch import nn, optim\n",
    "from torch.nn import CrossEntropyLoss\n",
    "from torch.nn import BCEWithLogitsLoss\n",
    "import torch\n",
    "from torchvision import datasets\n",
    "from torch import optim\n",
    "import dlc_practical_prologue as prologue\n",
    "from AuxModel import *\n",
    "from torch.autograd import Variable\n",
    "from torch.nn import functional as F\n"
   ]
  },
  {
   "cell_type": "markdown",
   "metadata": {},
   "source": [
    "#### Function that draws the evolution of the loss during training."
   ]
  },
  {
   "cell_type": "code",
   "execution_count": 16,
   "metadata": {},
   "outputs": [],
   "source": [
    "def visualize_loss(model,loss_model,lr):\n",
    "    plt.plot(loss_model[0],loss_model[1], color='orange')\n",
    "    plt.xlabel('Epochs')\n",
    "    plt.ylabel('Loss')\n",
    "    plt.title('Evolution of the loss during training with learning rate {:>5} of the model {:>5}.'.format(lr,model.__class__.__name__))\n",
    "    plt.show()"
   ]
  },
  {
   "cell_type": "markdown",
   "metadata": {},
   "source": [
    "#### Function that prints the results of the prediction one the model is trained."
   ]
  },
  {
   "cell_type": "code",
   "execution_count": 17,
   "metadata": {},
   "outputs": [],
   "source": [
    "def print_results(model,optimizer,learning_rate,NB_EPOCHS,MINI_BATCH_SIZE, train_input, train_target,test_input, test_target):\n",
    "     print('model: {:6}, optimizer: {:6}, learning rate: {:6}, num epochs: {:3}, '\n",
    "                    'mini batch size: {:3}, train error: {:5.2f}%, test error: {:5.2f}%'.format(\n",
    "                    model.__class__.__name__,\n",
    "                    optimizer.__name__,\n",
    "                    learning_rate,\n",
    "                    NB_EPOCHS,\n",
    "                    MINI_BATCH_SIZE,\n",
    "                    model.compute_nb_errors(model, train_input, train_target, MINI_BATCH_SIZE) / train_input.size(0) * 100,\n",
    "                    model.compute_nb_errors(model, test_input, test_target, MINI_BATCH_SIZE) / test_input.size(0) * 100\n",
    "                    )\n",
    "                )"
   ]
  },
  {
   "cell_type": "markdown",
   "metadata": {},
   "source": [
    "### Treatement of our Training and Testing Data."
   ]
  },
  {
   "cell_type": "code",
   "execution_count": 18,
   "metadata": {},
   "outputs": [],
   "source": [
    "# normalize it\n",
    "mean, std = train_input.mean(), train_input.std() \n",
    "train_input.sub_(mean).div_(std)\n",
    "test_input.sub_(mean).div_(std)\n",
    "\n",
    "train_input, train_target, train_classes = Variable(train_input), Variable(train_target), Variable(train_classes)\n",
    "test_input, test_target = Variable(test_input), Variable(test_target)"
   ]
  },
  {
   "cell_type": "markdown",
   "metadata": {},
   "source": [
    "### We define our Learning parameters."
   ]
  },
  {
   "cell_type": "code",
   "execution_count": 19,
   "metadata": {},
   "outputs": [],
   "source": [
    "NB_EPOCHS = 50\n",
    "MINI_BATCH_SIZE = 100\n",
    "learning_rates = [0.1, 0.01]"
   ]
  },
  {
   "cell_type": "markdown",
   "metadata": {},
   "source": [
    "### We define our optimizers and losses and weights for the auxiliary losses."
   ]
  },
  {
   "cell_type": "code",
   "execution_count": 20,
   "metadata": {},
   "outputs": [],
   "source": [
    "op = torch.optim.SGD\n",
    "losses = [CrossEntropyLoss(),BCEWithLogitsLoss()]\n",
    "alpha = 0.5\n",
    "beta = 1"
   ]
  },
  {
   "cell_type": "markdown",
   "metadata": {},
   "source": [
    "### Training of Different Models and Results on Training and Testing set."
   ]
  },
  {
   "cell_type": "code",
   "execution_count": 22,
   "metadata": {},
   "outputs": [
    {
     "name": "stdout",
     "output_type": "stream",
     "text": [
      "Loss at epoch   0 : 1.5931733846664429  \n",
      "Loss at epoch   1 : 1.1708143949508667  \n",
      "Loss at epoch   2 : 0.7579388618469238  \n",
      "Loss at epoch   3 : 0.7059504985809326  \n",
      "Loss at epoch   4 : 0.7623346447944641  \n",
      "Loss at epoch   5 : 0.5767707228660583  \n",
      "Loss at epoch   6 : 0.5058138966560364  \n",
      "Loss at epoch   7 : 0.42225730419158936  \n",
      "Loss at epoch   8 : 0.4457586705684662  \n",
      "Loss at epoch   9 : 0.4232325851917267  \n",
      "Loss at epoch  10 : 0.5001781582832336  \n",
      "Loss at epoch  11 : 0.42033275961875916  \n",
      "Loss at epoch  12 : 0.3651975393295288  \n",
      "Loss at epoch  13 : 0.3247389495372772  \n",
      "Loss at epoch  14 : 0.293742299079895  \n",
      "Loss at epoch  15 : 0.2702767550945282  \n",
      "Loss at epoch  16 : 0.27155348658561707  \n",
      "Loss at epoch  17 : 0.24890632927417755  \n",
      "Loss at epoch  18 : 0.2271142154932022  \n",
      "Loss at epoch  19 : 0.2184830605983734  \n",
      "Loss at epoch  20 : 0.21102797985076904  \n",
      "Loss at epoch  21 : 0.22996455430984497  \n",
      "Loss at epoch  22 : 0.1652825027704239  \n",
      "Loss at epoch  23 : 0.15454678237438202  \n",
      "Loss at epoch  24 : 0.14105190336704254  \n",
      "Loss at epoch  25 : 0.15354911983013153  \n",
      "Loss at epoch  26 : 0.15588901937007904  \n",
      "Loss at epoch  27 : 0.1058620810508728  \n",
      "Loss at epoch  28 : 0.09673445671796799  \n",
      "Loss at epoch  29 : 0.10539498925209045  \n",
      "Loss at epoch  30 : 0.07195950299501419  \n",
      "Loss at epoch  31 : 0.0648329108953476  \n",
      "Loss at epoch  32 : 0.057835549116134644  \n",
      "Loss at epoch  33 : 0.04936462268233299  \n",
      "Loss at epoch  34 : 0.04199686646461487  \n",
      "Loss at epoch  35 : 0.03454289585351944  \n",
      "Loss at epoch  36 : 0.027835331857204437  \n",
      "Loss at epoch  37 : 0.022282728925347328  \n",
      "Loss at epoch  38 : 0.01674342155456543  \n",
      "Loss at epoch  39 : 0.013747057877480984  \n",
      "Loss at epoch  40 : 0.011456961743533611  \n",
      "Loss at epoch  41 : 0.009661216288805008  \n",
      "Loss at epoch  42 : 0.008303685113787651  \n",
      "Loss at epoch  43 : 0.007321210112422705  \n",
      "Loss at epoch  44 : 0.006592731457203627  \n",
      "Loss at epoch  45 : 0.0059295701794326305  \n",
      "Loss at epoch  46 : 0.005393972620368004  \n",
      "Loss at epoch  47 : 0.005020184442400932  \n",
      "Loss at epoch  48 : 0.004604024812579155  \n",
      "Loss at epoch  49 : 0.004306984134018421  \n",
      "model: WSModel, optimizer: SGD   , learning rate:    0.1, num epochs:  50, mini batch size: 100, train error:  0.00%, test error: 13.60%\n"
     ]
    },
    {
     "data": {
      "image/png": "[encoded data removed]",
      "text/plain": [
       "<Figure size 432x288 with 1 Axes>"
      ]
     },
     "metadata": {
      "needs_background": "light"
     },
     "output_type": "display_data"
    },
    {
     "name": "stdout",
     "output_type": "stream",
     "text": [
      "Loss at epoch   0 : 1.0608984231948853  \n",
      "Loss at epoch   1 : 0.7432945966720581  \n",
      "Loss at epoch   2 : 0.7028694748878479  \n",
      "Loss at epoch   3 : 0.6870779395103455  \n",
      "Loss at epoch   4 : 0.6783639788627625  \n",
      "Loss at epoch   5 : 0.674052357673645  \n",
      "Loss at epoch   6 : 0.6730619668960571  \n",
      "Loss at epoch   7 : 0.6743618249893188  \n",
      "Loss at epoch   8 : 0.6753957867622375  \n",
      "Loss at epoch   9 : 0.672397792339325  \n",
      "Loss at epoch  10 : 0.6667134165763855  \n",
      "Loss at epoch  11 : 0.6602374911308289  \n",
      "Loss at epoch  12 : 0.6534301042556763  \n",
      "Loss at epoch  13 : 0.6456688046455383  \n",
      "Loss at epoch  14 : 0.6356527209281921  \n",
      "Loss at epoch  15 : 0.6270893812179565  \n",
      "Loss at epoch  16 : 0.6166854500770569  \n",
      "Loss at epoch  17 : 0.6053372025489807  \n",
      "Loss at epoch  18 : 0.5934202075004578  \n",
      "Loss at epoch  19 : 0.5801225900650024  \n",
      "Loss at epoch  20 : 0.568310558795929  \n",
      "Loss at epoch  21 : 0.5563148856163025  \n",
      "Loss at epoch  22 : 0.5437567830085754  \n",
      "Loss at epoch  23 : 0.5315165519714355  \n",
      "Loss at epoch  24 : 0.5197769403457642  \n",
      "Loss at epoch  25 : 0.5078944563865662  \n",
      "Loss at epoch  26 : 0.4964664578437805  \n",
      "Loss at epoch  27 : 0.4853605628013611  \n",
      "Loss at epoch  28 : 0.475155234336853  \n",
      "Loss at epoch  29 : 0.46555206179618835  \n",
      "Loss at epoch  30 : 0.4561545252799988  \n",
      "Loss at epoch  31 : 0.44752228260040283  \n",
      "Loss at epoch  32 : 0.4393838047981262  \n",
      "Loss at epoch  33 : 0.4313865602016449  \n",
      "Loss at epoch  34 : 0.42473533749580383  \n",
      "Loss at epoch  35 : 0.4176065921783447  \n",
      "Loss at epoch  36 : 0.4107177257537842  \n",
      "Loss at epoch  37 : 0.4045543968677521  \n",
      "Loss at epoch  38 : 0.39875519275665283  \n",
      "Loss at epoch  39 : 0.39338546991348267  \n",
      "Loss at epoch  40 : 0.38834038376808167  \n",
      "Loss at epoch  41 : 0.3832653760910034  \n",
      "Loss at epoch  42 : 0.3784709870815277  \n",
      "Loss at epoch  43 : 0.3740842342376709  \n",
      "Loss at epoch  44 : 0.3696509897708893  \n",
      "Loss at epoch  45 : 0.36525535583496094  \n",
      "Loss at epoch  46 : 0.36131733655929565  \n",
      "Loss at epoch  47 : 0.3576893210411072  \n",
      "Loss at epoch  48 : 0.3541274964809418  \n",
      "Loss at epoch  49 : 0.3505685031414032  \n",
      "model: WSModel, optimizer: SGD   , learning rate:   0.01, num epochs:  50, mini batch size: 100, train error: 16.40%, test error: 20.70%\n"
     ]
    },
    {
     "data": {
      "image/png": "[encoded data removed]",
      "text/plain": [
       "<Figure size 432x288 with 1 Axes>"
      ]
     },
     "metadata": {
      "needs_background": "light"
     },
     "output_type": "display_data"
    },
    {
     "name": "stdout",
     "output_type": "stream",
     "text": [
      "Loss at epoch   0 : 0.6606205105781555  \n",
      "Loss at epoch   1 : 0.6203162670135498  \n",
      "Loss at epoch   2 : 0.7911128997802734  \n",
      "Loss at epoch   3 : 0.4439166188240051  \n",
      "Loss at epoch   4 : 0.3937903940677643  \n",
      "Loss at epoch   5 : 0.3816970884799957  \n",
      "Loss at epoch   6 : 0.3402155339717865  \n",
      "Loss at epoch   7 : 0.31741446256637573  \n",
      "Loss at epoch   8 : 0.3029659688472748  \n",
      "Loss at epoch   9 : 0.2839077413082123  \n",
      "Loss at epoch  10 : 0.2752622365951538  \n",
      "Loss at epoch  11 : 0.252876877784729  \n",
      "Loss at epoch  12 : 0.2407764494419098  \n",
      "Loss at epoch  13 : 0.23648938536643982  \n",
      "Loss at epoch  14 : 0.20429807901382446  \n",
      "Loss at epoch  15 : 0.23529906570911407  \n",
      "Loss at epoch  16 : 0.17312496900558472  \n",
      "Loss at epoch  17 : 0.18991559743881226  \n",
      "Loss at epoch  18 : 0.15442973375320435  \n",
      "Loss at epoch  19 : 0.14539651572704315  \n",
      "Loss at epoch  20 : 0.13000892102718353  \n",
      "Loss at epoch  21 : 0.13646411895751953  \n",
      "Loss at epoch  22 : 0.11265291273593903  \n",
      "Loss at epoch  23 : 0.09699097275733948  \n",
      "Loss at epoch  24 : 0.08264677971601486  \n",
      "Loss at epoch  25 : 0.07099030166864395  \n",
      "Loss at epoch  26 : 0.06196887791156769  \n",
      "Loss at epoch  27 : 0.05327319726347923  \n",
      "Loss at epoch  28 : 0.04363986477255821  \n",
      "Loss at epoch  29 : 0.03476612642407417  \n",
      "Loss at epoch  30 : 0.027040373533964157  \n",
      "Loss at epoch  31 : 0.018468936905264854  \n",
      "Loss at epoch  32 : 0.012905199080705643  \n",
      "Loss at epoch  33 : 0.010118771344423294  \n",
      "Loss at epoch  34 : 0.008668641559779644  \n",
      "Loss at epoch  35 : 0.007257250137627125  \n",
      "Loss at epoch  36 : 0.0063995677046477795  \n",
      "Loss at epoch  37 : 0.005683279130607843  \n",
      "Loss at epoch  38 : 0.005124163813889027  \n",
      "Loss at epoch  39 : 0.004652521573007107  \n",
      "Loss at epoch  40 : 0.004283228889107704  \n",
      "Loss at epoch  41 : 0.003947976976633072  \n",
      "Loss at epoch  42 : 0.003687503281980753  \n",
      "Loss at epoch  43 : 0.003429508302360773  \n",
      "Loss at epoch  44 : 0.00323050026781857  \n",
      "Loss at epoch  45 : 0.0030232572462409735  \n",
      "Loss at epoch  46 : 0.0028563879895955324  \n",
      "Loss at epoch  47 : 0.002707067644223571  \n",
      "Loss at epoch  48 : 0.002570568351075053  \n",
      "Loss at epoch  49 : 0.0024362457916140556  \n",
      "model: WSModel1, optimizer: SGD   , learning rate:    0.1, num epochs:  50, mini batch size: 100, train error:  0.00%, test error: 13.50%\n"
     ]
    },
    {
     "data": {
      "image/png": "[encoded data removed]",
      "text/plain": [
       "<Figure size 432x288 with 1 Axes>"
      ]
     },
     "metadata": {
      "needs_background": "light"
     },
     "output_type": "display_data"
    },
    {
     "name": "stdout",
     "output_type": "stream",
     "text": [
      "Loss at epoch   0 : 0.6894112229347229  \n",
      "Loss at epoch   1 : 0.6826723217964172  \n",
      "Loss at epoch   2 : 0.6760300993919373  \n",
      "Loss at epoch   3 : 0.6686152815818787  \n",
      "Loss at epoch   4 : 0.6609519720077515  \n",
      "Loss at epoch   5 : 0.6526759266853333  \n",
      "Loss at epoch   6 : 0.6439467668533325  \n",
      "Loss at epoch   7 : 0.6345562934875488  \n",
      "Loss at epoch   8 : 0.6240724325180054  \n",
      "Loss at epoch   9 : 0.612880289554596  \n",
      "Loss at epoch  10 : 0.6010222434997559  \n",
      "Loss at epoch  11 : 0.5885064601898193  \n",
      "Loss at epoch  12 : 0.5751845240592957  \n",
      "Loss at epoch  13 : 0.5614412426948547  \n",
      "Loss at epoch  14 : 0.5473238229751587  \n",
      "Loss at epoch  15 : 0.5329775810241699  \n",
      "Loss at epoch  16 : 0.5186456441879272  \n",
      "Loss at epoch  17 : 0.504377543926239  \n",
      "Loss at epoch  18 : 0.49048736691474915  \n",
      "Loss at epoch  19 : 0.47717493772506714  \n",
      "Loss at epoch  20 : 0.4645223915576935  \n",
      "Loss at epoch  21 : 0.4527152180671692  \n",
      "Loss at epoch  22 : 0.4418201744556427  \n",
      "Loss at epoch  23 : 0.4316849112510681  \n",
      "Loss at epoch  24 : 0.4223524332046509  \n",
      "Loss at epoch  25 : 0.4138585329055786  \n",
      "Loss at epoch  26 : 0.4059884548187256  \n",
      "Loss at epoch  27 : 0.3987719714641571  \n",
      "Loss at epoch  28 : 0.3921266794204712  \n",
      "Loss at epoch  29 : 0.3860533833503723  \n",
      "Loss at epoch  30 : 0.3804066777229309  \n",
      "Loss at epoch  31 : 0.37516269087791443  \n",
      "Loss at epoch  32 : 0.37026503682136536  \n",
      "Loss at epoch  33 : 0.36562785506248474  \n",
      "Loss at epoch  34 : 0.36126601696014404  \n",
      "Loss at epoch  35 : 0.35711726546287537  \n",
      "Loss at epoch  36 : 0.35316330194473267  \n",
      "Loss at epoch  37 : 0.3493594229221344  \n",
      "Loss at epoch  38 : 0.345714271068573  \n",
      "Loss at epoch  39 : 0.34218063950538635  \n",
      "Loss at epoch  40 : 0.33862319588661194  \n",
      "Loss at epoch  41 : 0.3352009952068329  \n",
      "Loss at epoch  42 : 0.33178141713142395  \n",
      "Loss at epoch  43 : 0.3283720314502716  \n",
      "Loss at epoch  44 : 0.3249059319496155  \n",
      "Loss at epoch  45 : 0.3215247690677643  \n",
      "Loss at epoch  46 : 0.3182414174079895  \n",
      "Loss at epoch  47 : 0.3149634301662445  \n",
      "Loss at epoch  48 : 0.3116860091686249  \n",
      "Loss at epoch  49 : 0.3084260821342468  \n",
      "model: WSModel1, optimizer: SGD   , learning rate:   0.01, num epochs:  50, mini batch size: 100, train error: 12.90%, test error: 17.80%\n"
     ]
    },
    {
     "data": {
      "image/png": "[encoded data removed]",
      "text/plain": [
       "<Figure size 432x288 with 1 Axes>"
      ]
     },
     "metadata": {
      "needs_background": "light"
     },
     "output_type": "display_data"
    },
    {
     "name": "stdout",
     "output_type": "stream",
     "text": [
      "Loss at   0 : 4.885939121246338  \n",
      "Loss at   1 : 4.529895782470703  \n",
      "Loss at   2 : 4.693931579589844  \n",
      "Loss at   3 : 4.658938407897949  \n",
      "Loss at   4 : 3.7193286418914795  \n",
      "Loss at   5 : 3.6792984008789062  \n",
      "Loss at   6 : 3.274841785430908  \n",
      "Loss at   7 : 1.9920591115951538  \n",
      "Loss at   8 : 2.135071039199829  \n",
      "Loss at   9 : 2.4936609268188477  \n",
      "Loss at  10 : 1.4316513538360596  \n",
      "Loss at  11 : 0.9083067178726196  \n",
      "Loss at  12 : 0.7338847517967224  \n",
      "Loss at  13 : 0.5696123242378235  \n",
      "Loss at  14 : 0.4917108714580536  \n",
      "Loss at  15 : 0.544126570224762  \n",
      "Loss at  16 : 0.4467204213142395  \n",
      "Loss at  17 : 0.3895251750946045  \n",
      "Loss at  18 : 0.3541269898414612  \n",
      "Loss at  19 : 1.4231921434402466  \n",
      "Loss at  20 : 0.4203462600708008  \n",
      "Loss at  21 : 0.35661423206329346  \n",
      "Loss at  22 : 0.30297911167144775  \n",
      "Loss at  23 : 0.2257792353630066  \n",
      "Loss at  24 : 0.18324607610702515  \n",
      "Loss at  25 : 0.1564132571220398  \n",
      "Loss at  26 : 0.14122174680233002  \n",
      "Loss at  27 : 0.12772317230701447  \n",
      "Loss at  28 : 0.11943872272968292  \n",
      "Loss at  29 : 0.11140427738428116  \n",
      "Loss at  30 : 0.10445054620504379  \n",
      "Loss at  31 : 0.09750160574913025  \n",
      "Loss at  32 : 0.09085168689489365  \n",
      "Loss at  33 : 0.08563745021820068  \n",
      "Loss at  34 : 0.08055084198713303  \n",
      "Loss at  35 : 0.07467403262853622  \n",
      "Loss at  36 : 0.06800717115402222  \n",
      "Loss at  37 : 0.06290194392204285  \n",
      "Loss at  38 : 0.0576629638671875  \n",
      "Loss at  39 : 0.0534028485417366  \n",
      "Loss at  40 : 0.04818134009838104  \n",
      "Loss at  41 : 0.04485880583524704  \n",
      "Loss at  42 : 0.0410565510392189  \n",
      "Loss at  43 : 0.03769145905971527  \n",
      "Loss at  44 : 0.03480297699570656  \n",
      "Loss at  45 : 0.03152694180607796  \n",
      "Loss at  46 : 0.029206538572907448  \n",
      "Loss at  47 : 0.025989968329668045  \n",
      "Loss at  48 : 0.0239650197327137  \n",
      "Loss at  49 : 0.021390128880739212  \n",
      "model: AuxModel, optimizer: SGD   , learning rate:    0.1, num epochs:  50, mini batch size: 100, train error:  0.30%, test error:  9.10%\n"
     ]
    },
    {
     "data": {
      "image/png": "[encoded data removed]",
      "text/plain": [
       "<Figure size 432x288 with 1 Axes>"
      ]
     },
     "metadata": {
      "needs_background": "light"
     },
     "output_type": "display_data"
    },
    {
     "name": "stdout",
     "output_type": "stream",
     "text": [
      "Loss at   0 : 4.927739143371582  \n",
      "Loss at   1 : 4.92047119140625  \n",
      "Loss at   2 : 4.91256856918335  \n",
      "Loss at   3 : 4.903417587280273  \n",
      "Loss at   4 : 4.8939738273620605  \n",
      "Loss at   5 : 4.882934093475342  \n",
      "Loss at   6 : 4.868405342102051  \n",
      "Loss at   7 : 4.852033615112305  \n",
      "Loss at   8 : 4.83355712890625  \n",
      "Loss at   9 : 4.81378698348999  \n",
      "Loss at  10 : 4.791791915893555  \n",
      "Loss at  11 : 4.766241073608398  \n",
      "Loss at  12 : 4.736403465270996  \n",
      "Loss at  13 : 4.702094078063965  \n",
      "Loss at  14 : 4.662283420562744  \n",
      "Loss at  15 : 4.61538553237915  \n",
      "Loss at  16 : 4.559099197387695  \n",
      "Loss at  17 : 4.49118709564209  \n",
      "Loss at  18 : 4.413135051727295  \n",
      "Loss at  19 : 4.323252201080322  \n",
      "Loss at  20 : 4.223078727722168  \n",
      "Loss at  21 : 4.115723133087158  \n",
      "Loss at  22 : 4.00433349609375  \n",
      "Loss at  23 : 3.8901758193969727  \n",
      "Loss at  24 : 3.7719266414642334  \n",
      "Loss at  25 : 3.652087688446045  \n",
      "Loss at  26 : 3.55368971824646  \n",
      "Loss at  27 : 3.5801920890808105  \n",
      "Loss at  28 : 3.420305013656616  \n",
      "Loss at  29 : 3.3132030963897705  \n",
      "Loss at  30 : 3.1997549533843994  \n",
      "Loss at  31 : 3.109713554382324  \n",
      "Loss at  32 : 2.9979023933410645  \n",
      "Loss at  33 : 2.934208631515503  \n",
      "Loss at  34 : 2.845109462738037  \n",
      "Loss at  35 : 2.758528709411621  \n",
      "Loss at  36 : 2.6977694034576416  \n",
      "Loss at  37 : 2.6220595836639404  \n",
      "Loss at  38 : 2.5739128589630127  \n",
      "Loss at  39 : 2.516219139099121  \n",
      "Loss at  40 : 2.4561173915863037  \n",
      "Loss at  41 : 2.41169810295105  \n",
      "Loss at  42 : 2.4992215633392334  \n",
      "Loss at  43 : 2.398470878601074  \n",
      "Loss at  44 : 2.3379135131835938  \n",
      "Loss at  45 : 2.2878000736236572  \n",
      "Loss at  46 : 2.244499683380127  \n",
      "Loss at  47 : 2.1992132663726807  \n",
      "Loss at  48 : 2.1867527961730957  \n",
      "Loss at  49 : 2.1713178157806396  \n",
      "model: AuxModel, optimizer: SGD   , learning rate:   0.01, num epochs:  50, mini batch size: 100, train error: 30.40%, test error: 30.10%\n"
     ]
    },
    {
     "data": {
      "image/png": "[encoded data removed]",
      "text/plain": [
       "<Figure size 432x288 with 1 Axes>"
      ]
     },
     "metadata": {
      "needs_background": "light"
     },
     "output_type": "display_data"
    },
    {
     "name": "stdout",
     "output_type": "stream",
     "text": [
      "Loss at   0 : 4.621102333068848  \n",
      "Loss at   1 : 4.225714206695557  \n",
      "Loss at   2 : 3.1464242935180664  \n",
      "Loss at   3 : 2.532541036605835  \n",
      "Loss at   4 : 2.3513927459716797  \n",
      "Loss at   5 : 1.770032286643982  \n",
      "Loss at   6 : 1.241991400718689  \n",
      "Loss at   7 : 1.0907292366027832  \n",
      "Loss at   8 : 1.1049721240997314  \n",
      "Loss at   9 : 0.8816272616386414  \n",
      "Loss at  10 : 0.8484655618667603  \n",
      "Loss at  11 : 0.7934935092926025  \n",
      "Loss at  12 : 0.7481510043144226  \n",
      "Loss at  13 : 0.7071205973625183  \n",
      "Loss at  14 : 0.6812518835067749  \n",
      "Loss at  15 : 0.6849319338798523  \n",
      "Loss at  16 : 0.6499795913696289  \n",
      "Loss at  17 : 0.6325887441635132  \n",
      "Loss at  18 : 0.61622554063797  \n",
      "Loss at  19 : 0.6036076545715332  \n",
      "Loss at  20 : 0.5946261286735535  \n",
      "Loss at  21 : 0.584135890007019  \n",
      "Loss at  22 : 0.5754901766777039  \n",
      "Loss at  23 : 0.5625455379486084  \n",
      "Loss at  24 : 0.5562440752983093  \n",
      "Loss at  25 : 0.5464500188827515  \n",
      "Loss at  26 : 0.5389575958251953  \n",
      "Loss at  27 : 0.5329303741455078  \n",
      "Loss at  28 : 0.5396770238876343  \n",
      "Loss at  29 : 0.5212690830230713  \n",
      "Loss at  30 : 0.5213475227355957  \n",
      "Loss at  31 : 0.5182905197143555  \n",
      "Loss at  32 : 0.5105524063110352  \n",
      "Loss at  33 : 0.5094747543334961  \n",
      "Loss at  34 : 0.5037570595741272  \n",
      "Loss at  35 : 0.5014528036117554  \n",
      "Loss at  36 : 0.4952165484428406  \n",
      "Loss at  37 : 0.49249279499053955  \n",
      "Loss at  38 : 0.4886784553527832  \n",
      "Loss at  39 : 0.4834599792957306  \n",
      "Loss at  40 : 0.4821142554283142  \n",
      "Loss at  41 : 0.4777163565158844  \n",
      "Loss at  42 : 0.47479766607284546  \n",
      "Loss at  43 : 0.4726817309856415  \n",
      "Loss at  44 : 0.47336238622665405  \n",
      "Loss at  45 : 0.4668983817100525  \n",
      "Loss at  46 : 0.465013712644577  \n",
      "Loss at  47 : 0.46395280957221985  \n",
      "Loss at  48 : 0.46421951055526733  \n",
      "Loss at  49 : 0.4553859531879425  \n",
      "model: AuxModel1, optimizer: SGD   , learning rate:    0.1, num epochs:  50, mini batch size: 100, train error:  2.30%, test error:  8.30%\n"
     ]
    },
    {
     "data": {
      "image/png": "[encoded data removed]",
      "text/plain": [
       "<Figure size 432x288 with 1 Axes>"
      ]
     },
     "metadata": {
      "needs_background": "light"
     },
     "output_type": "display_data"
    },
    {
     "name": "stdout",
     "output_type": "stream",
     "text": [
      "Loss at   0 : 4.873674392700195  \n",
      "Loss at   1 : 4.797917366027832  \n",
      "Loss at   2 : 4.715977191925049  \n",
      "Loss at   3 : 4.6219964027404785  \n",
      "Loss at   4 : 4.512242317199707  \n",
      "Loss at   5 : 4.381453037261963  \n",
      "Loss at   6 : 4.229177474975586  \n",
      "Loss at   7 : 4.055629730224609  \n",
      "Loss at   8 : 3.8667216300964355  \n",
      "Loss at   9 : 3.667390823364258  \n",
      "Loss at  10 : 3.4637112617492676  \n",
      "Loss at  11 : 3.26324725151062  \n",
      "Loss at  12 : 3.0744988918304443  \n",
      "Loss at  13 : 2.9001362323760986  \n",
      "Loss at  14 : 2.7415008544921875  \n",
      "Loss at  15 : 2.6019160747528076  \n",
      "Loss at  16 : 2.477271556854248  \n",
      "Loss at  17 : 2.3690922260284424  \n",
      "Loss at  18 : 2.272007465362549  \n",
      "Loss at  19 : 2.1903862953186035  \n",
      "Loss at  20 : 2.1139779090881348  \n",
      "Loss at  21 : 2.044996500015259  \n",
      "Loss at  22 : 1.9827837944030762  \n",
      "Loss at  23 : 1.9256436824798584  \n",
      "Loss at  24 : 1.8686915636062622  \n",
      "Loss at  25 : 1.8187382221221924  \n",
      "Loss at  26 : 1.773931860923767  \n",
      "Loss at  27 : 1.7333918809890747  \n",
      "Loss at  28 : 1.6944096088409424  \n",
      "Loss at  29 : 1.6606007814407349  \n",
      "Loss at  30 : 1.6295692920684814  \n",
      "Loss at  31 : 1.6002966165542603  \n",
      "Loss at  32 : 1.5726113319396973  \n",
      "Loss at  33 : 1.548560380935669  \n",
      "Loss at  34 : 1.527390480041504  \n",
      "Loss at  35 : 1.508027195930481  \n",
      "Loss at  36 : 1.4838247299194336  \n",
      "Loss at  37 : 1.4656928777694702  \n",
      "Loss at  38 : 1.4483368396759033  \n",
      "Loss at  39 : 1.4272063970565796  \n",
      "Loss at  40 : 1.4113831520080566  \n",
      "Loss at  41 : 1.3930389881134033  \n",
      "Loss at  42 : 1.3796755075454712  \n",
      "Loss at  43 : 1.3649846315383911  \n",
      "Loss at  44 : 1.3513238430023193  \n",
      "Loss at  45 : 1.3403078317642212  \n",
      "Loss at  46 : 1.3294695615768433  \n",
      "Loss at  47 : 1.3200477361679077  \n",
      "Loss at  48 : 1.3072493076324463  \n",
      "Loss at  49 : 1.2367899417877197  \n",
      "model: AuxModel1, optimizer: SGD   , learning rate:   0.01, num epochs:  50, mini batch size: 100, train error: 14.50%, test error: 14.70%\n"
     ]
    },
    {
     "data": {
      "image/png": "[encoded data removed]",
      "text/plain": [
       "<Figure size 432x288 with 1 Axes>"
      ]
     },
     "metadata": {
      "needs_background": "light"
     },
     "output_type": "display_data"
    }
   ],
   "source": [
    " for j in range(4):\n",
    "        for i in range(len(learning_rates)):\n",
    "            models = [WSModel(),WSModel1(),AuxModel(),AuxModel1()]\n",
    "            model = models[j]\n",
    "            optimizer = op(model.parameters(),lr = learning_rates[i])\n",
    "            if (j<2):\n",
    "                #print(\"here\")\n",
    "                loss_aux = train_model_WS(model, optimizer,  train_input, train_target, NB_EPOCHS, MINI_BATCH_SIZE,losses[0])\n",
    "            elif(j>1):\n",
    "                #print(\"here here\")\n",
    "                loss_aux = train_model_AM(model, optimizer,  train_input, train_target, train_classes,NB_EPOCHS, MINI_BATCH_SIZE,losses[0],alpha,beta)\n",
    "            #print(\"model:\",model)\n",
    "            print_results(model,op,learning_rates[i],NB_EPOCHS,MINI_BATCH_SIZE, train_input, train_target,test_input, test_target)\n",
    "            visualize_loss(model,loss_aux,learning_rates[i])"
   ]
  },
  {
   "cell_type": "code",
   "execution_count": null,
   "metadata": {},
   "outputs": [],
   "source": []
  }
 ],
 "metadata": {
  "kernelspec": {
   "display_name": "Python 3",
   "language": "python",
   "name": "python3"
  },
  "language_info": {
   "codemirror_mode": {
    "name": "ipython",
    "version": 3
   },
   "file_extension": ".py",
   "mimetype": "text/x-python",
   "name": "python",
   "nbconvert_exporter": "python",
   "pygments_lexer": "ipython3",
   "version": "3.7.2"
  }
 },
 "nbformat": 4,
 "nbformat_minor": 2
}
