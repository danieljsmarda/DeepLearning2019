{
 "cells": [
  {
   "cell_type": "markdown",
   "metadata": {},
   "source": [
    "### Import models and load data"
   ]
  },
  {
   "cell_type": "code",
   "execution_count": 48,
   "metadata": {},
   "outputs": [
    {
     "name": "stderr",
     "output_type": "stream",
     "text": [
      "/usr/local/lib/python3.7/site-packages/torchvision/datasets/mnist.py:53: UserWarning: train_data has been renamed data\n",
      "  warnings.warn(\"train_data has been renamed data\")\n",
      "/usr/local/lib/python3.7/site-packages/torchvision/datasets/mnist.py:43: UserWarning: train_labels has been renamed targets\n",
      "  warnings.warn(\"train_labels has been renamed targets\")\n",
      "/usr/local/lib/python3.7/site-packages/torchvision/datasets/mnist.py:58: UserWarning: test_data has been renamed data\n",
      "  warnings.warn(\"test_data has been renamed data\")\n",
      "/usr/local/lib/python3.7/site-packages/torchvision/datasets/mnist.py:48: UserWarning: test_labels has been renamed targets\n",
      "  warnings.warn(\"test_labels has been renamed targets\")\n"
     ]
    }
   ],
   "source": [
    "from torchvision import datasets\n",
    "import torch\n",
    "import dlc_practical_prologue as prologue\n",
    "import matplotlib.pyplot as plt\n",
    "\n",
    "# Import all models\n",
    "from BaseNet import *\n",
    "from ConvNet1 import *\n",
    "#from NetSharing import *\n",
    "\n",
    "mini_batch_size = 1000\n",
    "nb_epochs = 300\n",
    "nb_runs = 2\n",
    "eta = 0.001\n",
    "\n",
    "train_input, train_target, train_classes, test_input, test_target, test_classes = \\\n",
    "    prologue.generate_pair_sets(nb=1000)"
   ]
  },
  {
   "cell_type": "markdown",
   "metadata": {},
   "source": [
    "### 1channel2images"
   ]
  },
  {
   "cell_type": "code",
   "execution_count": 2,
   "metadata": {
    "scrolled": true
   },
   "outputs": [
    {
     "name": "stdout",
     "output_type": "stream",
     "text": [
      "Working with 1channel2images framework, nb_classes =  10\n"
     ]
    },
    {
     "ename": "KeyboardInterrupt",
     "evalue": "",
     "output_type": "error",
     "traceback": [
      "\u001b[0;31m---------------------------------------------------------------------------\u001b[0m",
      "\u001b[0;31mKeyboardInterrupt\u001b[0m                         Traceback (most recent call last)",
      "\u001b[0;32m<ipython-input-2-686e33a02570>\u001b[0m in \u001b[0;36m<module>\u001b[0;34m\u001b[0m\n\u001b[1;32m     10\u001b[0m \u001b[0moptimizer_1C\u001b[0m \u001b[0;34m=\u001b[0m \u001b[0mtorch\u001b[0m\u001b[0;34m.\u001b[0m\u001b[0moptim\u001b[0m\u001b[0;34m.\u001b[0m\u001b[0mSGD\u001b[0m\u001b[0;34m(\u001b[0m\u001b[0mmodel_1C\u001b[0m\u001b[0;34m.\u001b[0m\u001b[0mparameters\u001b[0m\u001b[0;34m(\u001b[0m\u001b[0;34m)\u001b[0m\u001b[0;34m,\u001b[0m \u001b[0mlr\u001b[0m\u001b[0;34m=\u001b[0m\u001b[0meta\u001b[0m\u001b[0;34m,\u001b[0m \u001b[0mmomentum\u001b[0m\u001b[0;34m=\u001b[0m\u001b[0;36m0.95\u001b[0m\u001b[0;34m)\u001b[0m\u001b[0;34m\u001b[0m\u001b[0;34m\u001b[0m\u001b[0m\n\u001b[1;32m     11\u001b[0m test_results_1C = multiple_training_runs(model_1C, 2, optimizer_1C, train_input, train_classes,\n\u001b[0;32m---> 12\u001b[0;31m                                       test_input, test_target, test_classes, mini_batch_size, nb_epochs)\n\u001b[0m\u001b[1;32m     13\u001b[0m \u001b[0mwrite_to_csv\u001b[0m\u001b[0;34m(\u001b[0m\u001b[0;34m'1channel2images.csv'\u001b[0m\u001b[0;34m,\u001b[0m \u001b[0mmodel_1C\u001b[0m\u001b[0;34m,\u001b[0m \u001b[0mtest_results_1C\u001b[0m\u001b[0;34m)\u001b[0m\u001b[0;34m\u001b[0m\u001b[0;34m\u001b[0m\u001b[0m\n",
      "\u001b[0;32m~/Documents/EPFL/DeepLearning2019/Project1/_1channel2images.py\u001b[0m in \u001b[0;36mmultiple_training_runs\u001b[0;34m(model, nb_runs, optimizer, train_input, train_classes, test_input, test_target, test_classes, mini_batch_size, nb_epochs)\u001b[0m\n\u001b[1;32m    176\u001b[0m     \u001b[0;32mfor\u001b[0m \u001b[0mi\u001b[0m \u001b[0;32min\u001b[0m \u001b[0mrange\u001b[0m\u001b[0;34m(\u001b[0m\u001b[0mnb_runs\u001b[0m\u001b[0;34m)\u001b[0m\u001b[0;34m:\u001b[0m\u001b[0;34m\u001b[0m\u001b[0;34m\u001b[0m\u001b[0m\n\u001b[1;32m    177\u001b[0m         \u001b[0mmodel\u001b[0m\u001b[0;34m.\u001b[0m\u001b[0mload_state_dict\u001b[0m\u001b[0;34m(\u001b[0m\u001b[0minitial_model_wts\u001b[0m\u001b[0;34m)\u001b[0m\u001b[0;34m\u001b[0m\u001b[0;34m\u001b[0m\u001b[0m\n\u001b[0;32m--> 178\u001b[0;31m         \u001b[0mmodel\u001b[0m\u001b[0;34m,\u001b[0m \u001b[0mtime_elapsed\u001b[0m \u001b[0;34m=\u001b[0m \u001b[0mtrain_model_1C\u001b[0m\u001b[0;34m(\u001b[0m\u001b[0mmodel\u001b[0m\u001b[0;34m,\u001b[0m \u001b[0mtrain_input\u001b[0m\u001b[0;34m,\u001b[0m \u001b[0mtrain_classes\u001b[0m\u001b[0;34m,\u001b[0m \u001b[0moptimizer\u001b[0m\u001b[0;34m,\u001b[0m \u001b[0mmini_batch_size\u001b[0m\u001b[0;34m=\u001b[0m\u001b[0mmini_batch_size\u001b[0m\u001b[0;34m,\u001b[0m \u001b[0mnb_epochs\u001b[0m\u001b[0;34m=\u001b[0m\u001b[0mnb_epochs\u001b[0m\u001b[0;34m)\u001b[0m\u001b[0;34m\u001b[0m\u001b[0;34m\u001b[0m\u001b[0m\n\u001b[0m\u001b[1;32m    179\u001b[0m         \u001b[0mlist_time\u001b[0m\u001b[0;34m.\u001b[0m\u001b[0mappend\u001b[0m\u001b[0;34m(\u001b[0m\u001b[0mtime_elapsed\u001b[0m\u001b[0;34m)\u001b[0m\u001b[0;34m\u001b[0m\u001b[0;34m\u001b[0m\u001b[0m\n\u001b[1;32m    180\u001b[0m \u001b[0;34m\u001b[0m\u001b[0m\n",
      "\u001b[0;32m~/Documents/EPFL/DeepLearning2019/Project1/_1channel2images.py\u001b[0m in \u001b[0;36mtrain_model_1C\u001b[0;34m(model, train_input, train_classes, optimizer, mini_batch_size, nb_epochs)\u001b[0m\n\u001b[1;32m     51\u001b[0m \u001b[0;34m\u001b[0m\u001b[0m\n\u001b[1;32m     52\u001b[0m                     \u001b[0;32mif\u001b[0m \u001b[0mphase\u001b[0m \u001b[0;34m==\u001b[0m \u001b[0;34m'train'\u001b[0m\u001b[0;34m:\u001b[0m\u001b[0;34m\u001b[0m\u001b[0;34m\u001b[0m\u001b[0m\n\u001b[0;32m---> 53\u001b[0;31m                         \u001b[0mloss\u001b[0m\u001b[0;34m.\u001b[0m\u001b[0mbackward\u001b[0m\u001b[0;34m(\u001b[0m\u001b[0;34m)\u001b[0m\u001b[0;34m\u001b[0m\u001b[0;34m\u001b[0m\u001b[0m\n\u001b[0m\u001b[1;32m     54\u001b[0m                         \u001b[0moptimizer\u001b[0m\u001b[0;34m.\u001b[0m\u001b[0mstep\u001b[0m\u001b[0;34m(\u001b[0m\u001b[0;34m)\u001b[0m\u001b[0;34m\u001b[0m\u001b[0;34m\u001b[0m\u001b[0m\n\u001b[1;32m     55\u001b[0m \u001b[0;34m\u001b[0m\u001b[0m\n",
      "\u001b[0;32m/usr/local/lib/python3.7/site-packages/torch/tensor.py\u001b[0m in \u001b[0;36mbackward\u001b[0;34m(self, gradient, retain_graph, create_graph)\u001b[0m\n\u001b[1;32m    100\u001b[0m                 \u001b[0mproducts\u001b[0m\u001b[0;34m.\u001b[0m \u001b[0mDefaults\u001b[0m \u001b[0mto\u001b[0m\u001b[0;31m \u001b[0m\u001b[0;31m`\u001b[0m\u001b[0;31m`\u001b[0m\u001b[0;32mFalse\u001b[0m\u001b[0;31m`\u001b[0m\u001b[0;31m`\u001b[0m\u001b[0;34m.\u001b[0m\u001b[0;34m\u001b[0m\u001b[0;34m\u001b[0m\u001b[0m\n\u001b[1;32m    101\u001b[0m         \"\"\"\n\u001b[0;32m--> 102\u001b[0;31m         \u001b[0mtorch\u001b[0m\u001b[0;34m.\u001b[0m\u001b[0mautograd\u001b[0m\u001b[0;34m.\u001b[0m\u001b[0mbackward\u001b[0m\u001b[0;34m(\u001b[0m\u001b[0mself\u001b[0m\u001b[0;34m,\u001b[0m \u001b[0mgradient\u001b[0m\u001b[0;34m,\u001b[0m \u001b[0mretain_graph\u001b[0m\u001b[0;34m,\u001b[0m \u001b[0mcreate_graph\u001b[0m\u001b[0;34m)\u001b[0m\u001b[0;34m\u001b[0m\u001b[0;34m\u001b[0m\u001b[0m\n\u001b[0m\u001b[1;32m    103\u001b[0m \u001b[0;34m\u001b[0m\u001b[0m\n\u001b[1;32m    104\u001b[0m     \u001b[0;32mdef\u001b[0m \u001b[0mregister_hook\u001b[0m\u001b[0;34m(\u001b[0m\u001b[0mself\u001b[0m\u001b[0;34m,\u001b[0m \u001b[0mhook\u001b[0m\u001b[0;34m)\u001b[0m\u001b[0;34m:\u001b[0m\u001b[0;34m\u001b[0m\u001b[0;34m\u001b[0m\u001b[0m\n",
      "\u001b[0;32m/usr/local/lib/python3.7/site-packages/torch/autograd/__init__.py\u001b[0m in \u001b[0;36mbackward\u001b[0;34m(tensors, grad_tensors, retain_graph, create_graph, grad_variables)\u001b[0m\n\u001b[1;32m     88\u001b[0m     Variable._execution_engine.run_backward(\n\u001b[1;32m     89\u001b[0m         \u001b[0mtensors\u001b[0m\u001b[0;34m,\u001b[0m \u001b[0mgrad_tensors\u001b[0m\u001b[0;34m,\u001b[0m \u001b[0mretain_graph\u001b[0m\u001b[0;34m,\u001b[0m \u001b[0mcreate_graph\u001b[0m\u001b[0;34m,\u001b[0m\u001b[0;34m\u001b[0m\u001b[0;34m\u001b[0m\u001b[0m\n\u001b[0;32m---> 90\u001b[0;31m         allow_unreachable=True)  # allow_unreachable flag\n\u001b[0m\u001b[1;32m     91\u001b[0m \u001b[0;34m\u001b[0m\u001b[0m\n\u001b[1;32m     92\u001b[0m \u001b[0;34m\u001b[0m\u001b[0m\n",
      "\u001b[0;31mKeyboardInterrupt\u001b[0m: "
     ]
    }
   ],
   "source": [
    "from importlib import reload\n",
    "import _1channel2images\n",
    "reload(_1channel2images)\n",
    "from _1channel2images import *\n",
    "\n",
    "print(\"Working with 1channel2images framework, nb_classes = \", nb_classes)\n",
    "\n",
    "#model = BaseNet1C(nb_classes)\n",
    "model_1C = ConvNet1_1C(nb_classes)\n",
    "optimizer_1C = torch.optim.SGD(model_1C.parameters(), lr=eta, momentum=0.95)\n",
    "test_results_1C = multiple_training_runs(model_1C, 2, optimizer_1C, train_input, train_classes,\n",
    "                                      test_input, test_target, test_classes, mini_batch_size, nb_epochs)\n",
    "write_to_csv('1channel2images.csv', model_1C, test_results_1C)"
   ]
  },
  {
   "cell_type": "code",
   "execution_count": null,
   "metadata": {},
   "outputs": [],
   "source": [
    "# This is just for visualization of our results but it will have to be taken away for the report \n",
    "# since we can't use any additional libraries\n",
    "import pandas as pd\n",
    "\n",
    "print(test_results_1C)\n",
    "write_to_csv('1channel2images.csv', model_1C, test_results_1C)\n",
    "data = pd.read_csv('1channel2images.csv')\n",
    "data.head()"
   ]
  },
  {
   "cell_type": "markdown",
   "metadata": {},
   "source": [
    "### 2channels1image"
   ]
  },
  {
   "cell_type": "code",
   "execution_count": null,
   "metadata": {},
   "outputs": [],
   "source": [
    "import _2channels1image\n",
    "reload(_2channels1image)\n",
    "from _2channels1image import *\n",
    "\n",
    "print(\"Working with 2channels1image framework, nb_classes = \", nb_classes)\n",
    "\n",
    "model_2C = ConvNet1_2C(nb_classes)\n",
    "optimizer_2C = torch.optim.SGD(model_2C.parameters(), lr=0.00001, momentum=0.95)  \n",
    "test_results_2C = multiple_training_runs(model_2C, 2, optimizer_2C, train_input, train_target,\n",
    "                           test_input, test_target, mini_batch_size, nb_epochs)\n",
    "write_to_csv('2channels1image.csv', model_2C, test_results_2C)"
   ]
  },
  {
   "cell_type": "code",
   "execution_count": null,
   "metadata": {},
   "outputs": [],
   "source": [
    "print(test_results_2C)\n",
    "write_to_csv('2channels1image.csv', model_2C, test_results_2C)\n",
    "data = pd.read_csv('2channels1image.csv')\n",
    "data.head()"
   ]
  },
  {
   "cell_type": "markdown",
   "metadata": {},
   "source": [
    "### Weight Sharing"
   ]
  },
  {
   "cell_type": "code",
   "execution_count": null,
   "metadata": {},
   "outputs": [],
   "source": [
    "import weight_sharing\n",
    "reload(weight_sharing)\n",
    "from weight_sharing import *\n",
    "\n",
    "print(\"Working with weight_sharing framework\")\n",
    "\n",
    "model_ws = NetSharing1()\n",
    "optimizer_ws = torch.optim.SGD(model_ws.parameters(), lr=0.00001, momentum=0.95)  \n",
    "test_results_ws = multiple_training_runs(model_ws, nb_runs, optimizer_ws, train_input, train_target,\n",
    "                           test_input, test_target, mini_batch_size, nb_epochs)\n",
    "write_to_csv('weightsharing.csv', model_ws, test_results_ws)"
   ]
  },
  {
   "cell_type": "code",
   "execution_count": null,
   "metadata": {},
   "outputs": [],
   "source": [
    "print(test_results_ws)\n",
    "write_to_csv('weightsharing.csv', model_ws, test_results_ws)\n",
    "data = pd.read_csv('weightsharing.csv')\n",
    "data.head()"
   ]
  },
  {
   "cell_type": "markdown",
   "metadata": {},
   "source": [
    "### Auxiliary Losses"
   ]
  },
  {
   "cell_type": "code",
   "execution_count": null,
   "metadata": {},
   "outputs": [],
   "source": [
    "import auxiliary_losses\n",
    "reload(auxiliary_losses)\n",
    "from auxiliary_losses import *\n",
    "import Incept1\n",
    "reload(Incept1)\n",
    "from Incept1 import *\n",
    "nb_epochs = 300\n",
    "print(\"Working with auxiliary losses framework\")\n",
    "\n",
    "model_aux = Incept1()\n",
    "optimizer_aux = torch.optim.SGD(model_aux.parameters(), lr=0.00001, momentum=0.95)  \n",
    "test_results_aux = multiple_training_runs(model_aux, nb_runs, optimizer_aux, train_input, train_target, train_classes, \n",
    "                                          test_input, test_target, test_classes, mini_batch_size, nb_epochs)\n",
    "write_to_csv('auxiliary_losses.csv', model_aux, test_results_aux)"
   ]
  },
  {
   "cell_type": "code",
   "execution_count": null,
   "metadata": {},
   "outputs": [],
   "source": [
    "print(test_results_aux)\n",
    "write_to_csv('auxiliary_losses.csv', model_aux, test_results_aux)\n",
    "data = pd.read_csv('auxiliary_losses.csv')\n",
    "data.head()"
   ]
  },
  {
   "cell_type": "markdown",
   "metadata": {},
   "source": [
    "### Weight Sharing Model (Youssef)"
   ]
  },
  {
   "cell_type": "code",
   "execution_count": 49,
   "metadata": {},
   "outputs": [
    {
     "name": "stdout",
     "output_type": "stream",
     "text": [
      "torch.Size([1000, 2, 14, 14]) torch.Size([1000]) torch.Size([1000, 2]) torch.Size([1000, 2, 14, 14]) torch.Size([1000]) torch.Size([1000, 2])\n"
     ]
    }
   ],
   "source": [
    "print(train_input.shape, train_target.shape, train_classes.shape, test_input.shape, test_target.shape, test_classes.shape)"
   ]
  },
  {
   "cell_type": "code",
   "execution_count": 50,
   "metadata": {},
   "outputs": [],
   "source": [
    "from torch.autograd import Variable\n",
    "from WSharingModel import *\n",
    "from torch import nn, optim\n",
    "from torch.nn import CrossEntropyLoss\n",
    "from torch.nn import BCEWithLogitsLoss"
   ]
  },
  {
   "cell_type": "markdown",
   "metadata": {},
   "source": [
    "#### Function that draws the evolution of the loss during training."
   ]
  },
  {
   "cell_type": "code",
   "execution_count": 64,
   "metadata": {},
   "outputs": [],
   "source": [
    "def visualize_loss(model,loss_model,lr):\n",
    "    plt.plot(loss_model[0],loss_model[1], color='orange')\n",
    "    plt.xlabel('Epochs')\n",
    "    plt.ylabel('Loss')\n",
    "    plt.title('Evolution of the loss during training with learning rate {:>5} of the model {:>5}.'.format(lr,model.__class__.__name__))\n",
    "    plt.show()"
   ]
  },
  {
   "cell_type": "markdown",
   "metadata": {},
   "source": [
    "#### Function that prints the results of the prediction one the model is trained."
   ]
  },
  {
   "cell_type": "code",
   "execution_count": 85,
   "metadata": {},
   "outputs": [],
   "source": [
    "def print_results(model,optimizer,learning_rate,NB_EPOCHS,MINI_BATCH_SIZE, train_input, train_target,test_input, test_target):\n",
    "     print('model: {:6}, optimizer: {:6}, learning rate: {:6}, num epochs: {:3}, '\n",
    "                    'mini batch size: {:3}, train error: {:5.2f}%, test error: {:5.2f}%'.format(\n",
    "                    model.__class__.__name__,\n",
    "                    optimizer.__name__,\n",
    "                    learning_rate,\n",
    "                    NB_EPOCHS,\n",
    "                    MINI_BATCH_SIZE,\n",
    "                    compute_nb_errors(model, train_input, train_target, MINI_BATCH_SIZE) / train_input.size(0) * 100,\n",
    "                    compute_nb_errors(model, test_input, test_target, MINI_BATCH_SIZE) / test_input.size(0) * 100\n",
    "                    )\n",
    "                )"
   ]
  },
  {
   "cell_type": "code",
   "execution_count": 53,
   "metadata": {},
   "outputs": [],
   "source": [
    "# normalize it\n",
    "mean, std = train_input.mean(), train_input.std() \n",
    "train_input.sub_(mean).div_(std)\n",
    "test_input.sub_(mean).div_(std)\n",
    "\n",
    "train_input, train_target, train_classes = Variable(train_input), Variable(train_target), Variable(train_classes)\n",
    "test_input, test_target = Variable(test_input), Variable(test_target)"
   ]
  },
  {
   "cell_type": "code",
   "execution_count": 80,
   "metadata": {},
   "outputs": [],
   "source": [
    "NB_EPOCHS = 50\n",
    "MINI_BATCH_SIZE = 100\n",
    "learning_rates = [0.1, 0.01]\n",
    "models = [WSModel(),WSModel1()] ## Weight Sharing model with main architecture."
   ]
  },
  {
   "cell_type": "code",
   "execution_count": 81,
   "metadata": {},
   "outputs": [],
   "source": [
    "op = torch.optim.SGD"
   ]
  },
  {
   "cell_type": "code",
   "execution_count": 82,
   "metadata": {},
   "outputs": [],
   "source": [
    "optimizer = op(model.parameters(),lr = learning_rates[0])"
   ]
  },
  {
   "cell_type": "code",
   "execution_count": 83,
   "metadata": {},
   "outputs": [],
   "source": [
    "losses = [CrossEntropyLoss(),BCEWithLogitsLoss()]"
   ]
  },
  {
   "cell_type": "markdown",
   "metadata": {},
   "source": [
    "#### Training of the WSModel and Results on Training and Testing set."
   ]
  },
  {
   "cell_type": "code",
   "execution_count": 84,
   "metadata": {},
   "outputs": [
    {
     "name": "stdout",
     "output_type": "stream",
     "text": [
      "Loss at   0 : 1.4503130912780762  \n",
      "Loss at   1 : 1.3649001121520996  \n",
      "Loss at   2 : 0.8515456318855286  \n",
      "Loss at   3 : 0.8982586860656738  \n",
      "Loss at   4 : 0.9027402997016907  \n",
      "Loss at   5 : 0.8521204590797424  \n",
      "Loss at   6 : 0.8425348401069641  \n",
      "Loss at   7 : 0.833523154258728  \n",
      "Loss at   8 : 0.7985590100288391  \n",
      "Loss at   9 : 0.642433226108551  \n",
      "Loss at  10 : 0.5415620803833008  \n",
      "Loss at  11 : 0.6354197859764099  \n",
      "Loss at  12 : 0.4558788239955902  \n",
      "Loss at  13 : 0.4515688419342041  \n",
      "Loss at  14 : 0.40451133251190186  \n",
      "Loss at  15 : 0.39111587405204773  \n",
      "Loss at  16 : 0.3473049998283386  \n",
      "Loss at  17 : 0.33056727051734924  \n",
      "Loss at  18 : 0.30584603548049927  \n",
      "Loss at  19 : 0.2799692451953888  \n",
      "Loss at  20 : 0.25303348898887634  \n",
      "Loss at  21 : 0.23446853458881378  \n",
      "Loss at  22 : 0.21057389676570892  \n",
      "Loss at  23 : 0.18702103197574615  \n",
      "Loss at  24 : 0.16925905644893646  \n",
      "Loss at  25 : 0.14625366032123566  \n",
      "Loss at  26 : 0.18255171179771423  \n",
      "Loss at  27 : 0.1350538581609726  \n",
      "Loss at  28 : 0.10072552412748337  \n",
      "Loss at  29 : 0.10890808701515198  \n",
      "Loss at  30 : 0.08877410739660263  \n",
      "Loss at  31 : 0.06542067974805832  \n",
      "Loss at  32 : 0.07546354085206985  \n",
      "Loss at  33 : 0.07029431313276291  \n",
      "Loss at  34 : 0.05257449671626091  \n",
      "Loss at  35 : 0.09092559665441513  \n",
      "Loss at  36 : 0.07583486288785934  \n",
      "Loss at  37 : 0.05655435472726822  \n",
      "Loss at  38 : 0.023114176467061043  \n",
      "Loss at  39 : 0.020166020840406418  \n",
      "Loss at  40 : 0.013571820221841335  \n",
      "Loss at  41 : 0.010924706235527992  \n",
      "Loss at  42 : 0.0090743163600564  \n",
      "Loss at  43 : 0.007980222813785076  \n",
      "Loss at  44 : 0.007008781656622887  \n",
      "Loss at  45 : 0.0062592220492661  \n",
      "Loss at  46 : 0.00565089238807559  \n",
      "Loss at  47 : 0.005124101415276527  \n",
      "Loss at  48 : 0.0046758269891142845  \n",
      "Loss at  49 : 0.004316472914069891  \n",
      "model:       WSModel, optimizer:        SGD, learning rate:    0.1, num epochs:  50, mini batch size: 100, train error:  0.00%, test error: 13.40%\n"
     ]
    },
    {
     "data": {
      "image/png": "[encoded data removed]",
      "text/plain": [
       "<Figure size 432x288 with 1 Axes>"
      ]
     },
     "metadata": {
      "needs_background": "light"
     },
     "output_type": "display_data"
    },
    {
     "name": "stdout",
     "output_type": "stream",
     "text": [
      "Loss at   0 : 1.1168984174728394  \n",
      "Loss at   1 : 0.7525196075439453  \n",
      "Loss at   2 : 0.71271812915802  \n",
      "Loss at   3 : 0.6974772810935974  \n",
      "Loss at   4 : 0.6875201463699341  \n",
      "Loss at   5 : 0.6790728569030762  \n",
      "Loss at   6 : 0.672258734703064  \n",
      "Loss at   7 : 0.666492760181427  \n",
      "Loss at   8 : 0.6639107465744019  \n",
      "Loss at   9 : 0.6612750887870789  \n",
      "Loss at  10 : 0.6573432087898254  \n",
      "Loss at  11 : 0.6506713032722473  \n",
      "Loss at  12 : 0.6421377658843994  \n",
      "Loss at  13 : 0.632201075553894  \n",
      "Loss at  14 : 0.6217300295829773  \n",
      "Loss at  15 : 0.6114012002944946  \n",
      "Loss at  16 : 0.6010339856147766  \n",
      "Loss at  17 : 0.5908440947532654  \n",
      "Loss at  18 : 0.5801240801811218  \n",
      "Loss at  19 : 0.5696746110916138  \n",
      "Loss at  20 : 0.5593605637550354  \n",
      "Loss at  21 : 0.549363911151886  \n",
      "Loss at  22 : 0.5396305322647095  \n",
      "Loss at  23 : 0.5305519700050354  \n",
      "Loss at  24 : 0.5216701030731201  \n",
      "Loss at  25 : 0.5134097933769226  \n",
      "Loss at  26 : 0.5056833028793335  \n",
      "Loss at  27 : 0.498221218585968  \n",
      "Loss at  28 : 0.49107879400253296  \n",
      "Loss at  29 : 0.48446372151374817  \n",
      "Loss at  30 : 0.47809162735939026  \n",
      "Loss at  31 : 0.4720151126384735  \n",
      "Loss at  32 : 0.46619710326194763  \n",
      "Loss at  33 : 0.46055594086647034  \n",
      "Loss at  34 : 0.45506542921066284  \n",
      "Loss at  35 : 0.4497480094432831  \n",
      "Loss at  36 : 0.4445345401763916  \n",
      "Loss at  37 : 0.43947693705558777  \n",
      "Loss at  38 : 0.43458205461502075  \n",
      "Loss at  39 : 0.4298117756843567  \n",
      "Loss at  40 : 0.4251481890678406  \n",
      "Loss at  41 : 0.4205324649810791  \n",
      "Loss at  42 : 0.41594967246055603  \n",
      "Loss at  43 : 0.41151949763298035  \n",
      "Loss at  44 : 0.4070596992969513  \n",
      "Loss at  45 : 0.4026835560798645  \n",
      "Loss at  46 : 0.398316890001297  \n",
      "Loss at  47 : 0.39403000473976135  \n",
      "Loss at  48 : 0.3897187411785126  \n",
      "Loss at  49 : 0.3855154812335968  \n",
      "model:       WSModel, optimizer:        SGD, learning rate:   0.01, num epochs:  50, mini batch size: 100, train error: 19.20%, test error: 20.20%\n"
     ]
    },
    {
     "data": {
      "image/png": "[encoded data removed]",
      "text/plain": [
       "<Figure size 432x288 with 1 Axes>"
      ]
     },
     "metadata": {
      "needs_background": "light"
     },
     "output_type": "display_data"
    },
    {
     "name": "stdout",
     "output_type": "stream",
     "text": [
      "Loss at   0 : 2.2612547874450684  \n",
      "Loss at   1 : 2.107112169265747  \n",
      "Loss at   2 : 1.9507734775543213  \n",
      "Loss at   3 : 1.7895129919052124  \n",
      "Loss at   4 : 1.6271107196807861  \n",
      "Loss at   5 : 1.4680938720703125  \n",
      "Loss at   6 : 1.3173377513885498  \n",
      "Loss at   7 : 1.1859283447265625  \n",
      "Loss at   8 : 1.0784271955490112  \n",
      "Loss at   9 : 0.9933074116706848  \n",
      "Loss at  10 : 0.9274842739105225  \n",
      "Loss at  11 : 0.8776654005050659  \n",
      "Loss at  12 : 0.8404647707939148  \n",
      "Loss at  13 : 0.8126304745674133  \n",
      "Loss at  14 : 0.7915626764297485  \n",
      "Loss at  15 : 0.7753748893737793  \n",
      "Loss at  16 : 0.7626307606697083  \n",
      "Loss at  17 : 0.7523958683013916  \n",
      "Loss at  18 : 0.7440037727355957  \n",
      "Loss at  19 : 0.7370008230209351  \n",
      "Loss at  20 : 0.731062650680542  \n",
      "Loss at  21 : 0.7259489297866821  \n",
      "Loss at  22 : 0.7215091586112976  \n",
      "Loss at  23 : 0.7175849676132202  \n",
      "Loss at  24 : 0.7140827178955078  \n",
      "Loss at  25 : 0.7108960747718811  \n",
      "Loss at  26 : 0.7079528570175171  \n",
      "Loss at  27 : 0.7052343487739563  \n",
      "Loss at  28 : 0.7027719020843506  \n",
      "Loss at  29 : 0.7005124092102051  \n",
      "Loss at  30 : 0.6984100341796875  \n",
      "Loss at  31 : 0.6964629292488098  \n",
      "Loss at  32 : 0.6946494579315186  \n",
      "Loss at  33 : 0.692939043045044  \n",
      "Loss at  34 : 0.6913084387779236  \n",
      "Loss at  35 : 0.6897580623626709  \n",
      "Loss at  36 : 0.6882590651512146  \n",
      "Loss at  37 : 0.6868217587471008  \n",
      "Loss at  38 : 0.6854539513587952  \n",
      "Loss at  39 : 0.6841194033622742  \n",
      "Loss at  40 : 0.6828349232673645  \n",
      "Loss at  41 : 0.6815796494483948  \n",
      "Loss at  42 : 0.6803582906723022  \n",
      "Loss at  43 : 0.6791561245918274  \n",
      "Loss at  44 : 0.6779778003692627  \n",
      "Loss at  45 : 0.6767694354057312  \n",
      "Loss at  46 : 0.675571084022522  \n",
      "Loss at  47 : 0.6744306087493896  \n",
      "Loss at  48 : 0.6733112335205078  \n",
      "Loss at  49 : 0.6721946001052856  \n",
      "model:       WSModel, optimizer:        SGD, learning rate:  0.001, num epochs:  50, mini batch size: 100, train error: 37.80%, test error: 37.20%\n"
     ]
    },
    {
     "data": {
      "image/png": "[encoded data removed]",
      "text/plain": [
       "<Figure size 432x288 with 1 Axes>"
      ]
     },
     "metadata": {
      "needs_background": "light"
     },
     "output_type": "display_data"
    },
    {
     "name": "stdout",
     "output_type": "stream",
     "text": [
      "Loss at   0 : 0.6840568780899048  \n",
      "Loss at   1 : 0.6556301712989807  \n",
      "Loss at   2 : 0.6146690249443054  \n",
      "Loss at   3 : 0.5187113285064697  \n",
      "Loss at   4 : 0.45332837104797363  \n",
      "Loss at   5 : 0.44279247522354126  \n",
      "Loss at   6 : 0.39640235900878906  \n",
      "Loss at   7 : 0.36747050285339355  \n",
      "Loss at   8 : 0.3426870107650757  \n",
      "Loss at   9 : 0.31561875343322754  \n",
      "Loss at  10 : 0.2909930348396301  \n",
      "Loss at  11 : 0.26062148809432983  \n",
      "Loss at  12 : 0.23468321561813354  \n",
      "Loss at  13 : 0.2074463814496994  \n",
      "Loss at  14 : 0.18283385038375854  \n",
      "Loss at  15 : 0.24421176314353943  \n",
      "Loss at  16 : 0.18556994199752808  \n",
      "Loss at  17 : 0.1437249630689621  \n",
      "Loss at  18 : 0.1344972550868988  \n",
      "Loss at  19 : 0.16849374771118164  \n",
      "Loss at  20 : 0.10219716280698776  \n",
      "Loss at  21 : 0.11019504815340042  \n",
      "Loss at  22 : 0.10636652261018753  \n",
      "Loss at  23 : 0.09226144850254059  \n",
      "Loss at  24 : 0.07268428057432175  \n",
      "Loss at  25 : 0.037711258977651596  \n",
      "Loss at  26 : 0.03131801262497902  \n",
      "Loss at  27 : 0.022281572222709656  \n",
      "Loss at  28 : 0.018259484320878983  \n",
      "Loss at  29 : 0.015542698092758656  \n",
      "Loss at  30 : 0.013107073493301868  \n",
      "Loss at  31 : 0.01140084583312273  \n",
      "Loss at  32 : 0.009995183907449245  \n",
      "Loss at  33 : 0.00891863089054823  \n",
      "Loss at  34 : 0.00800387654453516  \n",
      "Loss at  35 : 0.007190439850091934  \n",
      "Loss at  36 : 0.006480161100625992  \n",
      "Loss at  37 : 0.005928893107920885  \n",
      "Loss at  38 : 0.005445786751806736  \n",
      "Loss at  39 : 0.0050066434778273106  \n",
      "Loss at  40 : 0.004644130356609821  \n",
      "Loss at  41 : 0.004315018653869629  \n",
      "Loss at  42 : 0.004043909255415201  \n",
      "Loss at  43 : 0.003780868137255311  \n",
      "Loss at  44 : 0.0035537946969270706  \n",
      "Loss at  45 : 0.0033499491401016712  \n",
      "Loss at  46 : 0.003161368425935507  \n",
      "Loss at  47 : 0.0029998254030942917  \n",
      "Loss at  48 : 0.002840363886207342  \n",
      "Loss at  49 : 0.002702233847230673  \n",
      "model:      WSModel1, optimizer:        SGD, learning rate:    0.1, num epochs:  50, mini batch size: 100, train error:  0.00%, test error: 14.40%\n"
     ]
    },
    {
     "data": {
      "image/png": "[encoded data removed]",
      "text/plain": [
       "<Figure size 432x288 with 1 Axes>"
      ]
     },
     "metadata": {
      "needs_background": "light"
     },
     "output_type": "display_data"
    },
    {
     "name": "stdout",
     "output_type": "stream",
     "text": [
      "Loss at   0 : 0.687981128692627  \n",
      "Loss at   1 : 0.6799423694610596  \n",
      "Loss at   2 : 0.6735713481903076  \n",
      "Loss at   3 : 0.6671436429023743  \n",
      "Loss at   4 : 0.6611428260803223  \n",
      "Loss at   5 : 0.6544535756111145  \n",
      "Loss at   6 : 0.6470929980278015  \n",
      "Loss at   7 : 0.6392145752906799  \n",
      "Loss at   8 : 0.630715548992157  \n",
      "Loss at   9 : 0.6212506890296936  \n",
      "Loss at  10 : 0.6109781265258789  \n",
      "Loss at  11 : 0.6003397703170776  \n",
      "Loss at  12 : 0.5892383456230164  \n",
      "Loss at  13 : 0.5777766704559326  \n",
      "Loss at  14 : 0.5660536289215088  \n",
      "Loss at  15 : 0.5541815757751465  \n",
      "Loss at  16 : 0.5423587560653687  \n",
      "Loss at  17 : 0.5307401418685913  \n",
      "Loss at  18 : 0.5194678902626038  \n",
      "Loss at  19 : 0.5086349248886108  \n",
      "Loss at  20 : 0.49832430481910706  \n",
      "Loss at  21 : 0.48861733078956604  \n",
      "Loss at  22 : 0.4794454872608185  \n",
      "Loss at  23 : 0.47078749537467957  \n",
      "Loss at  24 : 0.46266213059425354  \n",
      "Loss at  25 : 0.45508795976638794  \n",
      "Loss at  26 : 0.44791802763938904  \n",
      "Loss at  27 : 0.44105255603790283  \n",
      "Loss at  28 : 0.43448594212532043  \n",
      "Loss at  29 : 0.4281226694583893  \n",
      "Loss at  30 : 0.42200809717178345  \n",
      "Loss at  31 : 0.41611137986183167  \n",
      "Loss at  32 : 0.4104198217391968  \n",
      "Loss at  33 : 0.404867559671402  \n",
      "Loss at  34 : 0.3994230628013611  \n",
      "Loss at  35 : 0.3941497504711151  \n",
      "Loss at  36 : 0.38894444704055786  \n",
      "Loss at  37 : 0.38379019498825073  \n",
      "Loss at  38 : 0.3787468671798706  \n",
      "Loss at  39 : 0.3738034963607788  \n",
      "Loss at  40 : 0.36900466680526733  \n",
      "Loss at  41 : 0.36426472663879395  \n",
      "Loss at  42 : 0.3595413565635681  \n",
      "Loss at  43 : 0.35481810569763184  \n",
      "Loss at  44 : 0.3501359820365906  \n",
      "Loss at  45 : 0.34549903869628906  \n",
      "Loss at  46 : 0.34083008766174316  \n",
      "Loss at  47 : 0.3361879587173462  \n",
      "Loss at  48 : 0.3315904140472412  \n",
      "Loss at  49 : 0.32706719636917114  \n",
      "model:      WSModel1, optimizer:        SGD, learning rate:   0.01, num epochs:  50, mini batch size: 100, train error: 14.40%, test error: 17.10%\n"
     ]
    },
    {
     "data": {
      "image/png": "[encoded data removed]",
      "text/plain": [
       "<Figure size 432x288 with 1 Axes>"
      ]
     },
     "metadata": {
      "needs_background": "light"
     },
     "output_type": "display_data"
    },
    {
     "name": "stdout",
     "output_type": "stream",
     "text": [
      "Loss at   0 : 0.6920891404151917  \n",
      "Loss at   1 : 0.691874086856842  \n",
      "Loss at   2 : 0.6917136907577515  \n",
      "Loss at   3 : 0.691508412361145  \n",
      "Loss at   4 : 0.6913018822669983  \n",
      "Loss at   5 : 0.6911071538925171  \n",
      "Loss at   6 : 0.6908904314041138  \n",
      "Loss at   7 : 0.6906723976135254  \n",
      "Loss at   8 : 0.6904453039169312  \n",
      "Loss at   9 : 0.6902166604995728  \n",
      "Loss at  10 : 0.6899752616882324  \n",
      "Loss at  11 : 0.68970787525177  \n",
      "Loss at  12 : 0.6894120573997498  \n",
      "Loss at  13 : 0.6891146898269653  \n",
      "Loss at  14 : 0.6888101100921631  \n",
      "Loss at  15 : 0.6884899139404297  \n",
      "Loss at  16 : 0.6881622076034546  \n",
      "Loss at  17 : 0.6878094673156738  \n",
      "Loss at  18 : 0.6874570250511169  \n",
      "Loss at  19 : 0.6870743632316589  \n",
      "Loss at  20 : 0.6866759657859802  \n",
      "Loss at  21 : 0.6862579584121704  \n",
      "Loss at  22 : 0.6858667135238647  \n",
      "Loss at  23 : 0.6854825019836426  \n",
      "Loss at  24 : 0.6850976347923279  \n",
      "Loss at  25 : 0.6847012042999268  \n",
      "Loss at  26 : 0.6842901706695557  \n",
      "Loss at  27 : 0.6838645935058594  \n",
      "Loss at  28 : 0.6834335327148438  \n",
      "Loss at  29 : 0.6830146312713623  \n",
      "Loss at  30 : 0.6825917959213257  \n",
      "Loss at  31 : 0.6821627020835876  \n",
      "Loss at  32 : 0.6817344427108765  \n",
      "Loss at  33 : 0.6812978386878967  \n",
      "Loss at  34 : 0.6808476448059082  \n",
      "Loss at  35 : 0.6803930401802063  \n",
      "Loss at  36 : 0.6799548864364624  \n",
      "Loss at  37 : 0.6795055866241455  \n",
      "Loss at  38 : 0.6790562272071838  \n",
      "Loss at  39 : 0.6786120533943176  \n",
      "Loss at  40 : 0.6781732439994812  \n",
      "Loss at  41 : 0.677735447883606  \n",
      "Loss at  42 : 0.6772986650466919  \n",
      "Loss at  43 : 0.6768608689308167  \n",
      "Loss at  44 : 0.6764296889305115  \n",
      "Loss at  45 : 0.6759973764419556  \n",
      "Loss at  46 : 0.6755613684654236  \n",
      "Loss at  47 : 0.6751232743263245  \n",
      "Loss at  48 : 0.6746784448623657  \n",
      "Loss at  49 : 0.6742239594459534  \n",
      "model:      WSModel1, optimizer:        SGD, learning rate:  0.001, num epochs:  50, mini batch size: 100, train error: 43.60%, test error: 42.00%\n"
     ]
    },
    {
     "data": {
      "image/png": "[encoded data removed]",
      "text/plain": [
       "<Figure size 432x288 with 1 Axes>"
      ]
     },
     "metadata": {
      "needs_background": "light"
     },
     "output_type": "display_data"
    }
   ],
   "source": [
    "for j in range(len(models)):\n",
    "\n",
    "    for i in range(len(learning_rates)):\n",
    "        models = [WSModel(),WSModel1()]\n",
    "        model = models[j]\n",
    "        optimizer = op(model.parameters(),lr = learning_rates[i])\n",
    "        loss_aux = train_model_WS(model, optimizer,  train_input, train_target, NB_EPOCHS, MINI_BATCH_SIZE,losses[0])\n",
    "        print_results(model,op,learning_rates[i],NB_EPOCHS,MINI_BATCH_SIZE, train_input, train_target,test_input, test_target)\n",
    "        visualize_loss(model,loss_aux,learning_rates[i])"
   ]
  },
  {
   "cell_type": "code",
   "execution_count": 19,
   "metadata": {},
   "outputs": [
    {
     "data": {
      "image/png": "[encoded data removed]",
      "text/plain": [
       "<Figure size 432x288 with 1 Axes>"
      ]
     },
     "metadata": {
      "needs_background": "light"
     },
     "output_type": "display_data"
    }
   ],
   "source": [
    "visualize_loss(model,loss_aux)"
   ]
  },
  {
   "cell_type": "markdown",
   "metadata": {},
   "source": [
    "### Auxiliary Loss Model (Youssef)"
   ]
  },
  {
   "cell_type": "code",
   "execution_count": 20,
   "metadata": {},
   "outputs": [],
   "source": [
    "import torch\n",
    "from torchvision import datasets\n",
    "from torch import optim\n",
    "import dlc_practical_prologue as prologue\n",
    "from AuxModel import *\n",
    "from torch.autograd import Variable\n",
    "from torch.nn import functional as F"
   ]
  },
  {
   "cell_type": "code",
   "execution_count": 27,
   "metadata": {},
   "outputs": [],
   "source": [
    "model = AuxModel() ## Auxiliaryloss model with main architecture."
   ]
  },
  {
   "cell_type": "code",
   "execution_count": 22,
   "metadata": {},
   "outputs": [],
   "source": [
    "optimizer = torch.optim.SGD(model.parameters(),lr = learning_rates[0])"
   ]
  },
  {
   "cell_type": "markdown",
   "metadata": {},
   "source": [
    "#### Training of the AuxModel."
   ]
  },
  {
   "cell_type": "code",
   "execution_count": 23,
   "metadata": {},
   "outputs": [
    {
     "name": "stdout",
     "output_type": "stream",
     "text": [
      "Loss at   0 : 5.261308193206787  \n",
      "Loss at   1 : 5.16166877746582  \n",
      "Loss at   2 : 5.137136459350586  \n",
      "Loss at   3 : 4.6822357177734375  \n",
      "Loss at   4 : 4.441250801086426  \n",
      "Loss at   5 : 4.446071624755859  \n",
      "Loss at   6 : 3.907452344894409  \n",
      "Loss at   7 : 4.025806427001953  \n",
      "Loss at   8 : 3.222829818725586  \n",
      "Loss at   9 : 2.569108486175537  \n",
      "Loss at  10 : 2.358966827392578  \n",
      "Loss at  11 : 1.9259467124938965  \n",
      "Loss at  12 : 1.7242460250854492  \n",
      "Loss at  13 : 1.6312466859817505  \n",
      "Loss at  14 : 1.897026777267456  \n",
      "Loss at  15 : 1.2340689897537231  \n",
      "Loss at  16 : 1.9339656829833984  \n",
      "Loss at  17 : 1.4165364503860474  \n",
      "Loss at  18 : 1.3629921674728394  \n",
      "Loss at  19 : 1.3215510845184326  \n",
      "Loss at  20 : 1.282139778137207  \n",
      "Loss at  21 : 1.242224097251892  \n",
      "Loss at  22 : 1.2212860584259033  \n",
      "Loss at  23 : 1.1891661882400513  \n",
      "Loss at  24 : 1.0359306335449219  \n"
     ]
    }
   ],
   "source": [
    "loss_aux = train_model_AM(model, optimizer,  train_input, train_target, train_classes,NB_EPOCHS,MINI_BATCH_SIZE)"
   ]
  },
  {
   "cell_type": "markdown",
   "metadata": {},
   "source": [
    "#### Results on Training and Testing set."
   ]
  },
  {
   "cell_type": "code",
   "execution_count": 24,
   "metadata": {},
   "outputs": [
    {
     "name": "stdout",
     "output_type": "stream",
     "text": [
      "model:      AuxModel, optimizer:        SGD, learning rate:    0.1, num epochs:  25, mini batch size: 100, train error:  5.30%, test error:  9.10%\n"
     ]
    }
   ],
   "source": [
    "print_results(model,op,learning_rates[0],NB_EPOCHS,MINI_BATCH_SIZE, train_input, train_target,test_input, test_target)"
   ]
  },
  {
   "cell_type": "code",
   "execution_count": 25,
   "metadata": {},
   "outputs": [
    {
     "data": {
      "image/png": "[encoded data removed]",
      "text/plain": [
       "<Figure size 432x288 with 1 Axes>"
      ]
     },
     "metadata": {
      "needs_background": "light"
     },
     "output_type": "display_data"
    }
   ],
   "source": [
    "visualize_loss(model,loss_aux)"
   ]
  },
  {
   "cell_type": "code",
   "execution_count": 26,
   "metadata": {},
   "outputs": [
    {
     "data": {
      "text/plain": [
       "91"
      ]
     },
     "execution_count": 26,
     "metadata": {},
     "output_type": "execute_result"
    }
   ],
   "source": [
    "compute_nb_errors(model, test_input, test_target, mini_batch_size)"
   ]
  },
  {
   "cell_type": "code",
   "execution_count": null,
   "metadata": {},
   "outputs": [],
   "source": []
  }
 ],
 "metadata": {
  "kernelspec": {
   "display_name": "Python 3",
   "language": "python",
   "name": "python3"
  },
  "language_info": {
   "codemirror_mode": {
    "name": "ipython",
    "version": 3
   },
   "file_extension": ".py",
   "mimetype": "text/x-python",
   "name": "python",
   "nbconvert_exporter": "python",
   "pygments_lexer": "ipython3",
   "version": "3.7.2"
  }
 },
 "nbformat": 4,
 "nbformat_minor": 2
}
