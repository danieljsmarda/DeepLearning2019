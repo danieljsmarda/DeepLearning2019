{
 "cells": [
  {
   "cell_type": "code",
   "execution_count": 1,
   "metadata": {},
   "outputs": [],
   "source": [
    "from torchvision import datasets\n",
    "import torch\n",
    "import dlc_practical_prologue as prologue\n",
    "\n",
    "# Import all models\n",
    "from BaseNet import *\n",
    "from ConvNet1 import *\n",
    "\n",
    "mini_batch_size = 1000\n",
    "nb_epochs = 300\n",
    "nb_runs = 10\n",
    "eta = 0.001\n",
    "\n",
    "train_input, train_target, train_classes, test_input, test_target, test_classes = \\\n",
    "    prologue.generate_pair_sets(nb=1000)"
   ]
  },
  {
   "cell_type": "code",
   "execution_count": 2,
   "metadata": {},
   "outputs": [
    {
     "name": "stdout",
     "output_type": "stream",
     "text": [
      "Working with 1channel2images framework, nb_classes =  10\n",
      "phase: train, epoch: 100, loss: 1.44493, acc: 0.7915\n",
      "phase: val, epoch: 100, loss: 1.42741, acc: 0.7945\n",
      "phase: train, epoch: 200, loss: 0.27240, acc: 0.9605\n",
      "phase: val, epoch: 200, loss: 0.26991, acc: 0.9610\n",
      "phase: train, epoch: 300, loss: 0.09784, acc: 0.9925\n",
      "phase: val, epoch: 300, loss: 0.09711, acc: 0.9925\n",
      "Training complete in 2 min 41 s\n",
      "Best val acc: 0.9925\n",
      "phase: train, epoch: 100, loss: 1.36705, acc: 0.8015\n",
      "phase: val, epoch: 100, loss: 1.35128, acc: 0.8050\n",
      "phase: train, epoch: 200, loss: 0.24406, acc: 0.9655\n",
      "phase: val, epoch: 200, loss: 0.24171, acc: 0.9655\n",
      "phase: train, epoch: 300, loss: 0.08303, acc: 0.9935\n",
      "phase: val, epoch: 300, loss: 0.08235, acc: 0.9945\n",
      "Training complete in 2 min 55 s\n",
      "Best val acc: 0.9945\n"
     ]
    }
   ],
   "source": [
    "from importlib import reload\n",
    "import _1channel2images\n",
    "reload(_1channel2images)\n",
    "from _1channel2images import *\n",
    "\n",
    "print(\"Working with 1channel2images framework, nb_classes = \", nb_classes)\n",
    "\n",
    "#model = BaseNet1C(nb_classes)\n",
    "model_1C = ConvNet1_1C(nb_classes)\n",
    "optimizer_1C = torch.optim.SGD(model_1C.parameters(), lr=eta, momentum=0.95)\n",
    "test_results_1C = multiple_training_runs(model_1C, 2, optimizer_1C, train_input, train_classes,\n",
    "                                      test_input, test_target, test_classes, mini_batch_size, nb_epochs)\n",
    "write_to_csv('1channel2images.csv', model_1C, test_results_1C)"
   ]
  },
  {
   "cell_type": "code",
   "execution_count": 22,
   "metadata": {},
   "outputs": [
    {
     "name": "stdout",
     "output_type": "stream",
     "text": [
      "(167.95791387557983, 10.196516590709884, 0.8707499999999999, 0.0017677669529664096, 0.912, 0.004242640687119289)\n",
      "Overwriting file\n"
     ]
    },
    {
     "data": {
      "text/html": [
       "<div>\n",
       "<style scoped>\n",
       "    .dataframe tbody tr th:only-of-type {\n",
       "        vertical-align: middle;\n",
       "    }\n",
       "\n",
       "    .dataframe tbody tr th {\n",
       "        vertical-align: top;\n",
       "    }\n",
       "\n",
       "    .dataframe thead th {\n",
       "        text-align: right;\n",
       "    }\n",
       "</style>\n",
       "<table border=\"1\" class=\"dataframe\">\n",
       "  <thead>\n",
       "    <tr style=\"text-align: right;\">\n",
       "      <th></th>\n",
       "      <th>Model</th>\n",
       "      <th>Number of parameters</th>\n",
       "      <th>Training time</th>\n",
       "      <th>Mean digits accuracy (test set)</th>\n",
       "      <th>Std digits accuracy</th>\n",
       "      <th>Mean accuracy (test set)</th>\n",
       "      <th>Std accuracy</th>\n",
       "    </tr>\n",
       "  </thead>\n",
       "  <tbody>\n",
       "    <tr>\n",
       "      <th>0</th>\n",
       "      <td>ConvNet1_1C</td>\n",
       "      <td>72226</td>\n",
       "      <td>167.96</td>\n",
       "      <td>0.8707</td>\n",
       "      <td>0.0018</td>\n",
       "      <td>0.912</td>\n",
       "      <td>0.0042</td>\n",
       "    </tr>\n",
       "  </tbody>\n",
       "</table>\n",
       "</div>"
      ],
      "text/plain": [
       "         Model  Number of parameters  Training time  \\\n",
       "0  ConvNet1_1C                 72226         167.96   \n",
       "\n",
       "   Mean digits accuracy (test set)  Std digits accuracy  \\\n",
       "0                           0.8707               0.0018   \n",
       "\n",
       "   Mean accuracy (test set)  Std accuracy  \n",
       "0                     0.912        0.0042  "
      ]
     },
     "execution_count": 22,
     "metadata": {},
     "output_type": "execute_result"
    }
   ],
   "source": [
    "# This is just for visualization of our results but it will have to be taken away for the report \n",
    "# since we can't use any additional libraries\n",
    "import pandas as pd\n",
    "from importlib import reload\n",
    "import _1channel2images\n",
    "reload(_1channel2images)\n",
    "from _1channel2images import *\n",
    "\n",
    "print(test_results_1C)\n",
    "write_to_csv('1channel2images.csv', model_1C, test_results_1C)\n",
    "data = pd.read_csv('1channel2images.csv')\n",
    "data.head()"
   ]
  },
  {
   "cell_type": "code",
   "execution_count": 18,
   "metadata": {},
   "outputs": [
    {
     "name": "stdout",
     "output_type": "stream",
     "text": [
      "Working with 2channels1image framework, nb_classes =  1\n",
      "phase: train, epoch: 100, loss: 0.58698, acc: 0.7050\n",
      "phase: val, epoch: 100, loss: 0.58476, acc: 0.7040\n",
      "phase: train, epoch: 200, loss: 0.47589, acc: 0.7760\n",
      "phase: val, epoch: 200, loss: 0.47522, acc: 0.7770\n",
      "phase: train, epoch: 300, loss: 0.42211, acc: 0.8090\n",
      "phase: val, epoch: 300, loss: 0.42168, acc: 0.8100\n",
      "Training complete in 1 min 25 s\n",
      "Best val acc: 0.8100\n",
      "phase: train, epoch: 100, loss: 0.57607, acc: 0.7090\n",
      "phase: val, epoch: 100, loss: 0.57400, acc: 0.7100\n",
      "phase: train, epoch: 200, loss: 0.46708, acc: 0.7820\n",
      "phase: val, epoch: 200, loss: 0.46642, acc: 0.7830\n",
      "phase: train, epoch: 300, loss: 0.41449, acc: 0.8140\n",
      "phase: val, epoch: 300, loss: 0.41408, acc: 0.8140\n",
      "Training complete in 1 min 30 s\n",
      "Best val acc: 0.8140\n"
     ]
    }
   ],
   "source": [
    "from importlib import reload\n",
    "import _2channels1image\n",
    "reload(_2channels1image)\n",
    "from _2channels1image import *\n",
    "\n",
    "print(\"Working with 2channels1image framework, nb_classes = \", nb_classes)\n",
    "\n",
    "model_2C = ConvNet1_2C(nb_classes)\n",
    "optimizer_2C = torch.optim.SGD(model_2C.parameters(), lr=0.00001, momentum=0.95)  \n",
    "test_results_2C = multiple_training_runs(model_2C, 2, optimizer_2C, train_input, train_target,\n",
    "                           test_input, test_target, test_classes, mini_batch_size, nb_epochs)\n",
    "write_to_csv('2channels1image.csv', model_2C, test_results_2C)"
   ]
  },
  {
   "cell_type": "code",
   "execution_count": 19,
   "metadata": {},
   "outputs": [
    {
     "name": "stdout",
     "output_type": "stream",
     "text": [
      "(87.70039665699005, 3.5620656842451335, 0.7755000000000001, 0.0035355339059327407)\n"
     ]
    },
    {
     "data": {
      "text/html": [
       "<div>\n",
       "<style scoped>\n",
       "    .dataframe tbody tr th:only-of-type {\n",
       "        vertical-align: middle;\n",
       "    }\n",
       "\n",
       "    .dataframe tbody tr th {\n",
       "        vertical-align: top;\n",
       "    }\n",
       "\n",
       "    .dataframe thead th {\n",
       "        text-align: right;\n",
       "    }\n",
       "</style>\n",
       "<table border=\"1\" class=\"dataframe\">\n",
       "  <thead>\n",
       "    <tr style=\"text-align: right;\">\n",
       "      <th></th>\n",
       "      <th>Model</th>\n",
       "      <th>Number of parameters</th>\n",
       "      <th>Training time</th>\n",
       "      <th>Mean accuracy (test set)</th>\n",
       "      <th>Std accuracy</th>\n",
       "    </tr>\n",
       "  </thead>\n",
       "  <tbody>\n",
       "    <tr>\n",
       "      <th>0</th>\n",
       "      <td>ConvNet1_2C</td>\n",
       "      <td>70705</td>\n",
       "      <td>87.7</td>\n",
       "      <td>0.7755</td>\n",
       "      <td>0.0035</td>\n",
       "    </tr>\n",
       "  </tbody>\n",
       "</table>\n",
       "</div>"
      ],
      "text/plain": [
       "         Model  Number of parameters  Training time  Mean accuracy (test set)  \\\n",
       "0  ConvNet1_2C                 70705           87.7                    0.7755   \n",
       "\n",
       "   Std accuracy  \n",
       "0        0.0035  "
      ]
     },
     "execution_count": 19,
     "metadata": {},
     "output_type": "execute_result"
    }
   ],
   "source": [
    "print(test_results_2C)\n",
    "data = pd.read_csv('2channels1image.csv')\n",
    "data.head()"
   ]
  },
  {
   "cell_type": "code",
   "execution_count": null,
   "metadata": {},
   "outputs": [],
   "source": []
  }
 ],
 "metadata": {
  "kernelspec": {
   "display_name": "Python 3",
   "language": "python",
   "name": "python3"
  },
  "language_info": {
   "codemirror_mode": {
    "name": "ipython",
    "version": 3
   },
   "file_extension": ".py",
   "mimetype": "text/x-python",
   "name": "python",
   "nbconvert_exporter": "python",
   "pygments_lexer": "ipython3",
   "version": "3.7.1"
  }
 },
 "nbformat": 4,
 "nbformat_minor": 2
}
