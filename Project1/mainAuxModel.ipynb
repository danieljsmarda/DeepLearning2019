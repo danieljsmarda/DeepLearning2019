{
 "cells": [
  {
   "cell_type": "code",
   "execution_count": 1,
   "metadata": {},
   "outputs": [],
   "source": [
    "import torch\n",
    "from torchvision import datasets\n",
    "from torch import optim\n",
    "import dlc_practical_prologue as prologue\n",
    "from AuxModel import *\n",
    "from torch.autograd import Variable\n",
    "from torch.nn import functional as F"
   ]
  },
  {
   "cell_type": "code",
   "execution_count": 2,
   "metadata": {},
   "outputs": [
    {
     "name": "stderr",
     "output_type": "stream",
     "text": [
      "/Users/youssef/env/lib/python3.7/site-packages/torchvision/datasets/mnist.py:53: UserWarning: train_data has been renamed data\n",
      "  warnings.warn(\"train_data has been renamed data\")\n",
      "/Users/youssef/env/lib/python3.7/site-packages/torchvision/datasets/mnist.py:43: UserWarning: train_labels has been renamed targets\n",
      "  warnings.warn(\"train_labels has been renamed targets\")\n",
      "/Users/youssef/env/lib/python3.7/site-packages/torchvision/datasets/mnist.py:58: UserWarning: test_data has been renamed data\n",
      "  warnings.warn(\"test_data has been renamed data\")\n",
      "/Users/youssef/env/lib/python3.7/site-packages/torchvision/datasets/mnist.py:48: UserWarning: test_labels has been renamed targets\n",
      "  warnings.warn(\"test_labels has been renamed targets\")\n"
     ]
    }
   ],
   "source": [
    "train_input, train_target, train_classes, test_input, test_target, test_classes = \\\n",
    "    prologue.generate_pair_sets(nb=1000)"
   ]
  },
  {
   "cell_type": "code",
   "execution_count": 3,
   "metadata": {},
   "outputs": [],
   "source": [
    "mean, std = train_input.mean(), train_input.std() \n",
    "train_input.sub_(mean).div_(std)\n",
    "test_input.sub_(mean).div_(std)\n",
    "train_input, train_target, train_classes = Variable(train_input), Variable(train_target), Variable(train_classes)\n",
    "test_input, test_target = Variable(test_input), Variable(test_target)"
   ]
  },
  {
   "cell_type": "code",
   "execution_count": 4,
   "metadata": {},
   "outputs": [],
   "source": [
    "NB_EPOCHS = 25\n",
    "MINI_BATCH_SIZE = 100\n",
    "model = AuxModel()\n",
    "learning_rates = [1e-1, 1e-2, 1e-3]"
   ]
  },
  {
   "cell_type": "code",
   "execution_count": 5,
   "metadata": {},
   "outputs": [],
   "source": [
    "optimizer = torch.optim.SGD(model.parameters(),lr = 0.1)"
   ]
  },
  {
   "cell_type": "code",
   "execution_count": 6,
   "metadata": {},
   "outputs": [
    {
     "name": "stdout",
     "output_type": "stream",
     "text": [
      "Loss at   0 : 2.9486212730407715  \n",
      "Loss at   1 : 2.8287267684936523  \n",
      "Loss at   2 : 2.906916856765747  \n",
      "Loss at   3 : 1.6026238203048706  \n",
      "Loss at   4 : 1.2888243198394775  \n",
      "Loss at   5 : 0.7045002579689026  \n",
      "Loss at   6 : 0.7751576900482178  \n",
      "Loss at   7 : 0.5998222827911377  \n",
      "Loss at   8 : 1.2749247550964355  \n",
      "Loss at   9 : 0.4945288896560669  \n",
      "Loss at  10 : 0.38321346044540405  \n",
      "Loss at  11 : 0.25394272804260254  \n",
      "Loss at  12 : 0.3482816219329834  \n",
      "Loss at  13 : 0.4718886911869049  \n",
      "Loss at  14 : 0.20791023969650269  \n",
      "Loss at  15 : 0.1898011863231659  \n",
      "Loss at  16 : 0.18966200947761536  \n",
      "Loss at  17 : 0.1238277480006218  \n",
      "Loss at  18 : 0.06408435851335526  \n",
      "Loss at  19 : 0.03523457050323486  \n",
      "Loss at  20 : 0.028627611696720123  \n",
      "Loss at  21 : 0.02272075228393078  \n",
      "Loss at  22 : 0.01784450188279152  \n",
      "Loss at  23 : 0.014635520055890083  \n",
      "Loss at  24 : 0.011992376297712326  \n"
     ]
    }
   ],
   "source": [
    "train_model(model, optimizer,  train_input, train_target, train_classes)"
   ]
  },
  {
   "cell_type": "code",
   "execution_count": 7,
   "metadata": {},
   "outputs": [
    {
     "data": {
      "text/plain": [
       "91.6"
      ]
     },
     "execution_count": 7,
     "metadata": {},
     "output_type": "execute_result"
    }
   ],
   "source": [
    "print(\"Accuracy for this model :\",100 - (compute_nb_errors(model, test_input, test_target, MINI_BATCH_SIZE)/ test_input.size(0) * 100))"
   ]
  },
  {
   "cell_type": "code",
   "execution_count": null,
   "metadata": {},
   "outputs": [],
   "source": []
  }
 ],
 "metadata": {
  "kernelspec": {
   "display_name": "semesterproject",
   "language": "python",
   "name": "semesterproject"
  },
  "language_info": {
   "codemirror_mode": {
    "name": "ipython",
    "version": 3
   },
   "file_extension": ".py",
   "mimetype": "text/x-python",
   "name": "python",
   "nbconvert_exporter": "python",
   "pygments_lexer": "ipython3",
   "version": "3.7.2"
  }
 },
 "nbformat": 4,
 "nbformat_minor": 2
}
