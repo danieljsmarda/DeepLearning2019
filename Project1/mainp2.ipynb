{
 "cells": [
  {
   "cell_type": "code",
   "execution_count": 27,
   "metadata": {},
   "outputs": [],
   "source": [
    "from torch.autograd import Variable\n",
    "from WSharingModel import *\n",
    "from torch import nn, optim\n",
    "from torch.nn import CrossEntropyLoss\n",
    "from torch.nn import BCEWithLogitsLoss\n",
    "import torch\n",
    "from torchvision import datasets\n",
    "from torch import optim\n",
    "import dlc_practical_prologue as prologue\n",
    "from AuxModel import *\n",
    "from torch.autograd import Variable\n",
    "from torch.nn import functional as F\n",
    "from time import time\n",
    "from SimpleCNN import *\n",
    "from P2 import *\n",
    "import math"
   ]
  },
  {
   "cell_type": "code",
   "execution_count": 28,
   "metadata": {},
   "outputs": [],
   "source": [
    "def visualize_loss(model,loss_model,lr):\n",
    "    plt.plot(loss_model[0],loss_model[1], color='orange')\n",
    "    plt.xlabel('Epochs')\n",
    "    plt.ylabel('Loss')\n",
    "    plt.title('Evolution of the loss during training with learning rate {:>5} of the model {:>5}.'.format(lr,model.__class__.__name__))\n",
    "    plt.show()"
   ]
  },
  {
   "cell_type": "code",
   "execution_count": 29,
   "metadata": {},
   "outputs": [],
   "source": [
    "def print_results(model,optimizer,learning_rate,NB_EPOCHS,MINI_BATCH_SIZE, train_input, train_target,test_input, test_target, time_diff):\n",
    "     print('model: {:6}, optimizer: {:6}, learning rate: {:6}, num epochs: {:3}, '\n",
    "                    'mini batch size: {:3}, train error: {:5.2f}%, test error: {:5.2f}%, time: {:.3f}'.format(\n",
    "                    model.__class__.__name__,\n",
    "                    optimizer.__name__,\n",
    "                    learning_rate,\n",
    "                    NB_EPOCHS,\n",
    "                    MINI_BATCH_SIZE,\n",
    "                    model.compute_nb_errors(model, train_input, train_target, MINI_BATCH_SIZE) / train_input.size(0) * 100,\n",
    "                    model.compute_nb_errors(model, test_input, test_target, MINI_BATCH_SIZE) / test_input.size(0) * 100,\n",
    "                    time_diff\n",
    "                    )\n",
    "                )"
   ]
  },
  {
   "cell_type": "code",
   "execution_count": 30,
   "metadata": {},
   "outputs": [],
   "source": [
    "def generate_disc_data(n=1000):\n",
    "    inputs = torch.rand(1000,2)\n",
    "    distance = torch.norm((inputs - torch.Tensor([[0.5, 0.5]])), 2, 1, True)\n",
    "    targets = distance.mul(math.sqrt(2*math.pi)).sub(1).sign().add(1).div(2).long()\n",
    "    return inputs, targets\n",
    "\n",
    "inputs, targets = generate_disc_data(n=1000)\n",
    "\n",
    "def split_data(inputs, targets, train_part, val_part, test_part):\n",
    "    \"\"\"Splits dataset into training, validation and test set.\n",
    "    \n",
    "    Output:\n",
    "    train-, validation- and test data  : (percentage * n)x2 dimension FloatTensor\n",
    "    train-, validation- and test targets : (percentage * n)x1 dimension LongTensor\n",
    "    \"\"\"\n",
    "    if (train_part + val_part + test_part > 1):\n",
    "        raise ValueError('Requested data partitions too large.')\n",
    "\n",
    "    training_size = math.floor(inputs.size()[0] * train_part)\n",
    "    train_data = inputs.narrow(0, 0, training_size)\n",
    "    train_targets = targets.narrow(0, 0, training_size)\n",
    "\n",
    "    val_size = math.floor(inputs.size()[0] * val_part)\n",
    "    validation_data = inputs.narrow(0, training_size, val_size)\n",
    "    validation_targets = targets.narrow(0, training_size, val_size)\n",
    "\n",
    "    test_size = math.floor(inputs.size()[0] * test_part)\n",
    "    test_data = inputs.narrow(0, training_size+val_size, test_size)\n",
    "    test_targets = targets.narrow(0, training_size+val_size, test_size)\n",
    "    \n",
    "    return train_data, train_targets, validation_data, validation_targets, test_data, test_targets\n",
    "    \n",
    "train_data, train_targets, validation_data, \\\n",
    "    validation_targets, test_data, test_targets = split_data(\n",
    "inputs, targets, 0.7, 0.1, 0.2)\n",
    "    \n",
    "learning_rates = [0.001]\n",
    "\n",
    "# normalize it\n",
    "mean, std = train_data.mean(), train_data.std() \n",
    "train_data.sub_(mean).div_(std)\n",
    "test_data.sub_(mean).div_(std)\n",
    "\n",
    "train_data, train_targets, train_classes = Variable(train_data), Variable(train_targets), Variable(torch.Tensor([0,1]))\n",
    "test_data, test_targets, test_classes = Variable(test_data), Variable(test_targets), Variable(torch.Tensor([0,1]))"
   ]
  },
  {
   "cell_type": "code",
   "execution_count": 25,
   "metadata": {},
   "outputs": [],
   "source": [
    " def calculate_results(result_dct):\n",
    "    k = 0\n",
    "    for j in range(1):\n",
    "        for i in range(len(learning_rates)):\n",
    "            models = [P2()]\n",
    "            model = models[j]\n",
    "            optimizer = op(model.parameters(),lr = learning_rates[i])\n",
    "            if (j == 0):\n",
    "                start_time = time()\n",
    "                loss_aux = train_model_P2(model, optimizer,  train_data, train_targets, NB_EPOCHS, MINI_BATCH_SIZE,losses[0])\n",
    "                end_time = time()\n",
    "            elif (j<2):\n",
    "                #print(\"here\")\n",
    "                start_time = time()\n",
    "                loss_aux = train_model_WS(model, optimizer,  train_data, train_targets, NB_EPOCHS, MINI_BATCH_SIZE,losses[0])\n",
    "                end_time = time()\n",
    "            elif (j==4):\n",
    "                start_time = time()\n",
    "                loss_aux = train_model(model, optimizer,  train_data, train_targets, NB_EPOCHS, MINI_BATCH_SIZE,losses[0])\n",
    "                end_time = time()\n",
    "            elif(j>1):\n",
    "                #print(\"here here\")\n",
    "                start_time = time()\n",
    "                loss_aux = train_model_AM(model, optimizer,  train_data, train_targets, train_classes,NB_EPOCHS, MINI_BATCH_SIZE,losses[0],alpha,beta)\n",
    "                end_time = time()\n",
    "            #print(\"model:\",model)\n",
    "            time_diff = end_time - start_time\n",
    "            print_results(model,op,learning_rates[i],NB_EPOCHS,MINI_BATCH_SIZE, train_data, train_targets,test_data, test_targets, time_diff)\n",
    "            print(result_dct[k])\n",
    "            train_error = model.compute_nb_errors(model, train_data, train_targets, MINI_BATCH_SIZE) / train_data.size(0) * 100\n",
    "            test_error = model.compute_nb_errors(model, test_data, test_targets, MINI_BATCH_SIZE) / test_data.size(0) * 100\n",
    "            result_dct[k]['train_error'].append(train_error)\n",
    "            result_dct[k]['test_error'].append(test_error)\n",
    "            result_dct[k]['time'].append(time_diff)\n",
    "            k += 1\n",
    "    return result_dct\n",
    "            #visualize_loss(model,loss_aux,learning_rates[i])"
   ]
  },
  {
   "cell_type": "code",
   "execution_count": 31,
   "metadata": {},
   "outputs": [
    {
     "name": "stdout",
     "output_type": "stream",
     "text": [
      "defaultdict(<class 'dict'>, {0: {'train_error': [], 'test_error': [], 'time': []}, 1: {'train_error': [], 'test_error': [], 'time': []}, 2: {'train_error': [], 'test_error': [], 'time': []}, 3: {'train_error': [], 'test_error': [], 'time': []}, 4: {'train_error': [], 'test_error': [], 'time': []}, 5: {'train_error': [], 'test_error': [], 'time': []}, 6: {'train_error': [], 'test_error': [], 'time': []}, 7: {'train_error': [], 'test_error': [], 'time': []}, 8: {'train_error': [], 'test_error': [], 'time': []}, 9: {'train_error': [], 'test_error': [], 'time': []}})\n"
     ]
    },
    {
     "ename": "NameError",
     "evalue": "name 'SimpleModel' is not defined",
     "output_type": "error",
     "traceback": [
      "\u001b[1;31m---------------------------------------------------------------------------\u001b[0m",
      "\u001b[1;31mNameError\u001b[0m                                 Traceback (most recent call last)",
      "\u001b[1;32m<ipython-input-31-c77d72dbc2a1>\u001b[0m in \u001b[0;36m<module>\u001b[1;34m\u001b[0m\n\u001b[0;32m     17\u001b[0m \u001b[1;33m\u001b[0m\u001b[0m\n\u001b[0;32m     18\u001b[0m     \u001b[0mprint\u001b[0m\u001b[1;33m(\u001b[0m\u001b[0mresult_dct\u001b[0m\u001b[1;33m)\u001b[0m\u001b[1;33m\u001b[0m\u001b[1;33m\u001b[0m\u001b[0m\n\u001b[1;32m---> 19\u001b[1;33m     \u001b[0mresult_dct\u001b[0m \u001b[1;33m=\u001b[0m \u001b[0mcalculate_results\u001b[0m\u001b[1;33m(\u001b[0m\u001b[0mresult_dct\u001b[0m\u001b[1;33m)\u001b[0m\u001b[1;33m\u001b[0m\u001b[1;33m\u001b[0m\u001b[0m\n\u001b[0m",
      "\u001b[1;32m<ipython-input-25-7ec2d958dce3>\u001b[0m in \u001b[0;36mcalculate_results\u001b[1;34m(result_dct)\u001b[0m\n\u001b[0;32m      3\u001b[0m    \u001b[1;32mfor\u001b[0m \u001b[0mj\u001b[0m \u001b[1;32min\u001b[0m \u001b[0mrange\u001b[0m\u001b[1;33m(\u001b[0m\u001b[1;36m1\u001b[0m\u001b[1;33m)\u001b[0m\u001b[1;33m:\u001b[0m\u001b[1;33m\u001b[0m\u001b[1;33m\u001b[0m\u001b[0m\n\u001b[0;32m      4\u001b[0m        \u001b[1;32mfor\u001b[0m \u001b[0mi\u001b[0m \u001b[1;32min\u001b[0m \u001b[0mrange\u001b[0m\u001b[1;33m(\u001b[0m\u001b[0mlen\u001b[0m\u001b[1;33m(\u001b[0m\u001b[0mlearning_rates\u001b[0m\u001b[1;33m)\u001b[0m\u001b[1;33m)\u001b[0m\u001b[1;33m:\u001b[0m\u001b[1;33m\u001b[0m\u001b[1;33m\u001b[0m\u001b[0m\n\u001b[1;32m----> 5\u001b[1;33m            \u001b[0mmodels\u001b[0m \u001b[1;33m=\u001b[0m \u001b[1;33m[\u001b[0m\u001b[0mP2\u001b[0m\u001b[1;33m(\u001b[0m\u001b[1;33m)\u001b[0m\u001b[1;33m]\u001b[0m\u001b[1;33m\u001b[0m\u001b[1;33m\u001b[0m\u001b[0m\n\u001b[0m\u001b[0;32m      6\u001b[0m            \u001b[0mmodel\u001b[0m \u001b[1;33m=\u001b[0m \u001b[0mmodels\u001b[0m\u001b[1;33m[\u001b[0m\u001b[0mj\u001b[0m\u001b[1;33m]\u001b[0m\u001b[1;33m\u001b[0m\u001b[1;33m\u001b[0m\u001b[0m\n\u001b[0;32m      7\u001b[0m            \u001b[0moptimizer\u001b[0m \u001b[1;33m=\u001b[0m \u001b[0mop\u001b[0m\u001b[1;33m(\u001b[0m\u001b[0mmodel\u001b[0m\u001b[1;33m.\u001b[0m\u001b[0mparameters\u001b[0m\u001b[1;33m(\u001b[0m\u001b[1;33m)\u001b[0m\u001b[1;33m,\u001b[0m\u001b[0mlr\u001b[0m \u001b[1;33m=\u001b[0m \u001b[0mlearning_rates\u001b[0m\u001b[1;33m[\u001b[0m\u001b[0mi\u001b[0m\u001b[1;33m]\u001b[0m\u001b[1;33m)\u001b[0m\u001b[1;33m\u001b[0m\u001b[1;33m\u001b[0m\u001b[0m\n",
      "\u001b[1;32m~\\Documents\\GRADSCHOOL\\Courses\\Spring2019\\DeepLearning\\GitRepos\\DeepLearning2019\\Project1\\P2.py\u001b[0m in \u001b[0;36m__init__\u001b[1;34m(self, nb_hidden)\u001b[0m\n\u001b[0;32m     12\u001b[0m \u001b[1;33m\u001b[0m\u001b[0m\n\u001b[0;32m     13\u001b[0m     \u001b[1;32mdef\u001b[0m \u001b[0m__init__\u001b[0m\u001b[1;33m(\u001b[0m\u001b[0mself\u001b[0m\u001b[1;33m,\u001b[0m \u001b[0mnb_hidden\u001b[0m\u001b[1;33m=\u001b[0m\u001b[1;36m25\u001b[0m\u001b[1;33m)\u001b[0m\u001b[1;33m:\u001b[0m\u001b[1;33m\u001b[0m\u001b[1;33m\u001b[0m\u001b[0m\n\u001b[1;32m---> 14\u001b[1;33m         \u001b[0msuper\u001b[0m\u001b[1;33m(\u001b[0m\u001b[0mP2\u001b[0m\u001b[1;33m,\u001b[0m \u001b[0mself\u001b[0m\u001b[1;33m)\u001b[0m\u001b[1;33m.\u001b[0m\u001b[0m__init__\u001b[0m\u001b[1;33m(\u001b[0m\u001b[1;33m)\u001b[0m\u001b[1;33m\u001b[0m\u001b[1;33m\u001b[0m\u001b[0m\n\u001b[0m\u001b[0;32m     15\u001b[0m         \u001b[0mself\u001b[0m\u001b[1;33m.\u001b[0m\u001b[0mfull1\u001b[0m \u001b[1;33m=\u001b[0m \u001b[0mnn\u001b[0m\u001b[1;33m.\u001b[0m\u001b[0mLinear\u001b[0m\u001b[1;33m(\u001b[0m\u001b[1;36m2\u001b[0m\u001b[1;33m,\u001b[0m \u001b[0mnb_hidden\u001b[0m\u001b[1;33m)\u001b[0m\u001b[1;33m\u001b[0m\u001b[1;33m\u001b[0m\u001b[0m\n\u001b[0;32m     16\u001b[0m         \u001b[0mself\u001b[0m\u001b[1;33m.\u001b[0m\u001b[0mfull2\u001b[0m \u001b[1;33m=\u001b[0m \u001b[0mnn\u001b[0m\u001b[1;33m.\u001b[0m\u001b[0mLinear\u001b[0m\u001b[1;33m(\u001b[0m\u001b[0mnb_hidden\u001b[0m\u001b[1;33m,\u001b[0m \u001b[0mnb_hidden\u001b[0m\u001b[1;33m)\u001b[0m\u001b[1;33m\u001b[0m\u001b[1;33m\u001b[0m\u001b[0m\n",
      "\u001b[1;31mNameError\u001b[0m: name 'SimpleModel' is not defined"
     ]
    }
   ],
   "source": [
    "from collections import defaultdict\n",
    "result_dct = defaultdict(dict)\n",
    "for i in range(10):\n",
    "    result_dct[i]['train_error'] = []\n",
    "    result_dct[i]['test_error'] = []\n",
    "    result_dct[i]['time'] = []\n",
    "for i in range(10):\n",
    "    \n",
    "    train_data, train_targets, train_classes, test_data, test_targets, test_classes = prologue.generate_pair_sets(nb=1000)\n",
    "    # normalize it\n",
    "    mean, std = train_data.mean(), train_data.std() \n",
    "    train_data.sub_(mean).div_(std)\n",
    "    test_data.sub_(mean).div_(std)\n",
    "\n",
    "    train_data, train_targets, train_classes = Variable(train_data), Variable(train_targets), Variable(train_classes)\n",
    "    test_data, test_targets = Variable(test_data), Variable(test_targets)\n",
    "    \n",
    "    print(result_dct)\n",
    "    result_dct = calculate_results(result_dct)"
   ]
  },
  {
   "cell_type": "code",
   "execution_count": null,
   "metadata": {},
   "outputs": [],
   "source": []
  }
 ],
 "metadata": {
  "kernelspec": {
   "display_name": "Python 3",
   "language": "python",
   "name": "python3"
  },
  "language_info": {
   "codemirror_mode": {
    "name": "ipython",
    "version": 3
   },
   "file_extension": ".py",
   "mimetype": "text/x-python",
   "name": "python",
   "nbconvert_exporter": "python",
   "pygments_lexer": "ipython3",
   "version": "3.7.1"
  }
 },
 "nbformat": 4,
 "nbformat_minor": 2
}
